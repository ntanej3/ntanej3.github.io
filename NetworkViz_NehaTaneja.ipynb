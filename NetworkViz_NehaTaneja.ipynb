{
 "cells": [
  {
   "cell_type": "code",
   "execution_count": 1,
   "metadata": {},
   "outputs": [],
   "source": [
    "import json\n",
    "films = json.load(open(\"shared/sp18-is590dv/data/star_wars/films.json\"))"
   ]
  },
  {
   "cell_type": "code",
   "execution_count": 2,
   "metadata": {},
   "outputs": [
    {
     "name": "stdout",
     "output_type": "stream",
     "text": [
      "1\n",
      "2\n",
      "3\n",
      "4\n",
      "5\n",
      "6\n"
     ]
    }
   ],
   "source": [
    "film_list = {}\n",
    "for film in range(len(films)):\n",
    "    print(films[film]['pk'])\n",
    "    film_list[films[film]['pk']] = films[film]['fields']"
   ]
  },
  {
   "cell_type": "code",
   "execution_count": 3,
   "metadata": {},
   "outputs": [],
   "source": [
    "starships_input = json.load(open(\"shared/sp18-is590dv/data/star_wars/starships.json\"))\n",
    "#starships_input1\n"
   ]
  },
  {
   "cell_type": "code",
   "execution_count": 4,
   "metadata": {},
   "outputs": [],
   "source": [
    "\n",
    "starships = {}\n",
    "for starship in starships_input:\n",
    "    starships[starship['pk']] = starship['fields']\n",
    "#starships"
   ]
  },
  {
   "cell_type": "code",
   "execution_count": 5,
   "metadata": {},
   "outputs": [],
   "source": [
    "characters_input = json.load(open(\"shared/sp18-is590dv/data/star_wars/people.json\"))\n",
    "\n"
   ]
  },
  {
   "cell_type": "code",
   "execution_count": 6,
   "metadata": {},
   "outputs": [],
   "source": [
    "characters = {}\n",
    "for character in characters_input:\n",
    "    characters[character['pk']] = character['fields']"
   ]
  },
  {
   "cell_type": "code",
   "execution_count": 7,
   "metadata": {},
   "outputs": [
    {
     "name": "stdout",
     "output_type": "stream",
     "text": [
      "Film:  A New Hope\n",
      "\t\t Luke Skywalker\n",
      "\t\t C-3PO\n",
      "\t\t R2-D2\n",
      "\t\t Darth Vader\n",
      "\t\t Leia Organa\n",
      "\t\t Owen Lars\n",
      "\t\t Beru Whitesun lars\n",
      "\t\t R5-D4\n",
      "\t\t Biggs Darklighter\n",
      "\t\t Obi-Wan Kenobi\n",
      "\t\t Wilhuff Tarkin\n",
      "\t\t Chewbacca\n",
      "\t\t Han Solo\n",
      "\t\t Greedo\n",
      "\t\t Jabba Desilijic Tiure\n",
      "\t\t Wedge Antilles\n",
      "\t\t Jek Tono Porkins\n",
      "\t\t Raymus Antilles\n",
      "\n",
      "Film:  The Empire Strikes Back\n",
      "\t\t Luke Skywalker\n",
      "\t\t C-3PO\n",
      "\t\t R2-D2\n",
      "\t\t Darth Vader\n",
      "\t\t Leia Organa\n",
      "\t\t Obi-Wan Kenobi\n",
      "\t\t Chewbacca\n",
      "\t\t Han Solo\n",
      "\t\t Wedge Antilles\n",
      "\t\t Yoda\n",
      "\t\t Palpatine\n",
      "\t\t Boba Fett\n",
      "\t\t IG-88\n",
      "\t\t Bossk\n",
      "\t\t Lando Calrissian\n",
      "\t\t Lobot\n",
      "\n",
      "Film:  Return of the Jedi\n",
      "\t\t Luke Skywalker\n",
      "\t\t C-3PO\n",
      "\t\t R2-D2\n",
      "\t\t Darth Vader\n",
      "\t\t Leia Organa\n",
      "\t\t Obi-Wan Kenobi\n",
      "\t\t Chewbacca\n",
      "\t\t Han Solo\n",
      "\t\t Jabba Desilijic Tiure\n",
      "\t\t Wedge Antilles\n",
      "\t\t Yoda\n",
      "\t\t Palpatine\n",
      "\t\t Boba Fett\n",
      "\t\t Lando Calrissian\n",
      "\t\t Ackbar\n",
      "\t\t Mon Mothma\n",
      "\t\t Arvel Crynyd\n",
      "\t\t Wicket Systri Warrick\n",
      "\t\t Nien Nunb\n",
      "\t\t Bib Fortuna\n",
      "\n",
      "Film:  The Phantom Menace\n",
      "\t\t C-3PO\n",
      "\t\t R2-D2\n",
      "\t\t Obi-Wan Kenobi\n",
      "\t\t Anakin Skywalker\n",
      "\t\t Jabba Desilijic Tiure\n",
      "\t\t Yoda\n",
      "\t\t Palpatine\n",
      "\t\t Qui-Gon Jinn\n",
      "\t\t Nute Gunray\n",
      "\t\t Finis Valorum\n",
      "\t\t Padmé Amidala\n",
      "\t\t Jar Jar Binks\n",
      "\t\t Roos Tarpals\n",
      "\t\t Rugor Nass\n",
      "\t\t Ric Olié\n",
      "\t\t Watto\n",
      "\t\t Sebulba\n",
      "\t\t Quarsh Panaka\n",
      "\t\t Shmi Skywalker\n",
      "\t\t Darth Maul\n",
      "\t\t Ayla Secura\n",
      "\t\t Ratts Tyerel\n",
      "\t\t Dud Bolt\n",
      "\t\t Gasgano\n",
      "\t\t Ben Quadinaros\n",
      "\t\t Mace Windu\n",
      "\t\t Ki-Adi-Mundi\n",
      "\t\t Kit Fisto\n",
      "\t\t Eeth Koth\n",
      "\t\t Adi Gallia\n",
      "\t\t Saesee Tiin\n",
      "\t\t Yarael Poof\n",
      "\t\t Plo Koon\n",
      "\t\t Mas Amedda\n",
      "\n",
      "Film:  Attack of the Clones\n",
      "\t\t C-3PO\n",
      "\t\t R2-D2\n",
      "\t\t Owen Lars\n",
      "\t\t Beru Whitesun lars\n",
      "\t\t Obi-Wan Kenobi\n",
      "\t\t Anakin Skywalker\n",
      "\t\t Yoda\n",
      "\t\t Palpatine\n",
      "\t\t Boba Fett\n",
      "\t\t Nute Gunray\n",
      "\t\t Padmé Amidala\n",
      "\t\t Jar Jar Binks\n",
      "\t\t Watto\n",
      "\t\t Shmi Skywalker\n",
      "\t\t Ayla Secura\n",
      "\t\t Mace Windu\n",
      "\t\t Ki-Adi-Mundi\n",
      "\t\t Kit Fisto\n",
      "\t\t Plo Koon\n",
      "\t\t Mas Amedda\n",
      "\t\t Gregar Typho\n",
      "\t\t Cordé\n",
      "\t\t Cliegg Lars\n",
      "\t\t Poggle the Lesser\n",
      "\t\t Luminara Unduli\n",
      "\t\t Barriss Offee\n",
      "\t\t Dormé\n",
      "\t\t Dooku\n",
      "\t\t Bail Prestor Organa\n",
      "\t\t Jango Fett\n",
      "\t\t Zam Wesell\n",
      "\t\t Dexter Jettster\n",
      "\t\t Lama Su\n",
      "\t\t Taun We\n",
      "\t\t Jocasta Nu\n",
      "\t\t R4-P17\n",
      "\t\t Wat Tambor\n",
      "\t\t San Hill\n",
      "\t\t Shaak Ti\n",
      "\t\t Sly Moore\n",
      "\n",
      "Film:  Revenge of the Sith\n",
      "\t\t Luke Skywalker\n",
      "\t\t C-3PO\n",
      "\t\t R2-D2\n",
      "\t\t Darth Vader\n",
      "\t\t Leia Organa\n",
      "\t\t Owen Lars\n",
      "\t\t Beru Whitesun lars\n",
      "\t\t Obi-Wan Kenobi\n",
      "\t\t Anakin Skywalker\n",
      "\t\t Wilhuff Tarkin\n",
      "\t\t Chewbacca\n",
      "\t\t Yoda\n",
      "\t\t Palpatine\n",
      "\t\t Nute Gunray\n",
      "\t\t Padmé Amidala\n",
      "\t\t Ayla Secura\n",
      "\t\t Mace Windu\n",
      "\t\t Ki-Adi-Mundi\n",
      "\t\t Kit Fisto\n",
      "\t\t Eeth Koth\n",
      "\t\t Adi Gallia\n",
      "\t\t Saesee Tiin\n",
      "\t\t Plo Koon\n",
      "\t\t Poggle the Lesser\n",
      "\t\t Luminara Unduli\n",
      "\t\t Dooku\n",
      "\t\t Bail Prestor Organa\n",
      "\t\t R4-P17\n",
      "\t\t Shaak Ti\n",
      "\t\t Grievous\n",
      "\t\t Tarfful\n",
      "\t\t Raymus Antilles\n",
      "\t\t Sly Moore\n",
      "\t\t Tion Medon\n",
      "\n"
     ]
    }
   ],
   "source": [
    "for film in films:\n",
    "    print(\"Film: \", film[\"fields\"][\"title\"])\n",
    "    for character in  film[\"fields\"][\"characters\"]:\n",
    "        print(\"\\t\\t\", characters[character][\"name\"])\n",
    "    print()"
   ]
  },
  {
   "cell_type": "code",
   "execution_count": 8,
   "metadata": {},
   "outputs": [
    {
     "name": "stdout",
     "output_type": "stream",
     "text": [
      "Character:  1   Luke Skywalker\n",
      "Character:  2   C-3PO\n",
      "Character:  3   R2-D2\n",
      "Character:  4   Darth Vader\n",
      "Character:  5   Leia Organa\n",
      "Character:  6   Owen Lars\n",
      "Character:  7   Beru Whitesun lars\n",
      "Character:  8   R5-D4\n",
      "Character:  9   Biggs Darklighter\n",
      "Character:  10   Obi-Wan Kenobi\n",
      "Character:  11   Anakin Skywalker\n",
      "Character:  12   Wilhuff Tarkin\n",
      "Character:  13   Chewbacca\n",
      "Character:  14   Han Solo\n",
      "Character:  15   Greedo\n",
      "Character:  16   Jabba Desilijic Tiure\n",
      "Character:  18   Wedge Antilles\n",
      "Character:  19   Jek Tono Porkins\n",
      "Character:  20   Yoda\n",
      "Character:  21   Palpatine\n",
      "Character:  22   Boba Fett\n",
      "Character:  23   IG-88\n",
      "Character:  24   Bossk\n",
      "Character:  25   Lando Calrissian\n",
      "Character:  26   Lobot\n",
      "Character:  27   Ackbar\n",
      "Character:  28   Mon Mothma\n",
      "Character:  29   Arvel Crynyd\n",
      "Character:  30   Wicket Systri Warrick\n",
      "Character:  31   Nien Nunb\n",
      "Character:  32   Qui-Gon Jinn\n",
      "Character:  33   Nute Gunray\n",
      "Character:  34   Finis Valorum\n",
      "Character:  35   Padmé Amidala\n",
      "Character:  36   Jar Jar Binks\n",
      "Character:  37   Roos Tarpals\n",
      "Character:  38   Rugor Nass\n",
      "Character:  39   Ric Olié\n",
      "Character:  40   Watto\n",
      "Character:  41   Sebulba\n",
      "Character:  42   Quarsh Panaka\n",
      "Character:  43   Shmi Skywalker\n",
      "Character:  44   Darth Maul\n",
      "Character:  45   Bib Fortuna\n",
      "Character:  46   Ayla Secura\n",
      "Character:  47   Ratts Tyerel\n",
      "Character:  48   Dud Bolt\n",
      "Character:  49   Gasgano\n",
      "Character:  50   Ben Quadinaros\n",
      "Character:  51   Mace Windu\n",
      "Character:  52   Ki-Adi-Mundi\n",
      "Character:  53   Kit Fisto\n",
      "Character:  54   Eeth Koth\n",
      "Character:  55   Adi Gallia\n",
      "Character:  56   Saesee Tiin\n",
      "Character:  57   Yarael Poof\n",
      "Character:  58   Plo Koon\n",
      "Character:  59   Mas Amedda\n",
      "Character:  60   Gregar Typho\n",
      "Character:  61   Cordé\n",
      "Character:  62   Cliegg Lars\n",
      "Character:  63   Poggle the Lesser\n",
      "Character:  64   Luminara Unduli\n",
      "Character:  65   Barriss Offee\n",
      "Character:  66   Dormé\n",
      "Character:  67   Dooku\n",
      "Character:  68   Bail Prestor Organa\n",
      "Character:  69   Jango Fett\n",
      "Character:  70   Zam Wesell\n",
      "Character:  71   Dexter Jettster\n",
      "Character:  72   Lama Su\n",
      "Character:  73   Taun We\n",
      "Character:  74   Jocasta Nu\n",
      "Character:  75   R4-P17\n",
      "Character:  76   Wat Tambor\n",
      "Character:  77   San Hill\n",
      "Character:  78   Shaak Ti\n",
      "Character:  79   Grievous\n",
      "Character:  80   Tarfful\n",
      "Character:  81   Raymus Antilles\n",
      "Character:  82   Sly Moore\n",
      "Character:  83   Tion Medon\n"
     ]
    }
   ],
   "source": [
    "node_with_chars_and_respective_movies = []\n",
    "\n",
    "for character_pk in characters:\n",
    "    print(\"Character: \",character_pk, \" \", characters[character_pk][\"name\"])\n",
    "    media = []\n",
    "    for film in film_list:\n",
    "        #print(film_list[film][\"starships\"])\n",
    "       \n",
    "        for starship_char in film_list[film][\"characters\"]:\n",
    "            #print(starship_char)\n",
    "            if(character_pk == starship_char):\n",
    "                #print(\"\\t\", film_list[film][\"title\"])\n",
    "                media.append(film_list[film][\"title\"])\n",
    "     \n",
    "    a = {\"label\":characters[character_pk][\"name\"], \"media\": media}\n",
    "    node_with_chars_and_respective_movies.append(a)\n",
    "                    "
   ]
  },
  {
   "cell_type": "code",
   "execution_count": 9,
   "metadata": {},
   "outputs": [],
   "source": [
    "import bqplot"
   ]
  },
  {
   "cell_type": "code",
   "execution_count": 10,
   "metadata": {},
   "outputs": [],
   "source": [
    "chars = [\"Boba Fett\", \"Yoda\", \"Jabba Desilijic Tiure\", \"Darth Vader\", \"Obi-Wan Kenobi\",\n",
    "         \"Beru Whitesun lars\", \"Mon Mothma\"]"
   ]
  },
  {
   "cell_type": "code",
   "execution_count": 11,
   "metadata": {},
   "outputs": [
    {
     "data": {
      "text/plain": [
       "[{'label': 'Darth Vader',\n",
       "  'media': ['A New Hope',\n",
       "   'The Empire Strikes Back',\n",
       "   'Return of the Jedi',\n",
       "   'Revenge of the Sith']},\n",
       " {'label': 'Beru Whitesun lars',\n",
       "  'media': ['A New Hope', 'Attack of the Clones', 'Revenge of the Sith']},\n",
       " {'label': 'Obi-Wan Kenobi',\n",
       "  'media': ['A New Hope',\n",
       "   'The Empire Strikes Back',\n",
       "   'Return of the Jedi',\n",
       "   'The Phantom Menace',\n",
       "   'Attack of the Clones',\n",
       "   'Revenge of the Sith']},\n",
       " {'label': 'Jabba Desilijic Tiure',\n",
       "  'media': ['A New Hope', 'Return of the Jedi', 'The Phantom Menace']},\n",
       " {'label': 'Yoda',\n",
       "  'media': ['The Empire Strikes Back',\n",
       "   'Return of the Jedi',\n",
       "   'The Phantom Menace',\n",
       "   'Attack of the Clones',\n",
       "   'Revenge of the Sith']},\n",
       " {'label': 'Boba Fett',\n",
       "  'media': ['The Empire Strikes Back',\n",
       "   'Return of the Jedi',\n",
       "   'Attack of the Clones']},\n",
       " {'label': 'Mon Mothma', 'media': ['Return of the Jedi']}]"
      ]
     },
     "execution_count": 11,
     "metadata": {},
     "output_type": "execute_result"
    }
   ],
   "source": [
    "chars1 = []    \n",
    "for i in range(len(node_with_chars_and_respective_movies)):\n",
    "    if (node_with_chars_and_respective_movies[i]['label'] in chars):\n",
    "        chars1.append(node_with_chars_and_respective_movies[i])\n",
    "chars1     "
   ]
  },
  {
   "cell_type": "code",
   "execution_count": 12,
   "metadata": {},
   "outputs": [
    {
     "name": "stdout",
     "output_type": "stream",
     "text": [
      "A New Hope\n",
      "\t\t Darth Vader\n",
      "\t\t Beru Whitesun lars\n",
      "\t\t Obi-Wan Kenobi\n",
      "\t\t Jabba Desilijic Tiure\n",
      "\n",
      "The Empire Strikes Back\n",
      "\t\t Darth Vader\n",
      "\t\t Obi-Wan Kenobi\n",
      "\t\t Yoda\n",
      "\t\t Boba Fett\n",
      "\n",
      "Return of the Jedi\n",
      "\t\t Darth Vader\n",
      "\t\t Obi-Wan Kenobi\n",
      "\t\t Jabba Desilijic Tiure\n",
      "\t\t Yoda\n",
      "\t\t Boba Fett\n",
      "\t\t Mon Mothma\n",
      "\n",
      "The Phantom Menace\n",
      "\t\t Obi-Wan Kenobi\n",
      "\t\t Jabba Desilijic Tiure\n",
      "\t\t Yoda\n",
      "\n",
      "Attack of the Clones\n",
      "\t\t Beru Whitesun lars\n",
      "\t\t Obi-Wan Kenobi\n",
      "\t\t Yoda\n",
      "\t\t Boba Fett\n",
      "\n",
      "Revenge of the Sith\n",
      "\t\t Darth Vader\n",
      "\t\t Beru Whitesun lars\n",
      "\t\t Obi-Wan Kenobi\n",
      "\t\t Yoda\n",
      "\n"
     ]
    }
   ],
   "source": [
    "for film in films:\n",
    "    film_chars = film[\"fields\"][\"characters\"]\n",
    "    print(film[\"fields\"][\"title\"])\n",
    "    for character in film_chars:\n",
    "        if characters[character][\"name\"] in chars: \n",
    "            print(\"\\t\\t\",characters[character][\"name\"])\n",
    "    print()"
   ]
  },
  {
   "cell_type": "code",
   "execution_count": 14,
   "metadata": {},
   "outputs": [
    {
     "data": {
      "application/vnd.jupyter.widget-view+json": {
       "model_id": "cd4a2137a22b4481a604fa61511e0173",
       "version_major": 2,
       "version_minor": 0
      },
      "text/plain": [
       "Figure(fig_margin={'top': 0, 'bottom': 10, 'left': 0, 'right': 0}, layout=Layout(height='500px', min_width='12…"
      ]
     },
     "metadata": {},
     "output_type": "display_data"
    }
   ],
   "source": [
    "link_data = []\n",
    "for file in films:\n",
    "    film_chars = file[\"fields\"][\"characters\"]\n",
    "    for character1 in film_chars:\n",
    "        \n",
    "        name1 = characters[character1][\"name\"]\n",
    "        if name1 not in chars: \n",
    "            continue\n",
    "        for character2 in film_chars:\n",
    "            name2 = characters[character2][\"name\"]\n",
    "            if name2 not in chars: \n",
    "                continue\n",
    "            link_data.append({'source' : chars.index(name1), 'target' : chars.index(name2)})\n",
    "            \n",
    "            #print(\"\\t\\t\",link_data)\n",
    "            #print()\n",
    "        #print(\"\\t\",link_data)\n",
    "    #print(link_data)\n",
    "tooltip = bqplot.Tooltip(fields = [\"label\", \"media\"])\n",
    "\n",
    "def print_stars_with_movies(obj, element):\n",
    "    print(\"Character: \",element[\"data\"][\"label\"])\n",
    "    print(\"\\tin Movies\",element[\"data\"][\"media\"])\n",
    "    print(\" \")\n",
    "    \n",
    "\n",
    "\n",
    "graph = bqplot.Graph(node_data = chars1, \n",
    "                     link_data=link_data,\n",
    "                     tooltip = tooltip,\n",
    "                     charge = 100, \n",
    "                     link_distance = 300)\n",
    "\n",
    "fig = bqplot.Figure(marks = [graph], fig_margin={'top':0, 'bottom':10, 'left':0, 'right':0})\n",
    "fig.title = \"Star War characters with the link as common movies\"\n",
    "fig.layout.height = '500px'\n",
    "fig.layout.width = \"700px\"\n",
    "display(fig)\n",
    "\n",
    "graph.on_element_click(print_stars_with_movies)"
   ]
  },
  {
   "cell_type": "code",
   "execution_count": null,
   "metadata": {},
   "outputs": [],
   "source": []
  },
  {
   "cell_type": "code",
   "execution_count": null,
   "metadata": {},
   "outputs": [],
   "source": []
  }
 ],
 "metadata": {
  "kernelspec": {
   "display_name": "Environment (conda_is590dv-default)",
   "language": "python",
   "name": "conda_is590dv-default"
  },
  "language_info": {
   "codemirror_mode": {
    "name": "ipython",
    "version": 3
   },
   "file_extension": ".py",
   "mimetype": "text/x-python",
   "name": "python",
   "nbconvert_exporter": "python",
   "pygments_lexer": "ipython3",
   "version": "3.6.6"
  },
  "widgets": {
   "application/vnd.jupyter.widget-state+json": {
    "state": {
     "29f8695bf102409abb5fcea3dda492f2": {
      "model_module": "bqplot",
      "model_module_version": "^0.4.1",
      "model_name": "TooltipModel",
      "state": {
       "_model_module_version": "^0.4.1",
       "_view_module_version": "^0.4.1",
       "fields": [
        "label",
        "media"
       ],
       "layout": "IPY_MODEL_deb035e41e944eee9291a69b5337b848"
      }
     },
     "30fed0ed2e974e41bc9d93f36eff5db0": {
      "model_module": "@jupyter-widgets/base",
      "model_module_version": "1.1.0",
      "model_name": "LayoutModel",
      "state": {
       "height": "500px",
       "min_width": "125px",
       "width": "700px"
      }
     },
     "3db037b346454050ab6245c814028d69": {
      "model_module": "bqplot",
      "model_module_version": "^0.4.1",
      "model_name": "LinearScaleModel",
      "state": {
       "_model_module_version": "^0.4.1",
       "_view_module_version": "^0.4.1",
       "allow_padding": false,
       "max": 1,
       "min": 0,
       "stabilized": false
      }
     },
     "4592309216ee482fb04e4728f3d14dd1": {
      "model_module": "bqplot",
      "model_module_version": "^0.4.1",
      "model_name": "LinearScaleModel",
      "state": {
       "_model_module_version": "^0.4.1",
       "_view_module_version": "^0.4.1",
       "allow_padding": false,
       "max": 1,
       "min": 0,
       "stabilized": false
      }
     },
     "649679f9c871417bb40dcbaae52c16c9": {
      "model_module": "bqplot",
      "model_module_version": "^0.4.1",
      "model_name": "GraphModel",
      "state": {
       "_model_module": "bqplot",
       "_model_module_version": "^0.4.1",
       "_view_count": null,
       "_view_module": "bqplot",
       "_view_module_version": "^0.4.1",
       "apply_clip": true,
       "charge": 300,
       "color": {
        "type": null,
        "values": null
       },
       "colors": [
        "#1f77b4",
        "#ff7f0e",
        "#2ca02c",
        "#d62728",
        "#9467bd",
        "#8c564b",
        "#e377c2",
        "#7f7f7f",
        "#bcbd22",
        "#17becf"
       ],
       "directed": true,
       "display_legend": false,
       "enable_hover": true,
       "highlight_links": true,
       "hovered_style": {},
       "interactions": {
        "click": "select",
        "hover": "tooltip"
       },
       "labels": [],
       "link_color": {
        "type": "float",
        "values": []
       },
       "link_data": [
        {
         "source": {
          "index": 3,
          "label": "Jabba Desilijic Tiure",
          "label_display": "center",
          "media": [
           "A New Hope",
           "Return of the Jedi",
           "The Phantom Menace"
          ],
          "px": 178.1818446294858,
          "py": 263.89650702479764,
          "shape": "circle",
          "shape_attrs": {
           "r": 15
          },
          "value": null,
          "weight": 36,
          "x": 178.19288193902784,
          "y": 263.90647904432336
         },
         "target": {
          "index": 3,
          "label": "Jabba Desilijic Tiure",
          "label_display": "center",
          "media": [
           "A New Hope",
           "Return of the Jedi",
           "The Phantom Menace"
          ],
          "px": 178.1818446294858,
          "py": 263.89650702479764,
          "shape": "circle",
          "shape_attrs": {
           "r": 15
          },
          "value": null,
          "weight": 36,
          "x": 178.19288193902784,
          "y": 263.90647904432336
         }
        },
        {
         "source": {
          "index": 3,
          "label": "Jabba Desilijic Tiure",
          "label_display": "center",
          "media": [
           "A New Hope",
           "Return of the Jedi",
           "The Phantom Menace"
          ],
          "px": 178.1818446294858,
          "py": 263.89650702479764,
          "shape": "circle",
          "shape_attrs": {
           "r": 15
          },
          "value": null,
          "weight": 36,
          "x": 178.19288193902784,
          "y": 263.90647904432336
         },
         "target": {
          "fixed": 0,
          "index": 5,
          "label": "Boba Fett",
          "label_display": "center",
          "media": [
           "The Empire Strikes Back",
           "Return of the Jedi",
           "Attack of the Clones"
          ],
          "px": 232.11268809838052,
          "py": 107.70210738338855,
          "shape": "circle",
          "shape_attrs": {
           "r": 15
          },
          "value": null,
          "weight": 24,
          "x": 232.11872212842874,
          "y": 107.72164586384166
         }
        },
        {
         "source": {
          "index": 3,
          "label": "Jabba Desilijic Tiure",
          "label_display": "center",
          "media": [
           "A New Hope",
           "Return of the Jedi",
           "The Phantom Menace"
          ],
          "px": 178.1818446294858,
          "py": 263.89650702479764,
          "shape": "circle",
          "shape_attrs": {
           "r": 15
          },
          "value": null,
          "weight": 36,
          "x": 178.19288193902784,
          "y": 263.90647904432336
         },
         "target": {
          "index": 4,
          "label": "Yoda",
          "label_display": "center",
          "media": [
           "The Empire Strikes Back",
           "Return of the Jedi",
           "The Phantom Menace",
           "Attack of the Clones",
           "Revenge of the Sith"
          ],
          "px": 437.68286481808394,
          "py": 387.57511461240193,
          "shape": "circle",
          "shape_attrs": {
           "r": 15
          },
          "value": null,
          "weight": 50,
          "x": 437.6801788187055,
          "y": 387.55689395262834
         }
        },
        {
         "source": {
          "index": 3,
          "label": "Jabba Desilijic Tiure",
          "label_display": "center",
          "media": [
           "A New Hope",
           "Return of the Jedi",
           "The Phantom Menace"
          ],
          "px": 178.1818446294858,
          "py": 263.89650702479764,
          "shape": "circle",
          "shape_attrs": {
           "r": 15
          },
          "value": null,
          "weight": 36,
          "x": 178.19288193902784,
          "y": 263.90647904432336
         },
         "target": {
          "index": 2,
          "label": "Obi-Wan Kenobi",
          "label_display": "center",
          "media": [
           "A New Hope",
           "The Empire Strikes Back",
           "Return of the Jedi",
           "The Phantom Menace",
           "Attack of the Clones",
           "Revenge of the Sith"
          ],
          "px": 229.61125860763232,
          "py": 435.16614773725325,
          "shape": "circle",
          "shape_attrs": {
           "r": 15
          },
          "value": null,
          "weight": 26,
          "x": 229.62182843417617,
          "y": 435.1644833392846
         }
        },
        {
         "source": {
          "fixed": 0,
          "index": 5,
          "label": "Boba Fett",
          "label_display": "center",
          "media": [
           "The Empire Strikes Back",
           "Return of the Jedi",
           "Attack of the Clones"
          ],
          "px": 232.11268809838052,
          "py": 107.70210738338855,
          "shape": "circle",
          "shape_attrs": {
           "r": 15
          },
          "value": null,
          "weight": 24,
          "x": 232.11872212842874,
          "y": 107.72164586384166
         },
         "target": {
          "index": 3,
          "label": "Jabba Desilijic Tiure",
          "label_display": "center",
          "media": [
           "A New Hope",
           "Return of the Jedi",
           "The Phantom Menace"
          ],
          "px": 178.1818446294858,
          "py": 263.89650702479764,
          "shape": "circle",
          "shape_attrs": {
           "r": 15
          },
          "value": null,
          "weight": 36,
          "x": 178.19288193902784,
          "y": 263.90647904432336
         }
        },
        {
         "source": {
          "fixed": 0,
          "index": 5,
          "label": "Boba Fett",
          "label_display": "center",
          "media": [
           "The Empire Strikes Back",
           "Return of the Jedi",
           "Attack of the Clones"
          ],
          "px": 232.11268809838052,
          "py": 107.70210738338855,
          "shape": "circle",
          "shape_attrs": {
           "r": 15
          },
          "value": null,
          "weight": 24,
          "x": 232.11872212842874,
          "y": 107.72164586384166
         },
         "target": {
          "fixed": 0,
          "index": 5,
          "label": "Boba Fett",
          "label_display": "center",
          "media": [
           "The Empire Strikes Back",
           "Return of the Jedi",
           "Attack of the Clones"
          ],
          "px": 232.11268809838052,
          "py": 107.70210738338855,
          "shape": "circle",
          "shape_attrs": {
           "r": 15
          },
          "value": null,
          "weight": 24,
          "x": 232.11872212842874,
          "y": 107.72164586384166
         }
        },
        {
         "source": {
          "fixed": 0,
          "index": 5,
          "label": "Boba Fett",
          "label_display": "center",
          "media": [
           "The Empire Strikes Back",
           "Return of the Jedi",
           "Attack of the Clones"
          ],
          "px": 232.11268809838052,
          "py": 107.70210738338855,
          "shape": "circle",
          "shape_attrs": {
           "r": 15
          },
          "value": null,
          "weight": 24,
          "x": 232.11872212842874,
          "y": 107.72164586384166
         },
         "target": {
          "index": 4,
          "label": "Yoda",
          "label_display": "center",
          "media": [
           "The Empire Strikes Back",
           "Return of the Jedi",
           "The Phantom Menace",
           "Attack of the Clones",
           "Revenge of the Sith"
          ],
          "px": 437.68286481808394,
          "py": 387.57511461240193,
          "shape": "circle",
          "shape_attrs": {
           "r": 15
          },
          "value": null,
          "weight": 50,
          "x": 437.6801788187055,
          "y": 387.55689395262834
         }
        },
        {
         "source": {
          "fixed": 0,
          "index": 5,
          "label": "Boba Fett",
          "label_display": "center",
          "media": [
           "The Empire Strikes Back",
           "Return of the Jedi",
           "Attack of the Clones"
          ],
          "px": 232.11268809838052,
          "py": 107.70210738338855,
          "shape": "circle",
          "shape_attrs": {
           "r": 15
          },
          "value": null,
          "weight": 24,
          "x": 232.11872212842874,
          "y": 107.72164586384166
         },
         "target": {
          "index": 2,
          "label": "Obi-Wan Kenobi",
          "label_display": "center",
          "media": [
           "A New Hope",
           "The Empire Strikes Back",
           "Return of the Jedi",
           "The Phantom Menace",
           "Attack of the Clones",
           "Revenge of the Sith"
          ],
          "px": 229.61125860763232,
          "py": 435.16614773725325,
          "shape": "circle",
          "shape_attrs": {
           "r": 15
          },
          "value": null,
          "weight": 26,
          "x": 229.62182843417617,
          "y": 435.1644833392846
         }
        },
        {
         "source": {
          "index": 4,
          "label": "Yoda",
          "label_display": "center",
          "media": [
           "The Empire Strikes Back",
           "Return of the Jedi",
           "The Phantom Menace",
           "Attack of the Clones",
           "Revenge of the Sith"
          ],
          "px": 437.68286481808394,
          "py": 387.57511461240193,
          "shape": "circle",
          "shape_attrs": {
           "r": 15
          },
          "value": null,
          "weight": 50,
          "x": 437.6801788187055,
          "y": 387.55689395262834
         },
         "target": {
          "index": 3,
          "label": "Jabba Desilijic Tiure",
          "label_display": "center",
          "media": [
           "A New Hope",
           "Return of the Jedi",
           "The Phantom Menace"
          ],
          "px": 178.1818446294858,
          "py": 263.89650702479764,
          "shape": "circle",
          "shape_attrs": {
           "r": 15
          },
          "value": null,
          "weight": 36,
          "x": 178.19288193902784,
          "y": 263.90647904432336
         }
        },
        {
         "source": {
          "index": 4,
          "label": "Yoda",
          "label_display": "center",
          "media": [
           "The Empire Strikes Back",
           "Return of the Jedi",
           "The Phantom Menace",
           "Attack of the Clones",
           "Revenge of the Sith"
          ],
          "px": 437.68286481808394,
          "py": 387.57511461240193,
          "shape": "circle",
          "shape_attrs": {
           "r": 15
          },
          "value": null,
          "weight": 50,
          "x": 437.6801788187055,
          "y": 387.55689395262834
         },
         "target": {
          "fixed": 0,
          "index": 5,
          "label": "Boba Fett",
          "label_display": "center",
          "media": [
           "The Empire Strikes Back",
           "Return of the Jedi",
           "Attack of the Clones"
          ],
          "px": 232.11268809838052,
          "py": 107.70210738338855,
          "shape": "circle",
          "shape_attrs": {
           "r": 15
          },
          "value": null,
          "weight": 24,
          "x": 232.11872212842874,
          "y": 107.72164586384166
         }
        },
        {
         "source": {
          "index": 4,
          "label": "Yoda",
          "label_display": "center",
          "media": [
           "The Empire Strikes Back",
           "Return of the Jedi",
           "The Phantom Menace",
           "Attack of the Clones",
           "Revenge of the Sith"
          ],
          "px": 437.68286481808394,
          "py": 387.57511461240193,
          "shape": "circle",
          "shape_attrs": {
           "r": 15
          },
          "value": null,
          "weight": 50,
          "x": 437.6801788187055,
          "y": 387.55689395262834
         },
         "target": {
          "index": 4,
          "label": "Yoda",
          "label_display": "center",
          "media": [
           "The Empire Strikes Back",
           "Return of the Jedi",
           "The Phantom Menace",
           "Attack of the Clones",
           "Revenge of the Sith"
          ],
          "px": 437.68286481808394,
          "py": 387.57511461240193,
          "shape": "circle",
          "shape_attrs": {
           "r": 15
          },
          "value": null,
          "weight": 50,
          "x": 437.6801788187055,
          "y": 387.55689395262834
         }
        },
        {
         "source": {
          "index": 4,
          "label": "Yoda",
          "label_display": "center",
          "media": [
           "The Empire Strikes Back",
           "Return of the Jedi",
           "The Phantom Menace",
           "Attack of the Clones",
           "Revenge of the Sith"
          ],
          "px": 437.68286481808394,
          "py": 387.57511461240193,
          "shape": "circle",
          "shape_attrs": {
           "r": 15
          },
          "value": null,
          "weight": 50,
          "x": 437.6801788187055,
          "y": 387.55689395262834
         },
         "target": {
          "index": 2,
          "label": "Obi-Wan Kenobi",
          "label_display": "center",
          "media": [
           "A New Hope",
           "The Empire Strikes Back",
           "Return of the Jedi",
           "The Phantom Menace",
           "Attack of the Clones",
           "Revenge of the Sith"
          ],
          "px": 229.61125860763232,
          "py": 435.16614773725325,
          "shape": "circle",
          "shape_attrs": {
           "r": 15
          },
          "value": null,
          "weight": 26,
          "x": 229.62182843417617,
          "y": 435.1644833392846
         }
        },
        {
         "source": {
          "index": 2,
          "label": "Obi-Wan Kenobi",
          "label_display": "center",
          "media": [
           "A New Hope",
           "The Empire Strikes Back",
           "Return of the Jedi",
           "The Phantom Menace",
           "Attack of the Clones",
           "Revenge of the Sith"
          ],
          "px": 229.61125860763232,
          "py": 435.16614773725325,
          "shape": "circle",
          "shape_attrs": {
           "r": 15
          },
          "value": null,
          "weight": 26,
          "x": 229.62182843417617,
          "y": 435.1644833392846
         },
         "target": {
          "index": 3,
          "label": "Jabba Desilijic Tiure",
          "label_display": "center",
          "media": [
           "A New Hope",
           "Return of the Jedi",
           "The Phantom Menace"
          ],
          "px": 178.1818446294858,
          "py": 263.89650702479764,
          "shape": "circle",
          "shape_attrs": {
           "r": 15
          },
          "value": null,
          "weight": 36,
          "x": 178.19288193902784,
          "y": 263.90647904432336
         }
        },
        {
         "source": {
          "index": 2,
          "label": "Obi-Wan Kenobi",
          "label_display": "center",
          "media": [
           "A New Hope",
           "The Empire Strikes Back",
           "Return of the Jedi",
           "The Phantom Menace",
           "Attack of the Clones",
           "Revenge of the Sith"
          ],
          "px": 229.61125860763232,
          "py": 435.16614773725325,
          "shape": "circle",
          "shape_attrs": {
           "r": 15
          },
          "value": null,
          "weight": 26,
          "x": 229.62182843417617,
          "y": 435.1644833392846
         },
         "target": {
          "fixed": 0,
          "index": 5,
          "label": "Boba Fett",
          "label_display": "center",
          "media": [
           "The Empire Strikes Back",
           "Return of the Jedi",
           "Attack of the Clones"
          ],
          "px": 232.11268809838052,
          "py": 107.70210738338855,
          "shape": "circle",
          "shape_attrs": {
           "r": 15
          },
          "value": null,
          "weight": 24,
          "x": 232.11872212842874,
          "y": 107.72164586384166
         }
        },
        {
         "source": {
          "index": 2,
          "label": "Obi-Wan Kenobi",
          "label_display": "center",
          "media": [
           "A New Hope",
           "The Empire Strikes Back",
           "Return of the Jedi",
           "The Phantom Menace",
           "Attack of the Clones",
           "Revenge of the Sith"
          ],
          "px": 229.61125860763232,
          "py": 435.16614773725325,
          "shape": "circle",
          "shape_attrs": {
           "r": 15
          },
          "value": null,
          "weight": 26,
          "x": 229.62182843417617,
          "y": 435.1644833392846
         },
         "target": {
          "index": 4,
          "label": "Yoda",
          "label_display": "center",
          "media": [
           "The Empire Strikes Back",
           "Return of the Jedi",
           "The Phantom Menace",
           "Attack of the Clones",
           "Revenge of the Sith"
          ],
          "px": 437.68286481808394,
          "py": 387.57511461240193,
          "shape": "circle",
          "shape_attrs": {
           "r": 15
          },
          "value": null,
          "weight": 50,
          "x": 437.6801788187055,
          "y": 387.55689395262834
         }
        },
        {
         "source": {
          "index": 2,
          "label": "Obi-Wan Kenobi",
          "label_display": "center",
          "media": [
           "A New Hope",
           "The Empire Strikes Back",
           "Return of the Jedi",
           "The Phantom Menace",
           "Attack of the Clones",
           "Revenge of the Sith"
          ],
          "px": 229.61125860763232,
          "py": 435.16614773725325,
          "shape": "circle",
          "shape_attrs": {
           "r": 15
          },
          "value": null,
          "weight": 26,
          "x": 229.62182843417617,
          "y": 435.1644833392846
         },
         "target": {
          "index": 2,
          "label": "Obi-Wan Kenobi",
          "label_display": "center",
          "media": [
           "A New Hope",
           "The Empire Strikes Back",
           "Return of the Jedi",
           "The Phantom Menace",
           "Attack of the Clones",
           "Revenge of the Sith"
          ],
          "px": 229.61125860763232,
          "py": 435.16614773725325,
          "shape": "circle",
          "shape_attrs": {
           "r": 15
          },
          "value": null,
          "weight": 26,
          "x": 229.62182843417617,
          "y": 435.1644833392846
         }
        },
        {
         "source": {
          "index": 3,
          "label": "Jabba Desilijic Tiure",
          "label_display": "center",
          "media": [
           "A New Hope",
           "Return of the Jedi",
           "The Phantom Menace"
          ],
          "px": 178.1818446294858,
          "py": 263.89650702479764,
          "shape": "circle",
          "shape_attrs": {
           "r": 15
          },
          "value": null,
          "weight": 36,
          "x": 178.19288193902784,
          "y": 263.90647904432336
         },
         "target": {
          "index": 3,
          "label": "Jabba Desilijic Tiure",
          "label_display": "center",
          "media": [
           "A New Hope",
           "Return of the Jedi",
           "The Phantom Menace"
          ],
          "px": 178.1818446294858,
          "py": 263.89650702479764,
          "shape": "circle",
          "shape_attrs": {
           "r": 15
          },
          "value": null,
          "weight": 36,
          "x": 178.19288193902784,
          "y": 263.90647904432336
         }
        },
        {
         "source": {
          "index": 3,
          "label": "Jabba Desilijic Tiure",
          "label_display": "center",
          "media": [
           "A New Hope",
           "Return of the Jedi",
           "The Phantom Menace"
          ],
          "px": 178.1818446294858,
          "py": 263.89650702479764,
          "shape": "circle",
          "shape_attrs": {
           "r": 15
          },
          "value": null,
          "weight": 36,
          "x": 178.19288193902784,
          "y": 263.90647904432336
         },
         "target": {
          "index": 4,
          "label": "Yoda",
          "label_display": "center",
          "media": [
           "The Empire Strikes Back",
           "Return of the Jedi",
           "The Phantom Menace",
           "Attack of the Clones",
           "Revenge of the Sith"
          ],
          "px": 437.68286481808394,
          "py": 387.57511461240193,
          "shape": "circle",
          "shape_attrs": {
           "r": 15
          },
          "value": null,
          "weight": 50,
          "x": 437.6801788187055,
          "y": 387.55689395262834
         }
        },
        {
         "source": {
          "index": 3,
          "label": "Jabba Desilijic Tiure",
          "label_display": "center",
          "media": [
           "A New Hope",
           "Return of the Jedi",
           "The Phantom Menace"
          ],
          "px": 178.1818446294858,
          "py": 263.89650702479764,
          "shape": "circle",
          "shape_attrs": {
           "r": 15
          },
          "value": null,
          "weight": 36,
          "x": 178.19288193902784,
          "y": 263.90647904432336
         },
         "target": {
          "fixed": 0,
          "index": 1,
          "label": "Beru Whitesun lars",
          "label_display": "center",
          "media": [
           "A New Hope",
           "Attack of the Clones",
           "Revenge of the Sith"
          ],
          "px": 510.8458713772954,
          "py": 140.57404862910994,
          "shape": "circle",
          "shape_attrs": {
           "r": 15
          },
          "value": null,
          "weight": 42,
          "x": 510.8154653184186,
          "y": 140.58391009085472
         }
        },
        {
         "source": {
          "index": 3,
          "label": "Jabba Desilijic Tiure",
          "label_display": "center",
          "media": [
           "A New Hope",
           "Return of the Jedi",
           "The Phantom Menace"
          ],
          "px": 178.1818446294858,
          "py": 263.89650702479764,
          "shape": "circle",
          "shape_attrs": {
           "r": 15
          },
          "value": null,
          "weight": 36,
          "x": 178.19288193902784,
          "y": 263.90647904432336
         },
         "target": {
          "fixed": 0,
          "index": 0,
          "label": "Darth Vader",
          "label_display": "center",
          "media": [
           "A New Hope",
           "The Empire Strikes Back",
           "Return of the Jedi",
           "Revenge of the Sith"
          ],
          "px": 317.54347624035074,
          "py": 56.988266818516465,
          "shape": "circle",
          "shape_attrs": {
           "r": 15
          },
          "value": null,
          "weight": 28,
          "x": 317.5191650486815,
          "y": 57.019581844208716
         }
        },
        {
         "source": {
          "index": 4,
          "label": "Yoda",
          "label_display": "center",
          "media": [
           "The Empire Strikes Back",
           "Return of the Jedi",
           "The Phantom Menace",
           "Attack of the Clones",
           "Revenge of the Sith"
          ],
          "px": 437.68286481808394,
          "py": 387.57511461240193,
          "shape": "circle",
          "shape_attrs": {
           "r": 15
          },
          "value": null,
          "weight": 50,
          "x": 437.6801788187055,
          "y": 387.55689395262834
         },
         "target": {
          "index": 3,
          "label": "Jabba Desilijic Tiure",
          "label_display": "center",
          "media": [
           "A New Hope",
           "Return of the Jedi",
           "The Phantom Menace"
          ],
          "px": 178.1818446294858,
          "py": 263.89650702479764,
          "shape": "circle",
          "shape_attrs": {
           "r": 15
          },
          "value": null,
          "weight": 36,
          "x": 178.19288193902784,
          "y": 263.90647904432336
         }
        },
        {
         "source": {
          "index": 4,
          "label": "Yoda",
          "label_display": "center",
          "media": [
           "The Empire Strikes Back",
           "Return of the Jedi",
           "The Phantom Menace",
           "Attack of the Clones",
           "Revenge of the Sith"
          ],
          "px": 437.68286481808394,
          "py": 387.57511461240193,
          "shape": "circle",
          "shape_attrs": {
           "r": 15
          },
          "value": null,
          "weight": 50,
          "x": 437.6801788187055,
          "y": 387.55689395262834
         },
         "target": {
          "index": 4,
          "label": "Yoda",
          "label_display": "center",
          "media": [
           "The Empire Strikes Back",
           "Return of the Jedi",
           "The Phantom Menace",
           "Attack of the Clones",
           "Revenge of the Sith"
          ],
          "px": 437.68286481808394,
          "py": 387.57511461240193,
          "shape": "circle",
          "shape_attrs": {
           "r": 15
          },
          "value": null,
          "weight": 50,
          "x": 437.6801788187055,
          "y": 387.55689395262834
         }
        },
        {
         "source": {
          "index": 4,
          "label": "Yoda",
          "label_display": "center",
          "media": [
           "The Empire Strikes Back",
           "Return of the Jedi",
           "The Phantom Menace",
           "Attack of the Clones",
           "Revenge of the Sith"
          ],
          "px": 437.68286481808394,
          "py": 387.57511461240193,
          "shape": "circle",
          "shape_attrs": {
           "r": 15
          },
          "value": null,
          "weight": 50,
          "x": 437.6801788187055,
          "y": 387.55689395262834
         },
         "target": {
          "fixed": 0,
          "index": 1,
          "label": "Beru Whitesun lars",
          "label_display": "center",
          "media": [
           "A New Hope",
           "Attack of the Clones",
           "Revenge of the Sith"
          ],
          "px": 510.8458713772954,
          "py": 140.57404862910994,
          "shape": "circle",
          "shape_attrs": {
           "r": 15
          },
          "value": null,
          "weight": 42,
          "x": 510.8154653184186,
          "y": 140.58391009085472
         }
        },
        {
         "source": {
          "index": 4,
          "label": "Yoda",
          "label_display": "center",
          "media": [
           "The Empire Strikes Back",
           "Return of the Jedi",
           "The Phantom Menace",
           "Attack of the Clones",
           "Revenge of the Sith"
          ],
          "px": 437.68286481808394,
          "py": 387.57511461240193,
          "shape": "circle",
          "shape_attrs": {
           "r": 15
          },
          "value": null,
          "weight": 50,
          "x": 437.6801788187055,
          "y": 387.55689395262834
         },
         "target": {
          "fixed": 0,
          "index": 0,
          "label": "Darth Vader",
          "label_display": "center",
          "media": [
           "A New Hope",
           "The Empire Strikes Back",
           "Return of the Jedi",
           "Revenge of the Sith"
          ],
          "px": 317.54347624035074,
          "py": 56.988266818516465,
          "shape": "circle",
          "shape_attrs": {
           "r": 15
          },
          "value": null,
          "weight": 28,
          "x": 317.5191650486815,
          "y": 57.019581844208716
         }
        },
        {
         "source": {
          "fixed": 0,
          "index": 1,
          "label": "Beru Whitesun lars",
          "label_display": "center",
          "media": [
           "A New Hope",
           "Attack of the Clones",
           "Revenge of the Sith"
          ],
          "px": 510.8458713772954,
          "py": 140.57404862910994,
          "shape": "circle",
          "shape_attrs": {
           "r": 15
          },
          "value": null,
          "weight": 42,
          "x": 510.8154653184186,
          "y": 140.58391009085472
         },
         "target": {
          "index": 3,
          "label": "Jabba Desilijic Tiure",
          "label_display": "center",
          "media": [
           "A New Hope",
           "Return of the Jedi",
           "The Phantom Menace"
          ],
          "px": 178.1818446294858,
          "py": 263.89650702479764,
          "shape": "circle",
          "shape_attrs": {
           "r": 15
          },
          "value": null,
          "weight": 36,
          "x": 178.19288193902784,
          "y": 263.90647904432336
         }
        },
        {
         "source": {
          "fixed": 0,
          "index": 1,
          "label": "Beru Whitesun lars",
          "label_display": "center",
          "media": [
           "A New Hope",
           "Attack of the Clones",
           "Revenge of the Sith"
          ],
          "px": 510.8458713772954,
          "py": 140.57404862910994,
          "shape": "circle",
          "shape_attrs": {
           "r": 15
          },
          "value": null,
          "weight": 42,
          "x": 510.8154653184186,
          "y": 140.58391009085472
         },
         "target": {
          "index": 4,
          "label": "Yoda",
          "label_display": "center",
          "media": [
           "The Empire Strikes Back",
           "Return of the Jedi",
           "The Phantom Menace",
           "Attack of the Clones",
           "Revenge of the Sith"
          ],
          "px": 437.68286481808394,
          "py": 387.57511461240193,
          "shape": "circle",
          "shape_attrs": {
           "r": 15
          },
          "value": null,
          "weight": 50,
          "x": 437.6801788187055,
          "y": 387.55689395262834
         }
        },
        {
         "source": {
          "fixed": 0,
          "index": 1,
          "label": "Beru Whitesun lars",
          "label_display": "center",
          "media": [
           "A New Hope",
           "Attack of the Clones",
           "Revenge of the Sith"
          ],
          "px": 510.8458713772954,
          "py": 140.57404862910994,
          "shape": "circle",
          "shape_attrs": {
           "r": 15
          },
          "value": null,
          "weight": 42,
          "x": 510.8154653184186,
          "y": 140.58391009085472
         },
         "target": {
          "fixed": 0,
          "index": 1,
          "label": "Beru Whitesun lars",
          "label_display": "center",
          "media": [
           "A New Hope",
           "Attack of the Clones",
           "Revenge of the Sith"
          ],
          "px": 510.8458713772954,
          "py": 140.57404862910994,
          "shape": "circle",
          "shape_attrs": {
           "r": 15
          },
          "value": null,
          "weight": 42,
          "x": 510.8154653184186,
          "y": 140.58391009085472
         }
        },
        {
         "source": {
          "fixed": 0,
          "index": 1,
          "label": "Beru Whitesun lars",
          "label_display": "center",
          "media": [
           "A New Hope",
           "Attack of the Clones",
           "Revenge of the Sith"
          ],
          "px": 510.8458713772954,
          "py": 140.57404862910994,
          "shape": "circle",
          "shape_attrs": {
           "r": 15
          },
          "value": null,
          "weight": 42,
          "x": 510.8154653184186,
          "y": 140.58391009085472
         },
         "target": {
          "fixed": 0,
          "index": 0,
          "label": "Darth Vader",
          "label_display": "center",
          "media": [
           "A New Hope",
           "The Empire Strikes Back",
           "Return of the Jedi",
           "Revenge of the Sith"
          ],
          "px": 317.54347624035074,
          "py": 56.988266818516465,
          "shape": "circle",
          "shape_attrs": {
           "r": 15
          },
          "value": null,
          "weight": 28,
          "x": 317.5191650486815,
          "y": 57.019581844208716
         }
        },
        {
         "source": {
          "fixed": 0,
          "index": 0,
          "label": "Darth Vader",
          "label_display": "center",
          "media": [
           "A New Hope",
           "The Empire Strikes Back",
           "Return of the Jedi",
           "Revenge of the Sith"
          ],
          "px": 317.54347624035074,
          "py": 56.988266818516465,
          "shape": "circle",
          "shape_attrs": {
           "r": 15
          },
          "value": null,
          "weight": 28,
          "x": 317.5191650486815,
          "y": 57.019581844208716
         },
         "target": {
          "index": 3,
          "label": "Jabba Desilijic Tiure",
          "label_display": "center",
          "media": [
           "A New Hope",
           "Return of the Jedi",
           "The Phantom Menace"
          ],
          "px": 178.1818446294858,
          "py": 263.89650702479764,
          "shape": "circle",
          "shape_attrs": {
           "r": 15
          },
          "value": null,
          "weight": 36,
          "x": 178.19288193902784,
          "y": 263.90647904432336
         }
        },
        {
         "source": {
          "fixed": 0,
          "index": 0,
          "label": "Darth Vader",
          "label_display": "center",
          "media": [
           "A New Hope",
           "The Empire Strikes Back",
           "Return of the Jedi",
           "Revenge of the Sith"
          ],
          "px": 317.54347624035074,
          "py": 56.988266818516465,
          "shape": "circle",
          "shape_attrs": {
           "r": 15
          },
          "value": null,
          "weight": 28,
          "x": 317.5191650486815,
          "y": 57.019581844208716
         },
         "target": {
          "index": 4,
          "label": "Yoda",
          "label_display": "center",
          "media": [
           "The Empire Strikes Back",
           "Return of the Jedi",
           "The Phantom Menace",
           "Attack of the Clones",
           "Revenge of the Sith"
          ],
          "px": 437.68286481808394,
          "py": 387.57511461240193,
          "shape": "circle",
          "shape_attrs": {
           "r": 15
          },
          "value": null,
          "weight": 50,
          "x": 437.6801788187055,
          "y": 387.55689395262834
         }
        },
        {
         "source": {
          "fixed": 0,
          "index": 0,
          "label": "Darth Vader",
          "label_display": "center",
          "media": [
           "A New Hope",
           "The Empire Strikes Back",
           "Return of the Jedi",
           "Revenge of the Sith"
          ],
          "px": 317.54347624035074,
          "py": 56.988266818516465,
          "shape": "circle",
          "shape_attrs": {
           "r": 15
          },
          "value": null,
          "weight": 28,
          "x": 317.5191650486815,
          "y": 57.019581844208716
         },
         "target": {
          "fixed": 0,
          "index": 1,
          "label": "Beru Whitesun lars",
          "label_display": "center",
          "media": [
           "A New Hope",
           "Attack of the Clones",
           "Revenge of the Sith"
          ],
          "px": 510.8458713772954,
          "py": 140.57404862910994,
          "shape": "circle",
          "shape_attrs": {
           "r": 15
          },
          "value": null,
          "weight": 42,
          "x": 510.8154653184186,
          "y": 140.58391009085472
         }
        },
        {
         "source": {
          "fixed": 0,
          "index": 0,
          "label": "Darth Vader",
          "label_display": "center",
          "media": [
           "A New Hope",
           "The Empire Strikes Back",
           "Return of the Jedi",
           "Revenge of the Sith"
          ],
          "px": 317.54347624035074,
          "py": 56.988266818516465,
          "shape": "circle",
          "shape_attrs": {
           "r": 15
          },
          "value": null,
          "weight": 28,
          "x": 317.5191650486815,
          "y": 57.019581844208716
         },
         "target": {
          "fixed": 0,
          "index": 0,
          "label": "Darth Vader",
          "label_display": "center",
          "media": [
           "A New Hope",
           "The Empire Strikes Back",
           "Return of the Jedi",
           "Revenge of the Sith"
          ],
          "px": 317.54347624035074,
          "py": 56.988266818516465,
          "shape": "circle",
          "shape_attrs": {
           "r": 15
          },
          "value": null,
          "weight": 28,
          "x": 317.5191650486815,
          "y": 57.019581844208716
         }
        },
        {
         "source": {
          "index": 3,
          "label": "Jabba Desilijic Tiure",
          "label_display": "center",
          "media": [
           "A New Hope",
           "Return of the Jedi",
           "The Phantom Menace"
          ],
          "px": 178.1818446294858,
          "py": 263.89650702479764,
          "shape": "circle",
          "shape_attrs": {
           "r": 15
          },
          "value": null,
          "weight": 36,
          "x": 178.19288193902784,
          "y": 263.90647904432336
         },
         "target": {
          "index": 3,
          "label": "Jabba Desilijic Tiure",
          "label_display": "center",
          "media": [
           "A New Hope",
           "Return of the Jedi",
           "The Phantom Menace"
          ],
          "px": 178.1818446294858,
          "py": 263.89650702479764,
          "shape": "circle",
          "shape_attrs": {
           "r": 15
          },
          "value": null,
          "weight": 36,
          "x": 178.19288193902784,
          "y": 263.90647904432336
         }
        },
        {
         "source": {
          "index": 3,
          "label": "Jabba Desilijic Tiure",
          "label_display": "center",
          "media": [
           "A New Hope",
           "Return of the Jedi",
           "The Phantom Menace"
          ],
          "px": 178.1818446294858,
          "py": 263.89650702479764,
          "shape": "circle",
          "shape_attrs": {
           "r": 15
          },
          "value": null,
          "weight": 36,
          "x": 178.19288193902784,
          "y": 263.90647904432336
         },
         "target": {
          "index": 4,
          "label": "Yoda",
          "label_display": "center",
          "media": [
           "The Empire Strikes Back",
           "Return of the Jedi",
           "The Phantom Menace",
           "Attack of the Clones",
           "Revenge of the Sith"
          ],
          "px": 437.68286481808394,
          "py": 387.57511461240193,
          "shape": "circle",
          "shape_attrs": {
           "r": 15
          },
          "value": null,
          "weight": 50,
          "x": 437.6801788187055,
          "y": 387.55689395262834
         }
        },
        {
         "source": {
          "index": 3,
          "label": "Jabba Desilijic Tiure",
          "label_display": "center",
          "media": [
           "A New Hope",
           "Return of the Jedi",
           "The Phantom Menace"
          ],
          "px": 178.1818446294858,
          "py": 263.89650702479764,
          "shape": "circle",
          "shape_attrs": {
           "r": 15
          },
          "value": null,
          "weight": 36,
          "x": 178.19288193902784,
          "y": 263.90647904432336
         },
         "target": {
          "index": 2,
          "label": "Obi-Wan Kenobi",
          "label_display": "center",
          "media": [
           "A New Hope",
           "The Empire Strikes Back",
           "Return of the Jedi",
           "The Phantom Menace",
           "Attack of the Clones",
           "Revenge of the Sith"
          ],
          "px": 229.61125860763232,
          "py": 435.16614773725325,
          "shape": "circle",
          "shape_attrs": {
           "r": 15
          },
          "value": null,
          "weight": 26,
          "x": 229.62182843417617,
          "y": 435.1644833392846
         }
        },
        {
         "source": {
          "index": 3,
          "label": "Jabba Desilijic Tiure",
          "label_display": "center",
          "media": [
           "A New Hope",
           "Return of the Jedi",
           "The Phantom Menace"
          ],
          "px": 178.1818446294858,
          "py": 263.89650702479764,
          "shape": "circle",
          "shape_attrs": {
           "r": 15
          },
          "value": null,
          "weight": 36,
          "x": 178.19288193902784,
          "y": 263.90647904432336
         },
         "target": {
          "fixed": 0,
          "index": 1,
          "label": "Beru Whitesun lars",
          "label_display": "center",
          "media": [
           "A New Hope",
           "Attack of the Clones",
           "Revenge of the Sith"
          ],
          "px": 510.8458713772954,
          "py": 140.57404862910994,
          "shape": "circle",
          "shape_attrs": {
           "r": 15
          },
          "value": null,
          "weight": 42,
          "x": 510.8154653184186,
          "y": 140.58391009085472
         }
        },
        {
         "source": {
          "index": 3,
          "label": "Jabba Desilijic Tiure",
          "label_display": "center",
          "media": [
           "A New Hope",
           "Return of the Jedi",
           "The Phantom Menace"
          ],
          "px": 178.1818446294858,
          "py": 263.89650702479764,
          "shape": "circle",
          "shape_attrs": {
           "r": 15
          },
          "value": null,
          "weight": 36,
          "x": 178.19288193902784,
          "y": 263.90647904432336
         },
         "target": {
          "fixed": 0,
          "index": 0,
          "label": "Darth Vader",
          "label_display": "center",
          "media": [
           "A New Hope",
           "The Empire Strikes Back",
           "Return of the Jedi",
           "Revenge of the Sith"
          ],
          "px": 317.54347624035074,
          "py": 56.988266818516465,
          "shape": "circle",
          "shape_attrs": {
           "r": 15
          },
          "value": null,
          "weight": 28,
          "x": 317.5191650486815,
          "y": 57.019581844208716
         }
        },
        {
         "source": {
          "index": 3,
          "label": "Jabba Desilijic Tiure",
          "label_display": "center",
          "media": [
           "A New Hope",
           "Return of the Jedi",
           "The Phantom Menace"
          ],
          "px": 178.1818446294858,
          "py": 263.89650702479764,
          "shape": "circle",
          "shape_attrs": {
           "r": 15
          },
          "value": null,
          "weight": 36,
          "x": 178.19288193902784,
          "y": 263.90647904432336
         },
         "target": {
          "index": 6,
          "label": "Mon Mothma",
          "label_display": "center",
          "media": [
           "Return of the Jedi"
          ],
          "px": 558.744732451368,
          "py": 311.0980054395788,
          "shape": "circle",
          "shape_attrs": {
           "r": 15
          },
          "value": null,
          "weight": 12,
          "x": 558.7182047582008,
          "y": 311.08512457780466
         }
        },
        {
         "source": {
          "index": 4,
          "label": "Yoda",
          "label_display": "center",
          "media": [
           "The Empire Strikes Back",
           "Return of the Jedi",
           "The Phantom Menace",
           "Attack of the Clones",
           "Revenge of the Sith"
          ],
          "px": 437.68286481808394,
          "py": 387.57511461240193,
          "shape": "circle",
          "shape_attrs": {
           "r": 15
          },
          "value": null,
          "weight": 50,
          "x": 437.6801788187055,
          "y": 387.55689395262834
         },
         "target": {
          "index": 3,
          "label": "Jabba Desilijic Tiure",
          "label_display": "center",
          "media": [
           "A New Hope",
           "Return of the Jedi",
           "The Phantom Menace"
          ],
          "px": 178.1818446294858,
          "py": 263.89650702479764,
          "shape": "circle",
          "shape_attrs": {
           "r": 15
          },
          "value": null,
          "weight": 36,
          "x": 178.19288193902784,
          "y": 263.90647904432336
         }
        },
        {
         "source": {
          "index": 4,
          "label": "Yoda",
          "label_display": "center",
          "media": [
           "The Empire Strikes Back",
           "Return of the Jedi",
           "The Phantom Menace",
           "Attack of the Clones",
           "Revenge of the Sith"
          ],
          "px": 437.68286481808394,
          "py": 387.57511461240193,
          "shape": "circle",
          "shape_attrs": {
           "r": 15
          },
          "value": null,
          "weight": 50,
          "x": 437.6801788187055,
          "y": 387.55689395262834
         },
         "target": {
          "index": 4,
          "label": "Yoda",
          "label_display": "center",
          "media": [
           "The Empire Strikes Back",
           "Return of the Jedi",
           "The Phantom Menace",
           "Attack of the Clones",
           "Revenge of the Sith"
          ],
          "px": 437.68286481808394,
          "py": 387.57511461240193,
          "shape": "circle",
          "shape_attrs": {
           "r": 15
          },
          "value": null,
          "weight": 50,
          "x": 437.6801788187055,
          "y": 387.55689395262834
         }
        },
        {
         "source": {
          "index": 4,
          "label": "Yoda",
          "label_display": "center",
          "media": [
           "The Empire Strikes Back",
           "Return of the Jedi",
           "The Phantom Menace",
           "Attack of the Clones",
           "Revenge of the Sith"
          ],
          "px": 437.68286481808394,
          "py": 387.57511461240193,
          "shape": "circle",
          "shape_attrs": {
           "r": 15
          },
          "value": null,
          "weight": 50,
          "x": 437.6801788187055,
          "y": 387.55689395262834
         },
         "target": {
          "index": 2,
          "label": "Obi-Wan Kenobi",
          "label_display": "center",
          "media": [
           "A New Hope",
           "The Empire Strikes Back",
           "Return of the Jedi",
           "The Phantom Menace",
           "Attack of the Clones",
           "Revenge of the Sith"
          ],
          "px": 229.61125860763232,
          "py": 435.16614773725325,
          "shape": "circle",
          "shape_attrs": {
           "r": 15
          },
          "value": null,
          "weight": 26,
          "x": 229.62182843417617,
          "y": 435.1644833392846
         }
        },
        {
         "source": {
          "index": 4,
          "label": "Yoda",
          "label_display": "center",
          "media": [
           "The Empire Strikes Back",
           "Return of the Jedi",
           "The Phantom Menace",
           "Attack of the Clones",
           "Revenge of the Sith"
          ],
          "px": 437.68286481808394,
          "py": 387.57511461240193,
          "shape": "circle",
          "shape_attrs": {
           "r": 15
          },
          "value": null,
          "weight": 50,
          "x": 437.6801788187055,
          "y": 387.55689395262834
         },
         "target": {
          "fixed": 0,
          "index": 1,
          "label": "Beru Whitesun lars",
          "label_display": "center",
          "media": [
           "A New Hope",
           "Attack of the Clones",
           "Revenge of the Sith"
          ],
          "px": 510.8458713772954,
          "py": 140.57404862910994,
          "shape": "circle",
          "shape_attrs": {
           "r": 15
          },
          "value": null,
          "weight": 42,
          "x": 510.8154653184186,
          "y": 140.58391009085472
         }
        },
        {
         "source": {
          "index": 4,
          "label": "Yoda",
          "label_display": "center",
          "media": [
           "The Empire Strikes Back",
           "Return of the Jedi",
           "The Phantom Menace",
           "Attack of the Clones",
           "Revenge of the Sith"
          ],
          "px": 437.68286481808394,
          "py": 387.57511461240193,
          "shape": "circle",
          "shape_attrs": {
           "r": 15
          },
          "value": null,
          "weight": 50,
          "x": 437.6801788187055,
          "y": 387.55689395262834
         },
         "target": {
          "fixed": 0,
          "index": 0,
          "label": "Darth Vader",
          "label_display": "center",
          "media": [
           "A New Hope",
           "The Empire Strikes Back",
           "Return of the Jedi",
           "Revenge of the Sith"
          ],
          "px": 317.54347624035074,
          "py": 56.988266818516465,
          "shape": "circle",
          "shape_attrs": {
           "r": 15
          },
          "value": null,
          "weight": 28,
          "x": 317.5191650486815,
          "y": 57.019581844208716
         }
        },
        {
         "source": {
          "index": 4,
          "label": "Yoda",
          "label_display": "center",
          "media": [
           "The Empire Strikes Back",
           "Return of the Jedi",
           "The Phantom Menace",
           "Attack of the Clones",
           "Revenge of the Sith"
          ],
          "px": 437.68286481808394,
          "py": 387.57511461240193,
          "shape": "circle",
          "shape_attrs": {
           "r": 15
          },
          "value": null,
          "weight": 50,
          "x": 437.6801788187055,
          "y": 387.55689395262834
         },
         "target": {
          "index": 6,
          "label": "Mon Mothma",
          "label_display": "center",
          "media": [
           "Return of the Jedi"
          ],
          "px": 558.744732451368,
          "py": 311.0980054395788,
          "shape": "circle",
          "shape_attrs": {
           "r": 15
          },
          "value": null,
          "weight": 12,
          "x": 558.7182047582008,
          "y": 311.08512457780466
         }
        },
        {
         "source": {
          "index": 2,
          "label": "Obi-Wan Kenobi",
          "label_display": "center",
          "media": [
           "A New Hope",
           "The Empire Strikes Back",
           "Return of the Jedi",
           "The Phantom Menace",
           "Attack of the Clones",
           "Revenge of the Sith"
          ],
          "px": 229.61125860763232,
          "py": 435.16614773725325,
          "shape": "circle",
          "shape_attrs": {
           "r": 15
          },
          "value": null,
          "weight": 26,
          "x": 229.62182843417617,
          "y": 435.1644833392846
         },
         "target": {
          "index": 3,
          "label": "Jabba Desilijic Tiure",
          "label_display": "center",
          "media": [
           "A New Hope",
           "Return of the Jedi",
           "The Phantom Menace"
          ],
          "px": 178.1818446294858,
          "py": 263.89650702479764,
          "shape": "circle",
          "shape_attrs": {
           "r": 15
          },
          "value": null,
          "weight": 36,
          "x": 178.19288193902784,
          "y": 263.90647904432336
         }
        },
        {
         "source": {
          "index": 2,
          "label": "Obi-Wan Kenobi",
          "label_display": "center",
          "media": [
           "A New Hope",
           "The Empire Strikes Back",
           "Return of the Jedi",
           "The Phantom Menace",
           "Attack of the Clones",
           "Revenge of the Sith"
          ],
          "px": 229.61125860763232,
          "py": 435.16614773725325,
          "shape": "circle",
          "shape_attrs": {
           "r": 15
          },
          "value": null,
          "weight": 26,
          "x": 229.62182843417617,
          "y": 435.1644833392846
         },
         "target": {
          "index": 4,
          "label": "Yoda",
          "label_display": "center",
          "media": [
           "The Empire Strikes Back",
           "Return of the Jedi",
           "The Phantom Menace",
           "Attack of the Clones",
           "Revenge of the Sith"
          ],
          "px": 437.68286481808394,
          "py": 387.57511461240193,
          "shape": "circle",
          "shape_attrs": {
           "r": 15
          },
          "value": null,
          "weight": 50,
          "x": 437.6801788187055,
          "y": 387.55689395262834
         }
        },
        {
         "source": {
          "index": 2,
          "label": "Obi-Wan Kenobi",
          "label_display": "center",
          "media": [
           "A New Hope",
           "The Empire Strikes Back",
           "Return of the Jedi",
           "The Phantom Menace",
           "Attack of the Clones",
           "Revenge of the Sith"
          ],
          "px": 229.61125860763232,
          "py": 435.16614773725325,
          "shape": "circle",
          "shape_attrs": {
           "r": 15
          },
          "value": null,
          "weight": 26,
          "x": 229.62182843417617,
          "y": 435.1644833392846
         },
         "target": {
          "index": 2,
          "label": "Obi-Wan Kenobi",
          "label_display": "center",
          "media": [
           "A New Hope",
           "The Empire Strikes Back",
           "Return of the Jedi",
           "The Phantom Menace",
           "Attack of the Clones",
           "Revenge of the Sith"
          ],
          "px": 229.61125860763232,
          "py": 435.16614773725325,
          "shape": "circle",
          "shape_attrs": {
           "r": 15
          },
          "value": null,
          "weight": 26,
          "x": 229.62182843417617,
          "y": 435.1644833392846
         }
        },
        {
         "source": {
          "index": 2,
          "label": "Obi-Wan Kenobi",
          "label_display": "center",
          "media": [
           "A New Hope",
           "The Empire Strikes Back",
           "Return of the Jedi",
           "The Phantom Menace",
           "Attack of the Clones",
           "Revenge of the Sith"
          ],
          "px": 229.61125860763232,
          "py": 435.16614773725325,
          "shape": "circle",
          "shape_attrs": {
           "r": 15
          },
          "value": null,
          "weight": 26,
          "x": 229.62182843417617,
          "y": 435.1644833392846
         },
         "target": {
          "fixed": 0,
          "index": 1,
          "label": "Beru Whitesun lars",
          "label_display": "center",
          "media": [
           "A New Hope",
           "Attack of the Clones",
           "Revenge of the Sith"
          ],
          "px": 510.8458713772954,
          "py": 140.57404862910994,
          "shape": "circle",
          "shape_attrs": {
           "r": 15
          },
          "value": null,
          "weight": 42,
          "x": 510.8154653184186,
          "y": 140.58391009085472
         }
        },
        {
         "source": {
          "index": 2,
          "label": "Obi-Wan Kenobi",
          "label_display": "center",
          "media": [
           "A New Hope",
           "The Empire Strikes Back",
           "Return of the Jedi",
           "The Phantom Menace",
           "Attack of the Clones",
           "Revenge of the Sith"
          ],
          "px": 229.61125860763232,
          "py": 435.16614773725325,
          "shape": "circle",
          "shape_attrs": {
           "r": 15
          },
          "value": null,
          "weight": 26,
          "x": 229.62182843417617,
          "y": 435.1644833392846
         },
         "target": {
          "fixed": 0,
          "index": 0,
          "label": "Darth Vader",
          "label_display": "center",
          "media": [
           "A New Hope",
           "The Empire Strikes Back",
           "Return of the Jedi",
           "Revenge of the Sith"
          ],
          "px": 317.54347624035074,
          "py": 56.988266818516465,
          "shape": "circle",
          "shape_attrs": {
           "r": 15
          },
          "value": null,
          "weight": 28,
          "x": 317.5191650486815,
          "y": 57.019581844208716
         }
        },
        {
         "source": {
          "index": 2,
          "label": "Obi-Wan Kenobi",
          "label_display": "center",
          "media": [
           "A New Hope",
           "The Empire Strikes Back",
           "Return of the Jedi",
           "The Phantom Menace",
           "Attack of the Clones",
           "Revenge of the Sith"
          ],
          "px": 229.61125860763232,
          "py": 435.16614773725325,
          "shape": "circle",
          "shape_attrs": {
           "r": 15
          },
          "value": null,
          "weight": 26,
          "x": 229.62182843417617,
          "y": 435.1644833392846
         },
         "target": {
          "index": 6,
          "label": "Mon Mothma",
          "label_display": "center",
          "media": [
           "Return of the Jedi"
          ],
          "px": 558.744732451368,
          "py": 311.0980054395788,
          "shape": "circle",
          "shape_attrs": {
           "r": 15
          },
          "value": null,
          "weight": 12,
          "x": 558.7182047582008,
          "y": 311.08512457780466
         }
        },
        {
         "source": {
          "fixed": 0,
          "index": 1,
          "label": "Beru Whitesun lars",
          "label_display": "center",
          "media": [
           "A New Hope",
           "Attack of the Clones",
           "Revenge of the Sith"
          ],
          "px": 510.8458713772954,
          "py": 140.57404862910994,
          "shape": "circle",
          "shape_attrs": {
           "r": 15
          },
          "value": null,
          "weight": 42,
          "x": 510.8154653184186,
          "y": 140.58391009085472
         },
         "target": {
          "index": 3,
          "label": "Jabba Desilijic Tiure",
          "label_display": "center",
          "media": [
           "A New Hope",
           "Return of the Jedi",
           "The Phantom Menace"
          ],
          "px": 178.1818446294858,
          "py": 263.89650702479764,
          "shape": "circle",
          "shape_attrs": {
           "r": 15
          },
          "value": null,
          "weight": 36,
          "x": 178.19288193902784,
          "y": 263.90647904432336
         }
        },
        {
         "source": {
          "fixed": 0,
          "index": 1,
          "label": "Beru Whitesun lars",
          "label_display": "center",
          "media": [
           "A New Hope",
           "Attack of the Clones",
           "Revenge of the Sith"
          ],
          "px": 510.8458713772954,
          "py": 140.57404862910994,
          "shape": "circle",
          "shape_attrs": {
           "r": 15
          },
          "value": null,
          "weight": 42,
          "x": 510.8154653184186,
          "y": 140.58391009085472
         },
         "target": {
          "index": 4,
          "label": "Yoda",
          "label_display": "center",
          "media": [
           "The Empire Strikes Back",
           "Return of the Jedi",
           "The Phantom Menace",
           "Attack of the Clones",
           "Revenge of the Sith"
          ],
          "px": 437.68286481808394,
          "py": 387.57511461240193,
          "shape": "circle",
          "shape_attrs": {
           "r": 15
          },
          "value": null,
          "weight": 50,
          "x": 437.6801788187055,
          "y": 387.55689395262834
         }
        },
        {
         "source": {
          "fixed": 0,
          "index": 1,
          "label": "Beru Whitesun lars",
          "label_display": "center",
          "media": [
           "A New Hope",
           "Attack of the Clones",
           "Revenge of the Sith"
          ],
          "px": 510.8458713772954,
          "py": 140.57404862910994,
          "shape": "circle",
          "shape_attrs": {
           "r": 15
          },
          "value": null,
          "weight": 42,
          "x": 510.8154653184186,
          "y": 140.58391009085472
         },
         "target": {
          "index": 2,
          "label": "Obi-Wan Kenobi",
          "label_display": "center",
          "media": [
           "A New Hope",
           "The Empire Strikes Back",
           "Return of the Jedi",
           "The Phantom Menace",
           "Attack of the Clones",
           "Revenge of the Sith"
          ],
          "px": 229.61125860763232,
          "py": 435.16614773725325,
          "shape": "circle",
          "shape_attrs": {
           "r": 15
          },
          "value": null,
          "weight": 26,
          "x": 229.62182843417617,
          "y": 435.1644833392846
         }
        },
        {
         "source": {
          "fixed": 0,
          "index": 1,
          "label": "Beru Whitesun lars",
          "label_display": "center",
          "media": [
           "A New Hope",
           "Attack of the Clones",
           "Revenge of the Sith"
          ],
          "px": 510.8458713772954,
          "py": 140.57404862910994,
          "shape": "circle",
          "shape_attrs": {
           "r": 15
          },
          "value": null,
          "weight": 42,
          "x": 510.8154653184186,
          "y": 140.58391009085472
         },
         "target": {
          "fixed": 0,
          "index": 1,
          "label": "Beru Whitesun lars",
          "label_display": "center",
          "media": [
           "A New Hope",
           "Attack of the Clones",
           "Revenge of the Sith"
          ],
          "px": 510.8458713772954,
          "py": 140.57404862910994,
          "shape": "circle",
          "shape_attrs": {
           "r": 15
          },
          "value": null,
          "weight": 42,
          "x": 510.8154653184186,
          "y": 140.58391009085472
         }
        },
        {
         "source": {
          "fixed": 0,
          "index": 1,
          "label": "Beru Whitesun lars",
          "label_display": "center",
          "media": [
           "A New Hope",
           "Attack of the Clones",
           "Revenge of the Sith"
          ],
          "px": 510.8458713772954,
          "py": 140.57404862910994,
          "shape": "circle",
          "shape_attrs": {
           "r": 15
          },
          "value": null,
          "weight": 42,
          "x": 510.8154653184186,
          "y": 140.58391009085472
         },
         "target": {
          "fixed": 0,
          "index": 0,
          "label": "Darth Vader",
          "label_display": "center",
          "media": [
           "A New Hope",
           "The Empire Strikes Back",
           "Return of the Jedi",
           "Revenge of the Sith"
          ],
          "px": 317.54347624035074,
          "py": 56.988266818516465,
          "shape": "circle",
          "shape_attrs": {
           "r": 15
          },
          "value": null,
          "weight": 28,
          "x": 317.5191650486815,
          "y": 57.019581844208716
         }
        },
        {
         "source": {
          "fixed": 0,
          "index": 1,
          "label": "Beru Whitesun lars",
          "label_display": "center",
          "media": [
           "A New Hope",
           "Attack of the Clones",
           "Revenge of the Sith"
          ],
          "px": 510.8458713772954,
          "py": 140.57404862910994,
          "shape": "circle",
          "shape_attrs": {
           "r": 15
          },
          "value": null,
          "weight": 42,
          "x": 510.8154653184186,
          "y": 140.58391009085472
         },
         "target": {
          "index": 6,
          "label": "Mon Mothma",
          "label_display": "center",
          "media": [
           "Return of the Jedi"
          ],
          "px": 558.744732451368,
          "py": 311.0980054395788,
          "shape": "circle",
          "shape_attrs": {
           "r": 15
          },
          "value": null,
          "weight": 12,
          "x": 558.7182047582008,
          "y": 311.08512457780466
         }
        },
        {
         "source": {
          "fixed": 0,
          "index": 0,
          "label": "Darth Vader",
          "label_display": "center",
          "media": [
           "A New Hope",
           "The Empire Strikes Back",
           "Return of the Jedi",
           "Revenge of the Sith"
          ],
          "px": 317.54347624035074,
          "py": 56.988266818516465,
          "shape": "circle",
          "shape_attrs": {
           "r": 15
          },
          "value": null,
          "weight": 28,
          "x": 317.5191650486815,
          "y": 57.019581844208716
         },
         "target": {
          "index": 3,
          "label": "Jabba Desilijic Tiure",
          "label_display": "center",
          "media": [
           "A New Hope",
           "Return of the Jedi",
           "The Phantom Menace"
          ],
          "px": 178.1818446294858,
          "py": 263.89650702479764,
          "shape": "circle",
          "shape_attrs": {
           "r": 15
          },
          "value": null,
          "weight": 36,
          "x": 178.19288193902784,
          "y": 263.90647904432336
         }
        },
        {
         "source": {
          "fixed": 0,
          "index": 0,
          "label": "Darth Vader",
          "label_display": "center",
          "media": [
           "A New Hope",
           "The Empire Strikes Back",
           "Return of the Jedi",
           "Revenge of the Sith"
          ],
          "px": 317.54347624035074,
          "py": 56.988266818516465,
          "shape": "circle",
          "shape_attrs": {
           "r": 15
          },
          "value": null,
          "weight": 28,
          "x": 317.5191650486815,
          "y": 57.019581844208716
         },
         "target": {
          "index": 4,
          "label": "Yoda",
          "label_display": "center",
          "media": [
           "The Empire Strikes Back",
           "Return of the Jedi",
           "The Phantom Menace",
           "Attack of the Clones",
           "Revenge of the Sith"
          ],
          "px": 437.68286481808394,
          "py": 387.57511461240193,
          "shape": "circle",
          "shape_attrs": {
           "r": 15
          },
          "value": null,
          "weight": 50,
          "x": 437.6801788187055,
          "y": 387.55689395262834
         }
        },
        {
         "source": {
          "fixed": 0,
          "index": 0,
          "label": "Darth Vader",
          "label_display": "center",
          "media": [
           "A New Hope",
           "The Empire Strikes Back",
           "Return of the Jedi",
           "Revenge of the Sith"
          ],
          "px": 317.54347624035074,
          "py": 56.988266818516465,
          "shape": "circle",
          "shape_attrs": {
           "r": 15
          },
          "value": null,
          "weight": 28,
          "x": 317.5191650486815,
          "y": 57.019581844208716
         },
         "target": {
          "index": 2,
          "label": "Obi-Wan Kenobi",
          "label_display": "center",
          "media": [
           "A New Hope",
           "The Empire Strikes Back",
           "Return of the Jedi",
           "The Phantom Menace",
           "Attack of the Clones",
           "Revenge of the Sith"
          ],
          "px": 229.61125860763232,
          "py": 435.16614773725325,
          "shape": "circle",
          "shape_attrs": {
           "r": 15
          },
          "value": null,
          "weight": 26,
          "x": 229.62182843417617,
          "y": 435.1644833392846
         }
        },
        {
         "source": {
          "fixed": 0,
          "index": 0,
          "label": "Darth Vader",
          "label_display": "center",
          "media": [
           "A New Hope",
           "The Empire Strikes Back",
           "Return of the Jedi",
           "Revenge of the Sith"
          ],
          "px": 317.54347624035074,
          "py": 56.988266818516465,
          "shape": "circle",
          "shape_attrs": {
           "r": 15
          },
          "value": null,
          "weight": 28,
          "x": 317.5191650486815,
          "y": 57.019581844208716
         },
         "target": {
          "fixed": 0,
          "index": 1,
          "label": "Beru Whitesun lars",
          "label_display": "center",
          "media": [
           "A New Hope",
           "Attack of the Clones",
           "Revenge of the Sith"
          ],
          "px": 510.8458713772954,
          "py": 140.57404862910994,
          "shape": "circle",
          "shape_attrs": {
           "r": 15
          },
          "value": null,
          "weight": 42,
          "x": 510.8154653184186,
          "y": 140.58391009085472
         }
        },
        {
         "source": {
          "fixed": 0,
          "index": 0,
          "label": "Darth Vader",
          "label_display": "center",
          "media": [
           "A New Hope",
           "The Empire Strikes Back",
           "Return of the Jedi",
           "Revenge of the Sith"
          ],
          "px": 317.54347624035074,
          "py": 56.988266818516465,
          "shape": "circle",
          "shape_attrs": {
           "r": 15
          },
          "value": null,
          "weight": 28,
          "x": 317.5191650486815,
          "y": 57.019581844208716
         },
         "target": {
          "fixed": 0,
          "index": 0,
          "label": "Darth Vader",
          "label_display": "center",
          "media": [
           "A New Hope",
           "The Empire Strikes Back",
           "Return of the Jedi",
           "Revenge of the Sith"
          ],
          "px": 317.54347624035074,
          "py": 56.988266818516465,
          "shape": "circle",
          "shape_attrs": {
           "r": 15
          },
          "value": null,
          "weight": 28,
          "x": 317.5191650486815,
          "y": 57.019581844208716
         }
        },
        {
         "source": {
          "fixed": 0,
          "index": 0,
          "label": "Darth Vader",
          "label_display": "center",
          "media": [
           "A New Hope",
           "The Empire Strikes Back",
           "Return of the Jedi",
           "Revenge of the Sith"
          ],
          "px": 317.54347624035074,
          "py": 56.988266818516465,
          "shape": "circle",
          "shape_attrs": {
           "r": 15
          },
          "value": null,
          "weight": 28,
          "x": 317.5191650486815,
          "y": 57.019581844208716
         },
         "target": {
          "index": 6,
          "label": "Mon Mothma",
          "label_display": "center",
          "media": [
           "Return of the Jedi"
          ],
          "px": 558.744732451368,
          "py": 311.0980054395788,
          "shape": "circle",
          "shape_attrs": {
           "r": 15
          },
          "value": null,
          "weight": 12,
          "x": 558.7182047582008,
          "y": 311.08512457780466
         }
        },
        {
         "source": {
          "index": 6,
          "label": "Mon Mothma",
          "label_display": "center",
          "media": [
           "Return of the Jedi"
          ],
          "px": 558.744732451368,
          "py": 311.0980054395788,
          "shape": "circle",
          "shape_attrs": {
           "r": 15
          },
          "value": null,
          "weight": 12,
          "x": 558.7182047582008,
          "y": 311.08512457780466
         },
         "target": {
          "index": 3,
          "label": "Jabba Desilijic Tiure",
          "label_display": "center",
          "media": [
           "A New Hope",
           "Return of the Jedi",
           "The Phantom Menace"
          ],
          "px": 178.1818446294858,
          "py": 263.89650702479764,
          "shape": "circle",
          "shape_attrs": {
           "r": 15
          },
          "value": null,
          "weight": 36,
          "x": 178.19288193902784,
          "y": 263.90647904432336
         }
        },
        {
         "source": {
          "index": 6,
          "label": "Mon Mothma",
          "label_display": "center",
          "media": [
           "Return of the Jedi"
          ],
          "px": 558.744732451368,
          "py": 311.0980054395788,
          "shape": "circle",
          "shape_attrs": {
           "r": 15
          },
          "value": null,
          "weight": 12,
          "x": 558.7182047582008,
          "y": 311.08512457780466
         },
         "target": {
          "index": 4,
          "label": "Yoda",
          "label_display": "center",
          "media": [
           "The Empire Strikes Back",
           "Return of the Jedi",
           "The Phantom Menace",
           "Attack of the Clones",
           "Revenge of the Sith"
          ],
          "px": 437.68286481808394,
          "py": 387.57511461240193,
          "shape": "circle",
          "shape_attrs": {
           "r": 15
          },
          "value": null,
          "weight": 50,
          "x": 437.6801788187055,
          "y": 387.55689395262834
         }
        },
        {
         "source": {
          "index": 6,
          "label": "Mon Mothma",
          "label_display": "center",
          "media": [
           "Return of the Jedi"
          ],
          "px": 558.744732451368,
          "py": 311.0980054395788,
          "shape": "circle",
          "shape_attrs": {
           "r": 15
          },
          "value": null,
          "weight": 12,
          "x": 558.7182047582008,
          "y": 311.08512457780466
         },
         "target": {
          "index": 2,
          "label": "Obi-Wan Kenobi",
          "label_display": "center",
          "media": [
           "A New Hope",
           "The Empire Strikes Back",
           "Return of the Jedi",
           "The Phantom Menace",
           "Attack of the Clones",
           "Revenge of the Sith"
          ],
          "px": 229.61125860763232,
          "py": 435.16614773725325,
          "shape": "circle",
          "shape_attrs": {
           "r": 15
          },
          "value": null,
          "weight": 26,
          "x": 229.62182843417617,
          "y": 435.1644833392846
         }
        },
        {
         "source": {
          "index": 6,
          "label": "Mon Mothma",
          "label_display": "center",
          "media": [
           "Return of the Jedi"
          ],
          "px": 558.744732451368,
          "py": 311.0980054395788,
          "shape": "circle",
          "shape_attrs": {
           "r": 15
          },
          "value": null,
          "weight": 12,
          "x": 558.7182047582008,
          "y": 311.08512457780466
         },
         "target": {
          "fixed": 0,
          "index": 1,
          "label": "Beru Whitesun lars",
          "label_display": "center",
          "media": [
           "A New Hope",
           "Attack of the Clones",
           "Revenge of the Sith"
          ],
          "px": 510.8458713772954,
          "py": 140.57404862910994,
          "shape": "circle",
          "shape_attrs": {
           "r": 15
          },
          "value": null,
          "weight": 42,
          "x": 510.8154653184186,
          "y": 140.58391009085472
         }
        },
        {
         "source": {
          "index": 6,
          "label": "Mon Mothma",
          "label_display": "center",
          "media": [
           "Return of the Jedi"
          ],
          "px": 558.744732451368,
          "py": 311.0980054395788,
          "shape": "circle",
          "shape_attrs": {
           "r": 15
          },
          "value": null,
          "weight": 12,
          "x": 558.7182047582008,
          "y": 311.08512457780466
         },
         "target": {
          "fixed": 0,
          "index": 0,
          "label": "Darth Vader",
          "label_display": "center",
          "media": [
           "A New Hope",
           "The Empire Strikes Back",
           "Return of the Jedi",
           "Revenge of the Sith"
          ],
          "px": 317.54347624035074,
          "py": 56.988266818516465,
          "shape": "circle",
          "shape_attrs": {
           "r": 15
          },
          "value": null,
          "weight": 28,
          "x": 317.5191650486815,
          "y": 57.019581844208716
         }
        },
        {
         "source": {
          "index": 6,
          "label": "Mon Mothma",
          "label_display": "center",
          "media": [
           "Return of the Jedi"
          ],
          "px": 558.744732451368,
          "py": 311.0980054395788,
          "shape": "circle",
          "shape_attrs": {
           "r": 15
          },
          "value": null,
          "weight": 12,
          "x": 558.7182047582008,
          "y": 311.08512457780466
         },
         "target": {
          "index": 6,
          "label": "Mon Mothma",
          "label_display": "center",
          "media": [
           "Return of the Jedi"
          ],
          "px": 558.744732451368,
          "py": 311.0980054395788,
          "shape": "circle",
          "shape_attrs": {
           "r": 15
          },
          "value": null,
          "weight": 12,
          "x": 558.7182047582008,
          "y": 311.08512457780466
         }
        },
        {
         "source": {
          "index": 4,
          "label": "Yoda",
          "label_display": "center",
          "media": [
           "The Empire Strikes Back",
           "Return of the Jedi",
           "The Phantom Menace",
           "Attack of the Clones",
           "Revenge of the Sith"
          ],
          "px": 437.68286481808394,
          "py": 387.57511461240193,
          "shape": "circle",
          "shape_attrs": {
           "r": 15
          },
          "value": null,
          "weight": 50,
          "x": 437.6801788187055,
          "y": 387.55689395262834
         },
         "target": {
          "index": 4,
          "label": "Yoda",
          "label_display": "center",
          "media": [
           "The Empire Strikes Back",
           "Return of the Jedi",
           "The Phantom Menace",
           "Attack of the Clones",
           "Revenge of the Sith"
          ],
          "px": 437.68286481808394,
          "py": 387.57511461240193,
          "shape": "circle",
          "shape_attrs": {
           "r": 15
          },
          "value": null,
          "weight": 50,
          "x": 437.6801788187055,
          "y": 387.55689395262834
         }
        },
        {
         "source": {
          "index": 4,
          "label": "Yoda",
          "label_display": "center",
          "media": [
           "The Empire Strikes Back",
           "Return of the Jedi",
           "The Phantom Menace",
           "Attack of the Clones",
           "Revenge of the Sith"
          ],
          "px": 437.68286481808394,
          "py": 387.57511461240193,
          "shape": "circle",
          "shape_attrs": {
           "r": 15
          },
          "value": null,
          "weight": 50,
          "x": 437.6801788187055,
          "y": 387.55689395262834
         },
         "target": {
          "index": 2,
          "label": "Obi-Wan Kenobi",
          "label_display": "center",
          "media": [
           "A New Hope",
           "The Empire Strikes Back",
           "Return of the Jedi",
           "The Phantom Menace",
           "Attack of the Clones",
           "Revenge of the Sith"
          ],
          "px": 229.61125860763232,
          "py": 435.16614773725325,
          "shape": "circle",
          "shape_attrs": {
           "r": 15
          },
          "value": null,
          "weight": 26,
          "x": 229.62182843417617,
          "y": 435.1644833392846
         }
        },
        {
         "source": {
          "index": 4,
          "label": "Yoda",
          "label_display": "center",
          "media": [
           "The Empire Strikes Back",
           "Return of the Jedi",
           "The Phantom Menace",
           "Attack of the Clones",
           "Revenge of the Sith"
          ],
          "px": 437.68286481808394,
          "py": 387.57511461240193,
          "shape": "circle",
          "shape_attrs": {
           "r": 15
          },
          "value": null,
          "weight": 50,
          "x": 437.6801788187055,
          "y": 387.55689395262834
         },
         "target": {
          "fixed": 0,
          "index": 1,
          "label": "Beru Whitesun lars",
          "label_display": "center",
          "media": [
           "A New Hope",
           "Attack of the Clones",
           "Revenge of the Sith"
          ],
          "px": 510.8458713772954,
          "py": 140.57404862910994,
          "shape": "circle",
          "shape_attrs": {
           "r": 15
          },
          "value": null,
          "weight": 42,
          "x": 510.8154653184186,
          "y": 140.58391009085472
         }
        },
        {
         "source": {
          "index": 2,
          "label": "Obi-Wan Kenobi",
          "label_display": "center",
          "media": [
           "A New Hope",
           "The Empire Strikes Back",
           "Return of the Jedi",
           "The Phantom Menace",
           "Attack of the Clones",
           "Revenge of the Sith"
          ],
          "px": 229.61125860763232,
          "py": 435.16614773725325,
          "shape": "circle",
          "shape_attrs": {
           "r": 15
          },
          "value": null,
          "weight": 26,
          "x": 229.62182843417617,
          "y": 435.1644833392846
         },
         "target": {
          "index": 4,
          "label": "Yoda",
          "label_display": "center",
          "media": [
           "The Empire Strikes Back",
           "Return of the Jedi",
           "The Phantom Menace",
           "Attack of the Clones",
           "Revenge of the Sith"
          ],
          "px": 437.68286481808394,
          "py": 387.57511461240193,
          "shape": "circle",
          "shape_attrs": {
           "r": 15
          },
          "value": null,
          "weight": 50,
          "x": 437.6801788187055,
          "y": 387.55689395262834
         }
        },
        {
         "source": {
          "index": 2,
          "label": "Obi-Wan Kenobi",
          "label_display": "center",
          "media": [
           "A New Hope",
           "The Empire Strikes Back",
           "Return of the Jedi",
           "The Phantom Menace",
           "Attack of the Clones",
           "Revenge of the Sith"
          ],
          "px": 229.61125860763232,
          "py": 435.16614773725325,
          "shape": "circle",
          "shape_attrs": {
           "r": 15
          },
          "value": null,
          "weight": 26,
          "x": 229.62182843417617,
          "y": 435.1644833392846
         },
         "target": {
          "index": 2,
          "label": "Obi-Wan Kenobi",
          "label_display": "center",
          "media": [
           "A New Hope",
           "The Empire Strikes Back",
           "Return of the Jedi",
           "The Phantom Menace",
           "Attack of the Clones",
           "Revenge of the Sith"
          ],
          "px": 229.61125860763232,
          "py": 435.16614773725325,
          "shape": "circle",
          "shape_attrs": {
           "r": 15
          },
          "value": null,
          "weight": 26,
          "x": 229.62182843417617,
          "y": 435.1644833392846
         }
        },
        {
         "source": {
          "index": 2,
          "label": "Obi-Wan Kenobi",
          "label_display": "center",
          "media": [
           "A New Hope",
           "The Empire Strikes Back",
           "Return of the Jedi",
           "The Phantom Menace",
           "Attack of the Clones",
           "Revenge of the Sith"
          ],
          "px": 229.61125860763232,
          "py": 435.16614773725325,
          "shape": "circle",
          "shape_attrs": {
           "r": 15
          },
          "value": null,
          "weight": 26,
          "x": 229.62182843417617,
          "y": 435.1644833392846
         },
         "target": {
          "fixed": 0,
          "index": 1,
          "label": "Beru Whitesun lars",
          "label_display": "center",
          "media": [
           "A New Hope",
           "Attack of the Clones",
           "Revenge of the Sith"
          ],
          "px": 510.8458713772954,
          "py": 140.57404862910994,
          "shape": "circle",
          "shape_attrs": {
           "r": 15
          },
          "value": null,
          "weight": 42,
          "x": 510.8154653184186,
          "y": 140.58391009085472
         }
        },
        {
         "source": {
          "fixed": 0,
          "index": 1,
          "label": "Beru Whitesun lars",
          "label_display": "center",
          "media": [
           "A New Hope",
           "Attack of the Clones",
           "Revenge of the Sith"
          ],
          "px": 510.8458713772954,
          "py": 140.57404862910994,
          "shape": "circle",
          "shape_attrs": {
           "r": 15
          },
          "value": null,
          "weight": 42,
          "x": 510.8154653184186,
          "y": 140.58391009085472
         },
         "target": {
          "index": 4,
          "label": "Yoda",
          "label_display": "center",
          "media": [
           "The Empire Strikes Back",
           "Return of the Jedi",
           "The Phantom Menace",
           "Attack of the Clones",
           "Revenge of the Sith"
          ],
          "px": 437.68286481808394,
          "py": 387.57511461240193,
          "shape": "circle",
          "shape_attrs": {
           "r": 15
          },
          "value": null,
          "weight": 50,
          "x": 437.6801788187055,
          "y": 387.55689395262834
         }
        },
        {
         "source": {
          "fixed": 0,
          "index": 1,
          "label": "Beru Whitesun lars",
          "label_display": "center",
          "media": [
           "A New Hope",
           "Attack of the Clones",
           "Revenge of the Sith"
          ],
          "px": 510.8458713772954,
          "py": 140.57404862910994,
          "shape": "circle",
          "shape_attrs": {
           "r": 15
          },
          "value": null,
          "weight": 42,
          "x": 510.8154653184186,
          "y": 140.58391009085472
         },
         "target": {
          "index": 2,
          "label": "Obi-Wan Kenobi",
          "label_display": "center",
          "media": [
           "A New Hope",
           "The Empire Strikes Back",
           "Return of the Jedi",
           "The Phantom Menace",
           "Attack of the Clones",
           "Revenge of the Sith"
          ],
          "px": 229.61125860763232,
          "py": 435.16614773725325,
          "shape": "circle",
          "shape_attrs": {
           "r": 15
          },
          "value": null,
          "weight": 26,
          "x": 229.62182843417617,
          "y": 435.1644833392846
         }
        },
        {
         "source": {
          "fixed": 0,
          "index": 1,
          "label": "Beru Whitesun lars",
          "label_display": "center",
          "media": [
           "A New Hope",
           "Attack of the Clones",
           "Revenge of the Sith"
          ],
          "px": 510.8458713772954,
          "py": 140.57404862910994,
          "shape": "circle",
          "shape_attrs": {
           "r": 15
          },
          "value": null,
          "weight": 42,
          "x": 510.8154653184186,
          "y": 140.58391009085472
         },
         "target": {
          "fixed": 0,
          "index": 1,
          "label": "Beru Whitesun lars",
          "label_display": "center",
          "media": [
           "A New Hope",
           "Attack of the Clones",
           "Revenge of the Sith"
          ],
          "px": 510.8458713772954,
          "py": 140.57404862910994,
          "shape": "circle",
          "shape_attrs": {
           "r": 15
          },
          "value": null,
          "weight": 42,
          "x": 510.8154653184186,
          "y": 140.58391009085472
         }
        },
        {
         "source": {
          "fixed": 0,
          "index": 5,
          "label": "Boba Fett",
          "label_display": "center",
          "media": [
           "The Empire Strikes Back",
           "Return of the Jedi",
           "Attack of the Clones"
          ],
          "px": 232.11268809838052,
          "py": 107.70210738338855,
          "shape": "circle",
          "shape_attrs": {
           "r": 15
          },
          "value": null,
          "weight": 24,
          "x": 232.11872212842874,
          "y": 107.72164586384166
         },
         "target": {
          "fixed": 0,
          "index": 5,
          "label": "Boba Fett",
          "label_display": "center",
          "media": [
           "The Empire Strikes Back",
           "Return of the Jedi",
           "Attack of the Clones"
          ],
          "px": 232.11268809838052,
          "py": 107.70210738338855,
          "shape": "circle",
          "shape_attrs": {
           "r": 15
          },
          "value": null,
          "weight": 24,
          "x": 232.11872212842874,
          "y": 107.72164586384166
         }
        },
        {
         "source": {
          "fixed": 0,
          "index": 5,
          "label": "Boba Fett",
          "label_display": "center",
          "media": [
           "The Empire Strikes Back",
           "Return of the Jedi",
           "Attack of the Clones"
          ],
          "px": 232.11268809838052,
          "py": 107.70210738338855,
          "shape": "circle",
          "shape_attrs": {
           "r": 15
          },
          "value": null,
          "weight": 24,
          "x": 232.11872212842874,
          "y": 107.72164586384166
         },
         "target": {
          "index": 4,
          "label": "Yoda",
          "label_display": "center",
          "media": [
           "The Empire Strikes Back",
           "Return of the Jedi",
           "The Phantom Menace",
           "Attack of the Clones",
           "Revenge of the Sith"
          ],
          "px": 437.68286481808394,
          "py": 387.57511461240193,
          "shape": "circle",
          "shape_attrs": {
           "r": 15
          },
          "value": null,
          "weight": 50,
          "x": 437.6801788187055,
          "y": 387.55689395262834
         }
        },
        {
         "source": {
          "fixed": 0,
          "index": 5,
          "label": "Boba Fett",
          "label_display": "center",
          "media": [
           "The Empire Strikes Back",
           "Return of the Jedi",
           "Attack of the Clones"
          ],
          "px": 232.11268809838052,
          "py": 107.70210738338855,
          "shape": "circle",
          "shape_attrs": {
           "r": 15
          },
          "value": null,
          "weight": 24,
          "x": 232.11872212842874,
          "y": 107.72164586384166
         },
         "target": {
          "fixed": 0,
          "index": 1,
          "label": "Beru Whitesun lars",
          "label_display": "center",
          "media": [
           "A New Hope",
           "Attack of the Clones",
           "Revenge of the Sith"
          ],
          "px": 510.8458713772954,
          "py": 140.57404862910994,
          "shape": "circle",
          "shape_attrs": {
           "r": 15
          },
          "value": null,
          "weight": 42,
          "x": 510.8154653184186,
          "y": 140.58391009085472
         }
        },
        {
         "source": {
          "fixed": 0,
          "index": 5,
          "label": "Boba Fett",
          "label_display": "center",
          "media": [
           "The Empire Strikes Back",
           "Return of the Jedi",
           "Attack of the Clones"
          ],
          "px": 232.11268809838052,
          "py": 107.70210738338855,
          "shape": "circle",
          "shape_attrs": {
           "r": 15
          },
          "value": null,
          "weight": 24,
          "x": 232.11872212842874,
          "y": 107.72164586384166
         },
         "target": {
          "fixed": 0,
          "index": 0,
          "label": "Darth Vader",
          "label_display": "center",
          "media": [
           "A New Hope",
           "The Empire Strikes Back",
           "Return of the Jedi",
           "Revenge of the Sith"
          ],
          "px": 317.54347624035074,
          "py": 56.988266818516465,
          "shape": "circle",
          "shape_attrs": {
           "r": 15
          },
          "value": null,
          "weight": 28,
          "x": 317.5191650486815,
          "y": 57.019581844208716
         }
        },
        {
         "source": {
          "index": 4,
          "label": "Yoda",
          "label_display": "center",
          "media": [
           "The Empire Strikes Back",
           "Return of the Jedi",
           "The Phantom Menace",
           "Attack of the Clones",
           "Revenge of the Sith"
          ],
          "px": 437.68286481808394,
          "py": 387.57511461240193,
          "shape": "circle",
          "shape_attrs": {
           "r": 15
          },
          "value": null,
          "weight": 50,
          "x": 437.6801788187055,
          "y": 387.55689395262834
         },
         "target": {
          "fixed": 0,
          "index": 5,
          "label": "Boba Fett",
          "label_display": "center",
          "media": [
           "The Empire Strikes Back",
           "Return of the Jedi",
           "Attack of the Clones"
          ],
          "px": 232.11268809838052,
          "py": 107.70210738338855,
          "shape": "circle",
          "shape_attrs": {
           "r": 15
          },
          "value": null,
          "weight": 24,
          "x": 232.11872212842874,
          "y": 107.72164586384166
         }
        },
        {
         "source": {
          "index": 4,
          "label": "Yoda",
          "label_display": "center",
          "media": [
           "The Empire Strikes Back",
           "Return of the Jedi",
           "The Phantom Menace",
           "Attack of the Clones",
           "Revenge of the Sith"
          ],
          "px": 437.68286481808394,
          "py": 387.57511461240193,
          "shape": "circle",
          "shape_attrs": {
           "r": 15
          },
          "value": null,
          "weight": 50,
          "x": 437.6801788187055,
          "y": 387.55689395262834
         },
         "target": {
          "index": 4,
          "label": "Yoda",
          "label_display": "center",
          "media": [
           "The Empire Strikes Back",
           "Return of the Jedi",
           "The Phantom Menace",
           "Attack of the Clones",
           "Revenge of the Sith"
          ],
          "px": 437.68286481808394,
          "py": 387.57511461240193,
          "shape": "circle",
          "shape_attrs": {
           "r": 15
          },
          "value": null,
          "weight": 50,
          "x": 437.6801788187055,
          "y": 387.55689395262834
         }
        },
        {
         "source": {
          "index": 4,
          "label": "Yoda",
          "label_display": "center",
          "media": [
           "The Empire Strikes Back",
           "Return of the Jedi",
           "The Phantom Menace",
           "Attack of the Clones",
           "Revenge of the Sith"
          ],
          "px": 437.68286481808394,
          "py": 387.57511461240193,
          "shape": "circle",
          "shape_attrs": {
           "r": 15
          },
          "value": null,
          "weight": 50,
          "x": 437.6801788187055,
          "y": 387.55689395262834
         },
         "target": {
          "fixed": 0,
          "index": 1,
          "label": "Beru Whitesun lars",
          "label_display": "center",
          "media": [
           "A New Hope",
           "Attack of the Clones",
           "Revenge of the Sith"
          ],
          "px": 510.8458713772954,
          "py": 140.57404862910994,
          "shape": "circle",
          "shape_attrs": {
           "r": 15
          },
          "value": null,
          "weight": 42,
          "x": 510.8154653184186,
          "y": 140.58391009085472
         }
        },
        {
         "source": {
          "index": 4,
          "label": "Yoda",
          "label_display": "center",
          "media": [
           "The Empire Strikes Back",
           "Return of the Jedi",
           "The Phantom Menace",
           "Attack of the Clones",
           "Revenge of the Sith"
          ],
          "px": 437.68286481808394,
          "py": 387.57511461240193,
          "shape": "circle",
          "shape_attrs": {
           "r": 15
          },
          "value": null,
          "weight": 50,
          "x": 437.6801788187055,
          "y": 387.55689395262834
         },
         "target": {
          "fixed": 0,
          "index": 0,
          "label": "Darth Vader",
          "label_display": "center",
          "media": [
           "A New Hope",
           "The Empire Strikes Back",
           "Return of the Jedi",
           "Revenge of the Sith"
          ],
          "px": 317.54347624035074,
          "py": 56.988266818516465,
          "shape": "circle",
          "shape_attrs": {
           "r": 15
          },
          "value": null,
          "weight": 28,
          "x": 317.5191650486815,
          "y": 57.019581844208716
         }
        },
        {
         "source": {
          "fixed": 0,
          "index": 1,
          "label": "Beru Whitesun lars",
          "label_display": "center",
          "media": [
           "A New Hope",
           "Attack of the Clones",
           "Revenge of the Sith"
          ],
          "px": 510.8458713772954,
          "py": 140.57404862910994,
          "shape": "circle",
          "shape_attrs": {
           "r": 15
          },
          "value": null,
          "weight": 42,
          "x": 510.8154653184186,
          "y": 140.58391009085472
         },
         "target": {
          "fixed": 0,
          "index": 5,
          "label": "Boba Fett",
          "label_display": "center",
          "media": [
           "The Empire Strikes Back",
           "Return of the Jedi",
           "Attack of the Clones"
          ],
          "px": 232.11268809838052,
          "py": 107.70210738338855,
          "shape": "circle",
          "shape_attrs": {
           "r": 15
          },
          "value": null,
          "weight": 24,
          "x": 232.11872212842874,
          "y": 107.72164586384166
         }
        },
        {
         "source": {
          "fixed": 0,
          "index": 1,
          "label": "Beru Whitesun lars",
          "label_display": "center",
          "media": [
           "A New Hope",
           "Attack of the Clones",
           "Revenge of the Sith"
          ],
          "px": 510.8458713772954,
          "py": 140.57404862910994,
          "shape": "circle",
          "shape_attrs": {
           "r": 15
          },
          "value": null,
          "weight": 42,
          "x": 510.8154653184186,
          "y": 140.58391009085472
         },
         "target": {
          "index": 4,
          "label": "Yoda",
          "label_display": "center",
          "media": [
           "The Empire Strikes Back",
           "Return of the Jedi",
           "The Phantom Menace",
           "Attack of the Clones",
           "Revenge of the Sith"
          ],
          "px": 437.68286481808394,
          "py": 387.57511461240193,
          "shape": "circle",
          "shape_attrs": {
           "r": 15
          },
          "value": null,
          "weight": 50,
          "x": 437.6801788187055,
          "y": 387.55689395262834
         }
        },
        {
         "source": {
          "fixed": 0,
          "index": 1,
          "label": "Beru Whitesun lars",
          "label_display": "center",
          "media": [
           "A New Hope",
           "Attack of the Clones",
           "Revenge of the Sith"
          ],
          "px": 510.8458713772954,
          "py": 140.57404862910994,
          "shape": "circle",
          "shape_attrs": {
           "r": 15
          },
          "value": null,
          "weight": 42,
          "x": 510.8154653184186,
          "y": 140.58391009085472
         },
         "target": {
          "fixed": 0,
          "index": 1,
          "label": "Beru Whitesun lars",
          "label_display": "center",
          "media": [
           "A New Hope",
           "Attack of the Clones",
           "Revenge of the Sith"
          ],
          "px": 510.8458713772954,
          "py": 140.57404862910994,
          "shape": "circle",
          "shape_attrs": {
           "r": 15
          },
          "value": null,
          "weight": 42,
          "x": 510.8154653184186,
          "y": 140.58391009085472
         }
        },
        {
         "source": {
          "fixed": 0,
          "index": 1,
          "label": "Beru Whitesun lars",
          "label_display": "center",
          "media": [
           "A New Hope",
           "Attack of the Clones",
           "Revenge of the Sith"
          ],
          "px": 510.8458713772954,
          "py": 140.57404862910994,
          "shape": "circle",
          "shape_attrs": {
           "r": 15
          },
          "value": null,
          "weight": 42,
          "x": 510.8154653184186,
          "y": 140.58391009085472
         },
         "target": {
          "fixed": 0,
          "index": 0,
          "label": "Darth Vader",
          "label_display": "center",
          "media": [
           "A New Hope",
           "The Empire Strikes Back",
           "Return of the Jedi",
           "Revenge of the Sith"
          ],
          "px": 317.54347624035074,
          "py": 56.988266818516465,
          "shape": "circle",
          "shape_attrs": {
           "r": 15
          },
          "value": null,
          "weight": 28,
          "x": 317.5191650486815,
          "y": 57.019581844208716
         }
        },
        {
         "source": {
          "fixed": 0,
          "index": 0,
          "label": "Darth Vader",
          "label_display": "center",
          "media": [
           "A New Hope",
           "The Empire Strikes Back",
           "Return of the Jedi",
           "Revenge of the Sith"
          ],
          "px": 317.54347624035074,
          "py": 56.988266818516465,
          "shape": "circle",
          "shape_attrs": {
           "r": 15
          },
          "value": null,
          "weight": 28,
          "x": 317.5191650486815,
          "y": 57.019581844208716
         },
         "target": {
          "fixed": 0,
          "index": 5,
          "label": "Boba Fett",
          "label_display": "center",
          "media": [
           "The Empire Strikes Back",
           "Return of the Jedi",
           "Attack of the Clones"
          ],
          "px": 232.11268809838052,
          "py": 107.70210738338855,
          "shape": "circle",
          "shape_attrs": {
           "r": 15
          },
          "value": null,
          "weight": 24,
          "x": 232.11872212842874,
          "y": 107.72164586384166
         }
        },
        {
         "source": {
          "fixed": 0,
          "index": 0,
          "label": "Darth Vader",
          "label_display": "center",
          "media": [
           "A New Hope",
           "The Empire Strikes Back",
           "Return of the Jedi",
           "Revenge of the Sith"
          ],
          "px": 317.54347624035074,
          "py": 56.988266818516465,
          "shape": "circle",
          "shape_attrs": {
           "r": 15
          },
          "value": null,
          "weight": 28,
          "x": 317.5191650486815,
          "y": 57.019581844208716
         },
         "target": {
          "index": 4,
          "label": "Yoda",
          "label_display": "center",
          "media": [
           "The Empire Strikes Back",
           "Return of the Jedi",
           "The Phantom Menace",
           "Attack of the Clones",
           "Revenge of the Sith"
          ],
          "px": 437.68286481808394,
          "py": 387.57511461240193,
          "shape": "circle",
          "shape_attrs": {
           "r": 15
          },
          "value": null,
          "weight": 50,
          "x": 437.6801788187055,
          "y": 387.55689395262834
         }
        },
        {
         "source": {
          "fixed": 0,
          "index": 0,
          "label": "Darth Vader",
          "label_display": "center",
          "media": [
           "A New Hope",
           "The Empire Strikes Back",
           "Return of the Jedi",
           "Revenge of the Sith"
          ],
          "px": 317.54347624035074,
          "py": 56.988266818516465,
          "shape": "circle",
          "shape_attrs": {
           "r": 15
          },
          "value": null,
          "weight": 28,
          "x": 317.5191650486815,
          "y": 57.019581844208716
         },
         "target": {
          "fixed": 0,
          "index": 1,
          "label": "Beru Whitesun lars",
          "label_display": "center",
          "media": [
           "A New Hope",
           "Attack of the Clones",
           "Revenge of the Sith"
          ],
          "px": 510.8458713772954,
          "py": 140.57404862910994,
          "shape": "circle",
          "shape_attrs": {
           "r": 15
          },
          "value": null,
          "weight": 42,
          "x": 510.8154653184186,
          "y": 140.58391009085472
         }
        },
        {
         "source": {
          "fixed": 0,
          "index": 0,
          "label": "Darth Vader",
          "label_display": "center",
          "media": [
           "A New Hope",
           "The Empire Strikes Back",
           "Return of the Jedi",
           "Revenge of the Sith"
          ],
          "px": 317.54347624035074,
          "py": 56.988266818516465,
          "shape": "circle",
          "shape_attrs": {
           "r": 15
          },
          "value": null,
          "weight": 28,
          "x": 317.5191650486815,
          "y": 57.019581844208716
         },
         "target": {
          "fixed": 0,
          "index": 0,
          "label": "Darth Vader",
          "label_display": "center",
          "media": [
           "A New Hope",
           "The Empire Strikes Back",
           "Return of the Jedi",
           "Revenge of the Sith"
          ],
          "px": 317.54347624035074,
          "py": 56.988266818516465,
          "shape": "circle",
          "shape_attrs": {
           "r": 15
          },
          "value": null,
          "weight": 28,
          "x": 317.5191650486815,
          "y": 57.019581844208716
         }
        },
        {
         "source": {
          "index": 3,
          "label": "Jabba Desilijic Tiure",
          "label_display": "center",
          "media": [
           "A New Hope",
           "Return of the Jedi",
           "The Phantom Menace"
          ],
          "px": 178.1818446294858,
          "py": 263.89650702479764,
          "shape": "circle",
          "shape_attrs": {
           "r": 15
          },
          "value": null,
          "weight": 36,
          "x": 178.19288193902784,
          "y": 263.90647904432336
         },
         "target": {
          "index": 3,
          "label": "Jabba Desilijic Tiure",
          "label_display": "center",
          "media": [
           "A New Hope",
           "Return of the Jedi",
           "The Phantom Menace"
          ],
          "px": 178.1818446294858,
          "py": 263.89650702479764,
          "shape": "circle",
          "shape_attrs": {
           "r": 15
          },
          "value": null,
          "weight": 36,
          "x": 178.19288193902784,
          "y": 263.90647904432336
         }
        },
        {
         "source": {
          "index": 3,
          "label": "Jabba Desilijic Tiure",
          "label_display": "center",
          "media": [
           "A New Hope",
           "Return of the Jedi",
           "The Phantom Menace"
          ],
          "px": 178.1818446294858,
          "py": 263.89650702479764,
          "shape": "circle",
          "shape_attrs": {
           "r": 15
          },
          "value": null,
          "weight": 36,
          "x": 178.19288193902784,
          "y": 263.90647904432336
         },
         "target": {
          "fixed": 0,
          "index": 5,
          "label": "Boba Fett",
          "label_display": "center",
          "media": [
           "The Empire Strikes Back",
           "Return of the Jedi",
           "Attack of the Clones"
          ],
          "px": 232.11268809838052,
          "py": 107.70210738338855,
          "shape": "circle",
          "shape_attrs": {
           "r": 15
          },
          "value": null,
          "weight": 24,
          "x": 232.11872212842874,
          "y": 107.72164586384166
         }
        },
        {
         "source": {
          "index": 3,
          "label": "Jabba Desilijic Tiure",
          "label_display": "center",
          "media": [
           "A New Hope",
           "Return of the Jedi",
           "The Phantom Menace"
          ],
          "px": 178.1818446294858,
          "py": 263.89650702479764,
          "shape": "circle",
          "shape_attrs": {
           "r": 15
          },
          "value": null,
          "weight": 36,
          "x": 178.19288193902784,
          "y": 263.90647904432336
         },
         "target": {
          "index": 4,
          "label": "Yoda",
          "label_display": "center",
          "media": [
           "The Empire Strikes Back",
           "Return of the Jedi",
           "The Phantom Menace",
           "Attack of the Clones",
           "Revenge of the Sith"
          ],
          "px": 437.68286481808394,
          "py": 387.57511461240193,
          "shape": "circle",
          "shape_attrs": {
           "r": 15
          },
          "value": null,
          "weight": 50,
          "x": 437.6801788187055,
          "y": 387.55689395262834
         }
        },
        {
         "source": {
          "index": 3,
          "label": "Jabba Desilijic Tiure",
          "label_display": "center",
          "media": [
           "A New Hope",
           "Return of the Jedi",
           "The Phantom Menace"
          ],
          "px": 178.1818446294858,
          "py": 263.89650702479764,
          "shape": "circle",
          "shape_attrs": {
           "r": 15
          },
          "value": null,
          "weight": 36,
          "x": 178.19288193902784,
          "y": 263.90647904432336
         },
         "target": {
          "fixed": 0,
          "index": 1,
          "label": "Beru Whitesun lars",
          "label_display": "center",
          "media": [
           "A New Hope",
           "Attack of the Clones",
           "Revenge of the Sith"
          ],
          "px": 510.8458713772954,
          "py": 140.57404862910994,
          "shape": "circle",
          "shape_attrs": {
           "r": 15
          },
          "value": null,
          "weight": 42,
          "x": 510.8154653184186,
          "y": 140.58391009085472
         }
        },
        {
         "source": {
          "fixed": 0,
          "index": 5,
          "label": "Boba Fett",
          "label_display": "center",
          "media": [
           "The Empire Strikes Back",
           "Return of the Jedi",
           "Attack of the Clones"
          ],
          "px": 232.11268809838052,
          "py": 107.70210738338855,
          "shape": "circle",
          "shape_attrs": {
           "r": 15
          },
          "value": null,
          "weight": 24,
          "x": 232.11872212842874,
          "y": 107.72164586384166
         },
         "target": {
          "index": 3,
          "label": "Jabba Desilijic Tiure",
          "label_display": "center",
          "media": [
           "A New Hope",
           "Return of the Jedi",
           "The Phantom Menace"
          ],
          "px": 178.1818446294858,
          "py": 263.89650702479764,
          "shape": "circle",
          "shape_attrs": {
           "r": 15
          },
          "value": null,
          "weight": 36,
          "x": 178.19288193902784,
          "y": 263.90647904432336
         }
        },
        {
         "source": {
          "fixed": 0,
          "index": 5,
          "label": "Boba Fett",
          "label_display": "center",
          "media": [
           "The Empire Strikes Back",
           "Return of the Jedi",
           "Attack of the Clones"
          ],
          "px": 232.11268809838052,
          "py": 107.70210738338855,
          "shape": "circle",
          "shape_attrs": {
           "r": 15
          },
          "value": null,
          "weight": 24,
          "x": 232.11872212842874,
          "y": 107.72164586384166
         },
         "target": {
          "fixed": 0,
          "index": 5,
          "label": "Boba Fett",
          "label_display": "center",
          "media": [
           "The Empire Strikes Back",
           "Return of the Jedi",
           "Attack of the Clones"
          ],
          "px": 232.11268809838052,
          "py": 107.70210738338855,
          "shape": "circle",
          "shape_attrs": {
           "r": 15
          },
          "value": null,
          "weight": 24,
          "x": 232.11872212842874,
          "y": 107.72164586384166
         }
        },
        {
         "source": {
          "fixed": 0,
          "index": 5,
          "label": "Boba Fett",
          "label_display": "center",
          "media": [
           "The Empire Strikes Back",
           "Return of the Jedi",
           "Attack of the Clones"
          ],
          "px": 232.11268809838052,
          "py": 107.70210738338855,
          "shape": "circle",
          "shape_attrs": {
           "r": 15
          },
          "value": null,
          "weight": 24,
          "x": 232.11872212842874,
          "y": 107.72164586384166
         },
         "target": {
          "index": 4,
          "label": "Yoda",
          "label_display": "center",
          "media": [
           "The Empire Strikes Back",
           "Return of the Jedi",
           "The Phantom Menace",
           "Attack of the Clones",
           "Revenge of the Sith"
          ],
          "px": 437.68286481808394,
          "py": 387.57511461240193,
          "shape": "circle",
          "shape_attrs": {
           "r": 15
          },
          "value": null,
          "weight": 50,
          "x": 437.6801788187055,
          "y": 387.55689395262834
         }
        },
        {
         "source": {
          "fixed": 0,
          "index": 5,
          "label": "Boba Fett",
          "label_display": "center",
          "media": [
           "The Empire Strikes Back",
           "Return of the Jedi",
           "Attack of the Clones"
          ],
          "px": 232.11268809838052,
          "py": 107.70210738338855,
          "shape": "circle",
          "shape_attrs": {
           "r": 15
          },
          "value": null,
          "weight": 24,
          "x": 232.11872212842874,
          "y": 107.72164586384166
         },
         "target": {
          "fixed": 0,
          "index": 1,
          "label": "Beru Whitesun lars",
          "label_display": "center",
          "media": [
           "A New Hope",
           "Attack of the Clones",
           "Revenge of the Sith"
          ],
          "px": 510.8458713772954,
          "py": 140.57404862910994,
          "shape": "circle",
          "shape_attrs": {
           "r": 15
          },
          "value": null,
          "weight": 42,
          "x": 510.8154653184186,
          "y": 140.58391009085472
         }
        },
        {
         "source": {
          "index": 4,
          "label": "Yoda",
          "label_display": "center",
          "media": [
           "The Empire Strikes Back",
           "Return of the Jedi",
           "The Phantom Menace",
           "Attack of the Clones",
           "Revenge of the Sith"
          ],
          "px": 437.68286481808394,
          "py": 387.57511461240193,
          "shape": "circle",
          "shape_attrs": {
           "r": 15
          },
          "value": null,
          "weight": 50,
          "x": 437.6801788187055,
          "y": 387.55689395262834
         },
         "target": {
          "index": 3,
          "label": "Jabba Desilijic Tiure",
          "label_display": "center",
          "media": [
           "A New Hope",
           "Return of the Jedi",
           "The Phantom Menace"
          ],
          "px": 178.1818446294858,
          "py": 263.89650702479764,
          "shape": "circle",
          "shape_attrs": {
           "r": 15
          },
          "value": null,
          "weight": 36,
          "x": 178.19288193902784,
          "y": 263.90647904432336
         }
        },
        {
         "source": {
          "index": 4,
          "label": "Yoda",
          "label_display": "center",
          "media": [
           "The Empire Strikes Back",
           "Return of the Jedi",
           "The Phantom Menace",
           "Attack of the Clones",
           "Revenge of the Sith"
          ],
          "px": 437.68286481808394,
          "py": 387.57511461240193,
          "shape": "circle",
          "shape_attrs": {
           "r": 15
          },
          "value": null,
          "weight": 50,
          "x": 437.6801788187055,
          "y": 387.55689395262834
         },
         "target": {
          "fixed": 0,
          "index": 5,
          "label": "Boba Fett",
          "label_display": "center",
          "media": [
           "The Empire Strikes Back",
           "Return of the Jedi",
           "Attack of the Clones"
          ],
          "px": 232.11268809838052,
          "py": 107.70210738338855,
          "shape": "circle",
          "shape_attrs": {
           "r": 15
          },
          "value": null,
          "weight": 24,
          "x": 232.11872212842874,
          "y": 107.72164586384166
         }
        },
        {
         "source": {
          "index": 4,
          "label": "Yoda",
          "label_display": "center",
          "media": [
           "The Empire Strikes Back",
           "Return of the Jedi",
           "The Phantom Menace",
           "Attack of the Clones",
           "Revenge of the Sith"
          ],
          "px": 437.68286481808394,
          "py": 387.57511461240193,
          "shape": "circle",
          "shape_attrs": {
           "r": 15
          },
          "value": null,
          "weight": 50,
          "x": 437.6801788187055,
          "y": 387.55689395262834
         },
         "target": {
          "index": 4,
          "label": "Yoda",
          "label_display": "center",
          "media": [
           "The Empire Strikes Back",
           "Return of the Jedi",
           "The Phantom Menace",
           "Attack of the Clones",
           "Revenge of the Sith"
          ],
          "px": 437.68286481808394,
          "py": 387.57511461240193,
          "shape": "circle",
          "shape_attrs": {
           "r": 15
          },
          "value": null,
          "weight": 50,
          "x": 437.6801788187055,
          "y": 387.55689395262834
         }
        },
        {
         "source": {
          "index": 4,
          "label": "Yoda",
          "label_display": "center",
          "media": [
           "The Empire Strikes Back",
           "Return of the Jedi",
           "The Phantom Menace",
           "Attack of the Clones",
           "Revenge of the Sith"
          ],
          "px": 437.68286481808394,
          "py": 387.57511461240193,
          "shape": "circle",
          "shape_attrs": {
           "r": 15
          },
          "value": null,
          "weight": 50,
          "x": 437.6801788187055,
          "y": 387.55689395262834
         },
         "target": {
          "fixed": 0,
          "index": 1,
          "label": "Beru Whitesun lars",
          "label_display": "center",
          "media": [
           "A New Hope",
           "Attack of the Clones",
           "Revenge of the Sith"
          ],
          "px": 510.8458713772954,
          "py": 140.57404862910994,
          "shape": "circle",
          "shape_attrs": {
           "r": 15
          },
          "value": null,
          "weight": 42,
          "x": 510.8154653184186,
          "y": 140.58391009085472
         }
        },
        {
         "source": {
          "fixed": 0,
          "index": 1,
          "label": "Beru Whitesun lars",
          "label_display": "center",
          "media": [
           "A New Hope",
           "Attack of the Clones",
           "Revenge of the Sith"
          ],
          "px": 510.8458713772954,
          "py": 140.57404862910994,
          "shape": "circle",
          "shape_attrs": {
           "r": 15
          },
          "value": null,
          "weight": 42,
          "x": 510.8154653184186,
          "y": 140.58391009085472
         },
         "target": {
          "index": 3,
          "label": "Jabba Desilijic Tiure",
          "label_display": "center",
          "media": [
           "A New Hope",
           "Return of the Jedi",
           "The Phantom Menace"
          ],
          "px": 178.1818446294858,
          "py": 263.89650702479764,
          "shape": "circle",
          "shape_attrs": {
           "r": 15
          },
          "value": null,
          "weight": 36,
          "x": 178.19288193902784,
          "y": 263.90647904432336
         }
        },
        {
         "source": {
          "fixed": 0,
          "index": 1,
          "label": "Beru Whitesun lars",
          "label_display": "center",
          "media": [
           "A New Hope",
           "Attack of the Clones",
           "Revenge of the Sith"
          ],
          "px": 510.8458713772954,
          "py": 140.57404862910994,
          "shape": "circle",
          "shape_attrs": {
           "r": 15
          },
          "value": null,
          "weight": 42,
          "x": 510.8154653184186,
          "y": 140.58391009085472
         },
         "target": {
          "fixed": 0,
          "index": 5,
          "label": "Boba Fett",
          "label_display": "center",
          "media": [
           "The Empire Strikes Back",
           "Return of the Jedi",
           "Attack of the Clones"
          ],
          "px": 232.11268809838052,
          "py": 107.70210738338855,
          "shape": "circle",
          "shape_attrs": {
           "r": 15
          },
          "value": null,
          "weight": 24,
          "x": 232.11872212842874,
          "y": 107.72164586384166
         }
        },
        {
         "source": {
          "fixed": 0,
          "index": 1,
          "label": "Beru Whitesun lars",
          "label_display": "center",
          "media": [
           "A New Hope",
           "Attack of the Clones",
           "Revenge of the Sith"
          ],
          "px": 510.8458713772954,
          "py": 140.57404862910994,
          "shape": "circle",
          "shape_attrs": {
           "r": 15
          },
          "value": null,
          "weight": 42,
          "x": 510.8154653184186,
          "y": 140.58391009085472
         },
         "target": {
          "index": 4,
          "label": "Yoda",
          "label_display": "center",
          "media": [
           "The Empire Strikes Back",
           "Return of the Jedi",
           "The Phantom Menace",
           "Attack of the Clones",
           "Revenge of the Sith"
          ],
          "px": 437.68286481808394,
          "py": 387.57511461240193,
          "shape": "circle",
          "shape_attrs": {
           "r": 15
          },
          "value": null,
          "weight": 50,
          "x": 437.6801788187055,
          "y": 387.55689395262834
         }
        },
        {
         "source": {
          "fixed": 0,
          "index": 1,
          "label": "Beru Whitesun lars",
          "label_display": "center",
          "media": [
           "A New Hope",
           "Attack of the Clones",
           "Revenge of the Sith"
          ],
          "px": 510.8458713772954,
          "py": 140.57404862910994,
          "shape": "circle",
          "shape_attrs": {
           "r": 15
          },
          "value": null,
          "weight": 42,
          "x": 510.8154653184186,
          "y": 140.58391009085472
         },
         "target": {
          "fixed": 0,
          "index": 1,
          "label": "Beru Whitesun lars",
          "label_display": "center",
          "media": [
           "A New Hope",
           "Attack of the Clones",
           "Revenge of the Sith"
          ],
          "px": 510.8458713772954,
          "py": 140.57404862910994,
          "shape": "circle",
          "shape_attrs": {
           "r": 15
          },
          "value": null,
          "weight": 42,
          "x": 510.8154653184186,
          "y": 140.58391009085472
         }
        }
       ],
       "link_distance": 300,
       "link_matrix": {
        "type": "float",
        "values": []
       },
       "link_type": "arc",
       "node_data": [
        {
         "fixed": 0,
         "index": 0,
         "label": "Darth Vader",
         "label_display": "center",
         "media": [
          "A New Hope",
          "The Empire Strikes Back",
          "Return of the Jedi",
          "Revenge of the Sith"
         ],
         "px": 317.54347624035074,
         "py": 56.988266818516465,
         "shape": "circle",
         "shape_attrs": {
          "r": 15
         },
         "value": null,
         "weight": 28,
         "x": 317.5191650486815,
         "y": 57.019581844208716
        },
        {
         "fixed": 0,
         "index": 1,
         "label": "Beru Whitesun lars",
         "label_display": "center",
         "media": [
          "A New Hope",
          "Attack of the Clones",
          "Revenge of the Sith"
         ],
         "px": 510.8458713772954,
         "py": 140.57404862910994,
         "shape": "circle",
         "shape_attrs": {
          "r": 15
         },
         "value": null,
         "weight": 42,
         "x": 510.8154653184186,
         "y": 140.58391009085472
        },
        {
         "index": 2,
         "label": "Obi-Wan Kenobi",
         "label_display": "center",
         "media": [
          "A New Hope",
          "The Empire Strikes Back",
          "Return of the Jedi",
          "The Phantom Menace",
          "Attack of the Clones",
          "Revenge of the Sith"
         ],
         "px": 229.61125860763232,
         "py": 435.16614773725325,
         "shape": "circle",
         "shape_attrs": {
          "r": 15
         },
         "value": null,
         "weight": 26,
         "x": 229.62182843417617,
         "y": 435.1644833392846
        },
        {
         "index": 3,
         "label": "Jabba Desilijic Tiure",
         "label_display": "center",
         "media": [
          "A New Hope",
          "Return of the Jedi",
          "The Phantom Menace"
         ],
         "px": 178.1818446294858,
         "py": 263.89650702479764,
         "shape": "circle",
         "shape_attrs": {
          "r": 15
         },
         "value": null,
         "weight": 36,
         "x": 178.19288193902784,
         "y": 263.90647904432336
        },
        {
         "index": 4,
         "label": "Yoda",
         "label_display": "center",
         "media": [
          "The Empire Strikes Back",
          "Return of the Jedi",
          "The Phantom Menace",
          "Attack of the Clones",
          "Revenge of the Sith"
         ],
         "px": 437.68286481808394,
         "py": 387.57511461240193,
         "shape": "circle",
         "shape_attrs": {
          "r": 15
         },
         "value": null,
         "weight": 50,
         "x": 437.6801788187055,
         "y": 387.55689395262834
        },
        {
         "fixed": 0,
         "index": 5,
         "label": "Boba Fett",
         "label_display": "center",
         "media": [
          "The Empire Strikes Back",
          "Return of the Jedi",
          "Attack of the Clones"
         ],
         "px": 232.11268809838052,
         "py": 107.70210738338855,
         "shape": "circle",
         "shape_attrs": {
          "r": 15
         },
         "value": null,
         "weight": 24,
         "x": 232.11872212842874,
         "y": 107.72164586384166
        },
        {
         "index": 6,
         "label": "Mon Mothma",
         "label_display": "center",
         "media": [
          "Return of the Jedi"
         ],
         "px": 558.744732451368,
         "py": 311.0980054395788,
         "shape": "circle",
         "shape_attrs": {
          "r": 15
         },
         "value": null,
         "weight": 12,
         "x": 558.7182047582008,
         "y": 311.08512457780466
        }
       ],
       "preserve_domain": {},
       "scales": {},
       "scales_metadata": {
        "color": {
         "dimension": "color"
        },
        "link_color": {
         "dimension": "link_color"
        },
        "x": {
         "dimension": "x",
         "orientation": "horizontal"
        },
        "y": {
         "dimension": "y",
         "orientation": "vertical"
        }
       },
       "selected": [],
       "selected_style": {},
       "tooltip": "IPY_MODEL_29f8695bf102409abb5fcea3dda492f2",
       "tooltip_location": "mouse",
       "tooltip_style": {
        "opacity": 0.9
       },
       "unhovered_style": {},
       "unselected_style": {},
       "visible": true,
       "x": {
        "type": "float",
        "values": []
       },
       "y": {
        "type": "float",
        "values": []
       }
      }
     },
     "74dfaf8b598346bc83eaa2266d81acab": {
      "model_module": "bqplot",
      "model_module_version": "^0.4.1",
      "model_name": "GraphModel",
      "state": {
       "_model_module": "bqplot",
       "_model_module_version": "^0.4.1",
       "_view_count": null,
       "_view_module": "bqplot",
       "_view_module_version": "^0.4.1",
       "apply_clip": true,
       "charge": -300,
       "color": {
        "type": null,
        "values": null
       },
       "colors": [
        "#1f77b4",
        "#ff7f0e",
        "#2ca02c",
        "#d62728",
        "#9467bd",
        "#8c564b",
        "#e377c2",
        "#7f7f7f",
        "#bcbd22",
        "#17becf"
       ],
       "directed": true,
       "display_legend": false,
       "enable_hover": true,
       "highlight_links": true,
       "hovered_style": {},
       "interactions": {
        "click": "select",
        "hover": "tooltip"
       },
       "labels": [],
       "link_color": {
        "type": "float",
        "values": []
       },
       "link_data": [
        {
         "source": {
          "index": 3,
          "label": "Jabba Desilijic Tiure",
          "label_display": "center",
          "media": [
           "A New Hope",
           "Return of the Jedi",
           "The Phantom Menace"
          ],
          "px": 184.08980370639892,
          "py": 230.6819419288396,
          "shape": "circle",
          "shape_attrs": {
           "r": 15
          },
          "value": null,
          "weight": 36,
          "x": 184.07353588241813,
          "y": 230.67511833661734
         },
         "target": {
          "index": 3,
          "label": "Jabba Desilijic Tiure",
          "label_display": "center",
          "media": [
           "A New Hope",
           "Return of the Jedi",
           "The Phantom Menace"
          ],
          "px": 184.08980370639892,
          "py": 230.6819419288396,
          "shape": "circle",
          "shape_attrs": {
           "r": 15
          },
          "value": null,
          "weight": 36,
          "x": 184.07353588241813,
          "y": 230.67511833661734
         }
        },
        {
         "source": {
          "index": 3,
          "label": "Jabba Desilijic Tiure",
          "label_display": "center",
          "media": [
           "A New Hope",
           "Return of the Jedi",
           "The Phantom Menace"
          ],
          "px": 184.08980370639892,
          "py": 230.6819419288396,
          "shape": "circle",
          "shape_attrs": {
           "r": 15
          },
          "value": null,
          "weight": 36,
          "x": 184.07353588241813,
          "y": 230.67511833661734
         },
         "target": {
          "index": 5,
          "label": "Boba Fett",
          "label_display": "center",
          "media": [
           "The Empire Strikes Back",
           "Return of the Jedi",
           "Attack of the Clones"
          ],
          "px": 324.5306333345561,
          "py": 476.50934030226404,
          "shape": "circle",
          "shape_attrs": {
           "r": 15
          },
          "value": null,
          "weight": 24,
          "x": 324.530648431727,
          "y": 476.5342269469411
         }
        },
        {
         "source": {
          "index": 3,
          "label": "Jabba Desilijic Tiure",
          "label_display": "center",
          "media": [
           "A New Hope",
           "Return of the Jedi",
           "The Phantom Menace"
          ],
          "px": 184.08980370639892,
          "py": 230.6819419288396,
          "shape": "circle",
          "shape_attrs": {
           "r": 15
          },
          "value": null,
          "weight": 36,
          "x": 184.07353588241813,
          "y": 230.67511833661734
         },
         "target": {
          "index": 4,
          "label": "Yoda",
          "label_display": "center",
          "media": [
           "The Empire Strikes Back",
           "Return of the Jedi",
           "The Phantom Menace",
           "Attack of the Clones",
           "Revenge of the Sith"
          ],
          "px": 504.64001531181304,
          "py": 340.27955901755183,
          "shape": "circle",
          "shape_attrs": {
           "r": 15
          },
          "value": null,
          "weight": 50,
          "x": 504.6557281547196,
          "y": 340.2914741971771
         }
        },
        {
         "source": {
          "index": 3,
          "label": "Jabba Desilijic Tiure",
          "label_display": "center",
          "media": [
           "A New Hope",
           "Return of the Jedi",
           "The Phantom Menace"
          ],
          "px": 184.08980370639892,
          "py": 230.6819419288396,
          "shape": "circle",
          "shape_attrs": {
           "r": 15
          },
          "value": null,
          "weight": 36,
          "x": 184.07353588241813,
          "y": 230.67511833661734
         },
         "target": {
          "index": 2,
          "label": "Obi-Wan Kenobi",
          "label_display": "center",
          "media": [
           "A New Hope",
           "The Empire Strikes Back",
           "Return of the Jedi",
           "The Phantom Menace",
           "Attack of the Clones",
           "Revenge of the Sith"
          ],
          "px": 533.0397615495689,
          "py": 110.32042497572475,
          "shape": "circle",
          "shape_attrs": {
           "r": 15
          },
          "value": null,
          "weight": 26,
          "x": 533.0558907748854,
          "y": 110.31231267728299
         }
        },
        {
         "source": {
          "index": 5,
          "label": "Boba Fett",
          "label_display": "center",
          "media": [
           "The Empire Strikes Back",
           "Return of the Jedi",
           "Attack of the Clones"
          ],
          "px": 324.5306333345561,
          "py": 476.50934030226404,
          "shape": "circle",
          "shape_attrs": {
           "r": 15
          },
          "value": null,
          "weight": 24,
          "x": 324.530648431727,
          "y": 476.5342269469411
         },
         "target": {
          "index": 3,
          "label": "Jabba Desilijic Tiure",
          "label_display": "center",
          "media": [
           "A New Hope",
           "Return of the Jedi",
           "The Phantom Menace"
          ],
          "px": 184.08980370639892,
          "py": 230.6819419288396,
          "shape": "circle",
          "shape_attrs": {
           "r": 15
          },
          "value": null,
          "weight": 36,
          "x": 184.07353588241813,
          "y": 230.67511833661734
         }
        },
        {
         "source": {
          "index": 5,
          "label": "Boba Fett",
          "label_display": "center",
          "media": [
           "The Empire Strikes Back",
           "Return of the Jedi",
           "Attack of the Clones"
          ],
          "px": 324.5306333345561,
          "py": 476.50934030226404,
          "shape": "circle",
          "shape_attrs": {
           "r": 15
          },
          "value": null,
          "weight": 24,
          "x": 324.530648431727,
          "y": 476.5342269469411
         },
         "target": {
          "index": 5,
          "label": "Boba Fett",
          "label_display": "center",
          "media": [
           "The Empire Strikes Back",
           "Return of the Jedi",
           "Attack of the Clones"
          ],
          "px": 324.5306333345561,
          "py": 476.50934030226404,
          "shape": "circle",
          "shape_attrs": {
           "r": 15
          },
          "value": null,
          "weight": 24,
          "x": 324.530648431727,
          "y": 476.5342269469411
         }
        },
        {
         "source": {
          "index": 5,
          "label": "Boba Fett",
          "label_display": "center",
          "media": [
           "The Empire Strikes Back",
           "Return of the Jedi",
           "Attack of the Clones"
          ],
          "px": 324.5306333345561,
          "py": 476.50934030226404,
          "shape": "circle",
          "shape_attrs": {
           "r": 15
          },
          "value": null,
          "weight": 24,
          "x": 324.530648431727,
          "y": 476.5342269469411
         },
         "target": {
          "index": 4,
          "label": "Yoda",
          "label_display": "center",
          "media": [
           "The Empire Strikes Back",
           "Return of the Jedi",
           "The Phantom Menace",
           "Attack of the Clones",
           "Revenge of the Sith"
          ],
          "px": 504.64001531181304,
          "py": 340.27955901755183,
          "shape": "circle",
          "shape_attrs": {
           "r": 15
          },
          "value": null,
          "weight": 50,
          "x": 504.6557281547196,
          "y": 340.2914741971771
         }
        },
        {
         "source": {
          "index": 5,
          "label": "Boba Fett",
          "label_display": "center",
          "media": [
           "The Empire Strikes Back",
           "Return of the Jedi",
           "Attack of the Clones"
          ],
          "px": 324.5306333345561,
          "py": 476.50934030226404,
          "shape": "circle",
          "shape_attrs": {
           "r": 15
          },
          "value": null,
          "weight": 24,
          "x": 324.530648431727,
          "y": 476.5342269469411
         },
         "target": {
          "index": 2,
          "label": "Obi-Wan Kenobi",
          "label_display": "center",
          "media": [
           "A New Hope",
           "The Empire Strikes Back",
           "Return of the Jedi",
           "The Phantom Menace",
           "Attack of the Clones",
           "Revenge of the Sith"
          ],
          "px": 533.0397615495689,
          "py": 110.32042497572475,
          "shape": "circle",
          "shape_attrs": {
           "r": 15
          },
          "value": null,
          "weight": 26,
          "x": 533.0558907748854,
          "y": 110.31231267728299
         }
        },
        {
         "source": {
          "index": 4,
          "label": "Yoda",
          "label_display": "center",
          "media": [
           "The Empire Strikes Back",
           "Return of the Jedi",
           "The Phantom Menace",
           "Attack of the Clones",
           "Revenge of the Sith"
          ],
          "px": 504.64001531181304,
          "py": 340.27955901755183,
          "shape": "circle",
          "shape_attrs": {
           "r": 15
          },
          "value": null,
          "weight": 50,
          "x": 504.6557281547196,
          "y": 340.2914741971771
         },
         "target": {
          "index": 3,
          "label": "Jabba Desilijic Tiure",
          "label_display": "center",
          "media": [
           "A New Hope",
           "Return of the Jedi",
           "The Phantom Menace"
          ],
          "px": 184.08980370639892,
          "py": 230.6819419288396,
          "shape": "circle",
          "shape_attrs": {
           "r": 15
          },
          "value": null,
          "weight": 36,
          "x": 184.07353588241813,
          "y": 230.67511833661734
         }
        },
        {
         "source": {
          "index": 4,
          "label": "Yoda",
          "label_display": "center",
          "media": [
           "The Empire Strikes Back",
           "Return of the Jedi",
           "The Phantom Menace",
           "Attack of the Clones",
           "Revenge of the Sith"
          ],
          "px": 504.64001531181304,
          "py": 340.27955901755183,
          "shape": "circle",
          "shape_attrs": {
           "r": 15
          },
          "value": null,
          "weight": 50,
          "x": 504.6557281547196,
          "y": 340.2914741971771
         },
         "target": {
          "index": 5,
          "label": "Boba Fett",
          "label_display": "center",
          "media": [
           "The Empire Strikes Back",
           "Return of the Jedi",
           "Attack of the Clones"
          ],
          "px": 324.5306333345561,
          "py": 476.50934030226404,
          "shape": "circle",
          "shape_attrs": {
           "r": 15
          },
          "value": null,
          "weight": 24,
          "x": 324.530648431727,
          "y": 476.5342269469411
         }
        },
        {
         "source": {
          "index": 4,
          "label": "Yoda",
          "label_display": "center",
          "media": [
           "The Empire Strikes Back",
           "Return of the Jedi",
           "The Phantom Menace",
           "Attack of the Clones",
           "Revenge of the Sith"
          ],
          "px": 504.64001531181304,
          "py": 340.27955901755183,
          "shape": "circle",
          "shape_attrs": {
           "r": 15
          },
          "value": null,
          "weight": 50,
          "x": 504.6557281547196,
          "y": 340.2914741971771
         },
         "target": {
          "index": 4,
          "label": "Yoda",
          "label_display": "center",
          "media": [
           "The Empire Strikes Back",
           "Return of the Jedi",
           "The Phantom Menace",
           "Attack of the Clones",
           "Revenge of the Sith"
          ],
          "px": 504.64001531181304,
          "py": 340.27955901755183,
          "shape": "circle",
          "shape_attrs": {
           "r": 15
          },
          "value": null,
          "weight": 50,
          "x": 504.6557281547196,
          "y": 340.2914741971771
         }
        },
        {
         "source": {
          "index": 4,
          "label": "Yoda",
          "label_display": "center",
          "media": [
           "The Empire Strikes Back",
           "Return of the Jedi",
           "The Phantom Menace",
           "Attack of the Clones",
           "Revenge of the Sith"
          ],
          "px": 504.64001531181304,
          "py": 340.27955901755183,
          "shape": "circle",
          "shape_attrs": {
           "r": 15
          },
          "value": null,
          "weight": 50,
          "x": 504.6557281547196,
          "y": 340.2914741971771
         },
         "target": {
          "index": 2,
          "label": "Obi-Wan Kenobi",
          "label_display": "center",
          "media": [
           "A New Hope",
           "The Empire Strikes Back",
           "Return of the Jedi",
           "The Phantom Menace",
           "Attack of the Clones",
           "Revenge of the Sith"
          ],
          "px": 533.0397615495689,
          "py": 110.32042497572475,
          "shape": "circle",
          "shape_attrs": {
           "r": 15
          },
          "value": null,
          "weight": 26,
          "x": 533.0558907748854,
          "y": 110.31231267728299
         }
        },
        {
         "source": {
          "index": 2,
          "label": "Obi-Wan Kenobi",
          "label_display": "center",
          "media": [
           "A New Hope",
           "The Empire Strikes Back",
           "Return of the Jedi",
           "The Phantom Menace",
           "Attack of the Clones",
           "Revenge of the Sith"
          ],
          "px": 533.0397615495689,
          "py": 110.32042497572475,
          "shape": "circle",
          "shape_attrs": {
           "r": 15
          },
          "value": null,
          "weight": 26,
          "x": 533.0558907748854,
          "y": 110.31231267728299
         },
         "target": {
          "index": 3,
          "label": "Jabba Desilijic Tiure",
          "label_display": "center",
          "media": [
           "A New Hope",
           "Return of the Jedi",
           "The Phantom Menace"
          ],
          "px": 184.08980370639892,
          "py": 230.6819419288396,
          "shape": "circle",
          "shape_attrs": {
           "r": 15
          },
          "value": null,
          "weight": 36,
          "x": 184.07353588241813,
          "y": 230.67511833661734
         }
        },
        {
         "source": {
          "index": 2,
          "label": "Obi-Wan Kenobi",
          "label_display": "center",
          "media": [
           "A New Hope",
           "The Empire Strikes Back",
           "Return of the Jedi",
           "The Phantom Menace",
           "Attack of the Clones",
           "Revenge of the Sith"
          ],
          "px": 533.0397615495689,
          "py": 110.32042497572475,
          "shape": "circle",
          "shape_attrs": {
           "r": 15
          },
          "value": null,
          "weight": 26,
          "x": 533.0558907748854,
          "y": 110.31231267728299
         },
         "target": {
          "index": 5,
          "label": "Boba Fett",
          "label_display": "center",
          "media": [
           "The Empire Strikes Back",
           "Return of the Jedi",
           "Attack of the Clones"
          ],
          "px": 324.5306333345561,
          "py": 476.50934030226404,
          "shape": "circle",
          "shape_attrs": {
           "r": 15
          },
          "value": null,
          "weight": 24,
          "x": 324.530648431727,
          "y": 476.5342269469411
         }
        },
        {
         "source": {
          "index": 2,
          "label": "Obi-Wan Kenobi",
          "label_display": "center",
          "media": [
           "A New Hope",
           "The Empire Strikes Back",
           "Return of the Jedi",
           "The Phantom Menace",
           "Attack of the Clones",
           "Revenge of the Sith"
          ],
          "px": 533.0397615495689,
          "py": 110.32042497572475,
          "shape": "circle",
          "shape_attrs": {
           "r": 15
          },
          "value": null,
          "weight": 26,
          "x": 533.0558907748854,
          "y": 110.31231267728299
         },
         "target": {
          "index": 4,
          "label": "Yoda",
          "label_display": "center",
          "media": [
           "The Empire Strikes Back",
           "Return of the Jedi",
           "The Phantom Menace",
           "Attack of the Clones",
           "Revenge of the Sith"
          ],
          "px": 504.64001531181304,
          "py": 340.27955901755183,
          "shape": "circle",
          "shape_attrs": {
           "r": 15
          },
          "value": null,
          "weight": 50,
          "x": 504.6557281547196,
          "y": 340.2914741971771
         }
        },
        {
         "source": {
          "index": 2,
          "label": "Obi-Wan Kenobi",
          "label_display": "center",
          "media": [
           "A New Hope",
           "The Empire Strikes Back",
           "Return of the Jedi",
           "The Phantom Menace",
           "Attack of the Clones",
           "Revenge of the Sith"
          ],
          "px": 533.0397615495689,
          "py": 110.32042497572475,
          "shape": "circle",
          "shape_attrs": {
           "r": 15
          },
          "value": null,
          "weight": 26,
          "x": 533.0558907748854,
          "y": 110.31231267728299
         },
         "target": {
          "index": 2,
          "label": "Obi-Wan Kenobi",
          "label_display": "center",
          "media": [
           "A New Hope",
           "The Empire Strikes Back",
           "Return of the Jedi",
           "The Phantom Menace",
           "Attack of the Clones",
           "Revenge of the Sith"
          ],
          "px": 533.0397615495689,
          "py": 110.32042497572475,
          "shape": "circle",
          "shape_attrs": {
           "r": 15
          },
          "value": null,
          "weight": 26,
          "x": 533.0558907748854,
          "y": 110.31231267728299
         }
        },
        {
         "source": {
          "index": 3,
          "label": "Jabba Desilijic Tiure",
          "label_display": "center",
          "media": [
           "A New Hope",
           "Return of the Jedi",
           "The Phantom Menace"
          ],
          "px": 184.08980370639892,
          "py": 230.6819419288396,
          "shape": "circle",
          "shape_attrs": {
           "r": 15
          },
          "value": null,
          "weight": 36,
          "x": 184.07353588241813,
          "y": 230.67511833661734
         },
         "target": {
          "index": 3,
          "label": "Jabba Desilijic Tiure",
          "label_display": "center",
          "media": [
           "A New Hope",
           "Return of the Jedi",
           "The Phantom Menace"
          ],
          "px": 184.08980370639892,
          "py": 230.6819419288396,
          "shape": "circle",
          "shape_attrs": {
           "r": 15
          },
          "value": null,
          "weight": 36,
          "x": 184.07353588241813,
          "y": 230.67511833661734
         }
        },
        {
         "source": {
          "index": 3,
          "label": "Jabba Desilijic Tiure",
          "label_display": "center",
          "media": [
           "A New Hope",
           "Return of the Jedi",
           "The Phantom Menace"
          ],
          "px": 184.08980370639892,
          "py": 230.6819419288396,
          "shape": "circle",
          "shape_attrs": {
           "r": 15
          },
          "value": null,
          "weight": 36,
          "x": 184.07353588241813,
          "y": 230.67511833661734
         },
         "target": {
          "index": 4,
          "label": "Yoda",
          "label_display": "center",
          "media": [
           "The Empire Strikes Back",
           "Return of the Jedi",
           "The Phantom Menace",
           "Attack of the Clones",
           "Revenge of the Sith"
          ],
          "px": 504.64001531181304,
          "py": 340.27955901755183,
          "shape": "circle",
          "shape_attrs": {
           "r": 15
          },
          "value": null,
          "weight": 50,
          "x": 504.6557281547196,
          "y": 340.2914741971771
         }
        },
        {
         "source": {
          "index": 3,
          "label": "Jabba Desilijic Tiure",
          "label_display": "center",
          "media": [
           "A New Hope",
           "Return of the Jedi",
           "The Phantom Menace"
          ],
          "px": 184.08980370639892,
          "py": 230.6819419288396,
          "shape": "circle",
          "shape_attrs": {
           "r": 15
          },
          "value": null,
          "weight": 36,
          "x": 184.07353588241813,
          "y": 230.67511833661734
         },
         "target": {
          "fixed": 0,
          "index": 1,
          "label": "Beru Whitesun lars",
          "label_display": "center",
          "media": [
           "A New Hope",
           "Attack of the Clones",
           "Revenge of the Sith"
          ],
          "px": 352.6172292317221,
          "py": 93.54619289329271,
          "shape": "circle",
          "shape_attrs": {
           "r": 15
          },
          "value": null,
          "weight": 42,
          "x": 352.6172292317221,
          "y": 93.54619289329271
         }
        },
        {
         "source": {
          "index": 3,
          "label": "Jabba Desilijic Tiure",
          "label_display": "center",
          "media": [
           "A New Hope",
           "Return of the Jedi",
           "The Phantom Menace"
          ],
          "px": 184.08980370639892,
          "py": 230.6819419288396,
          "shape": "circle",
          "shape_attrs": {
           "r": 15
          },
          "value": null,
          "weight": 36,
          "x": 184.07353588241813,
          "y": 230.67511833661734
         },
         "target": {
          "index": 0,
          "label": "Darth Vader",
          "label_display": "center",
          "media": [
           "A New Hope",
           "The Empire Strikes Back",
           "Return of the Jedi",
           "Revenge of the Sith"
          ],
          "px": 230.42346897430224,
          "py": 391.3760844442452,
          "shape": "circle",
          "shape_attrs": {
           "r": 15
          },
          "value": null,
          "weight": 28,
          "x": 230.4087224404819,
          "y": 391.3904452969593
         }
        },
        {
         "source": {
          "index": 4,
          "label": "Yoda",
          "label_display": "center",
          "media": [
           "The Empire Strikes Back",
           "Return of the Jedi",
           "The Phantom Menace",
           "Attack of the Clones",
           "Revenge of the Sith"
          ],
          "px": 504.64001531181304,
          "py": 340.27955901755183,
          "shape": "circle",
          "shape_attrs": {
           "r": 15
          },
          "value": null,
          "weight": 50,
          "x": 504.6557281547196,
          "y": 340.2914741971771
         },
         "target": {
          "index": 3,
          "label": "Jabba Desilijic Tiure",
          "label_display": "center",
          "media": [
           "A New Hope",
           "Return of the Jedi",
           "The Phantom Menace"
          ],
          "px": 184.08980370639892,
          "py": 230.6819419288396,
          "shape": "circle",
          "shape_attrs": {
           "r": 15
          },
          "value": null,
          "weight": 36,
          "x": 184.07353588241813,
          "y": 230.67511833661734
         }
        },
        {
         "source": {
          "index": 4,
          "label": "Yoda",
          "label_display": "center",
          "media": [
           "The Empire Strikes Back",
           "Return of the Jedi",
           "The Phantom Menace",
           "Attack of the Clones",
           "Revenge of the Sith"
          ],
          "px": 504.64001531181304,
          "py": 340.27955901755183,
          "shape": "circle",
          "shape_attrs": {
           "r": 15
          },
          "value": null,
          "weight": 50,
          "x": 504.6557281547196,
          "y": 340.2914741971771
         },
         "target": {
          "index": 4,
          "label": "Yoda",
          "label_display": "center",
          "media": [
           "The Empire Strikes Back",
           "Return of the Jedi",
           "The Phantom Menace",
           "Attack of the Clones",
           "Revenge of the Sith"
          ],
          "px": 504.64001531181304,
          "py": 340.27955901755183,
          "shape": "circle",
          "shape_attrs": {
           "r": 15
          },
          "value": null,
          "weight": 50,
          "x": 504.6557281547196,
          "y": 340.2914741971771
         }
        },
        {
         "source": {
          "index": 4,
          "label": "Yoda",
          "label_display": "center",
          "media": [
           "The Empire Strikes Back",
           "Return of the Jedi",
           "The Phantom Menace",
           "Attack of the Clones",
           "Revenge of the Sith"
          ],
          "px": 504.64001531181304,
          "py": 340.27955901755183,
          "shape": "circle",
          "shape_attrs": {
           "r": 15
          },
          "value": null,
          "weight": 50,
          "x": 504.6557281547196,
          "y": 340.2914741971771
         },
         "target": {
          "fixed": 0,
          "index": 1,
          "label": "Beru Whitesun lars",
          "label_display": "center",
          "media": [
           "A New Hope",
           "Attack of the Clones",
           "Revenge of the Sith"
          ],
          "px": 352.6172292317221,
          "py": 93.54619289329271,
          "shape": "circle",
          "shape_attrs": {
           "r": 15
          },
          "value": null,
          "weight": 42,
          "x": 352.6172292317221,
          "y": 93.54619289329271
         }
        },
        {
         "source": {
          "index": 4,
          "label": "Yoda",
          "label_display": "center",
          "media": [
           "The Empire Strikes Back",
           "Return of the Jedi",
           "The Phantom Menace",
           "Attack of the Clones",
           "Revenge of the Sith"
          ],
          "px": 504.64001531181304,
          "py": 340.27955901755183,
          "shape": "circle",
          "shape_attrs": {
           "r": 15
          },
          "value": null,
          "weight": 50,
          "x": 504.6557281547196,
          "y": 340.2914741971771
         },
         "target": {
          "index": 0,
          "label": "Darth Vader",
          "label_display": "center",
          "media": [
           "A New Hope",
           "The Empire Strikes Back",
           "Return of the Jedi",
           "Revenge of the Sith"
          ],
          "px": 230.42346897430224,
          "py": 391.3760844442452,
          "shape": "circle",
          "shape_attrs": {
           "r": 15
          },
          "value": null,
          "weight": 28,
          "x": 230.4087224404819,
          "y": 391.3904452969593
         }
        },
        {
         "source": {
          "fixed": 0,
          "index": 1,
          "label": "Beru Whitesun lars",
          "label_display": "center",
          "media": [
           "A New Hope",
           "Attack of the Clones",
           "Revenge of the Sith"
          ],
          "px": 352.6172292317221,
          "py": 93.54619289329271,
          "shape": "circle",
          "shape_attrs": {
           "r": 15
          },
          "value": null,
          "weight": 42,
          "x": 352.6172292317221,
          "y": 93.54619289329271
         },
         "target": {
          "index": 3,
          "label": "Jabba Desilijic Tiure",
          "label_display": "center",
          "media": [
           "A New Hope",
           "Return of the Jedi",
           "The Phantom Menace"
          ],
          "px": 184.08980370639892,
          "py": 230.6819419288396,
          "shape": "circle",
          "shape_attrs": {
           "r": 15
          },
          "value": null,
          "weight": 36,
          "x": 184.07353588241813,
          "y": 230.67511833661734
         }
        },
        {
         "source": {
          "fixed": 0,
          "index": 1,
          "label": "Beru Whitesun lars",
          "label_display": "center",
          "media": [
           "A New Hope",
           "Attack of the Clones",
           "Revenge of the Sith"
          ],
          "px": 352.6172292317221,
          "py": 93.54619289329271,
          "shape": "circle",
          "shape_attrs": {
           "r": 15
          },
          "value": null,
          "weight": 42,
          "x": 352.6172292317221,
          "y": 93.54619289329271
         },
         "target": {
          "index": 4,
          "label": "Yoda",
          "label_display": "center",
          "media": [
           "The Empire Strikes Back",
           "Return of the Jedi",
           "The Phantom Menace",
           "Attack of the Clones",
           "Revenge of the Sith"
          ],
          "px": 504.64001531181304,
          "py": 340.27955901755183,
          "shape": "circle",
          "shape_attrs": {
           "r": 15
          },
          "value": null,
          "weight": 50,
          "x": 504.6557281547196,
          "y": 340.2914741971771
         }
        },
        {
         "source": {
          "fixed": 0,
          "index": 1,
          "label": "Beru Whitesun lars",
          "label_display": "center",
          "media": [
           "A New Hope",
           "Attack of the Clones",
           "Revenge of the Sith"
          ],
          "px": 352.6172292317221,
          "py": 93.54619289329271,
          "shape": "circle",
          "shape_attrs": {
           "r": 15
          },
          "value": null,
          "weight": 42,
          "x": 352.6172292317221,
          "y": 93.54619289329271
         },
         "target": {
          "fixed": 0,
          "index": 1,
          "label": "Beru Whitesun lars",
          "label_display": "center",
          "media": [
           "A New Hope",
           "Attack of the Clones",
           "Revenge of the Sith"
          ],
          "px": 352.6172292317221,
          "py": 93.54619289329271,
          "shape": "circle",
          "shape_attrs": {
           "r": 15
          },
          "value": null,
          "weight": 42,
          "x": 352.6172292317221,
          "y": 93.54619289329271
         }
        },
        {
         "source": {
          "fixed": 0,
          "index": 1,
          "label": "Beru Whitesun lars",
          "label_display": "center",
          "media": [
           "A New Hope",
           "Attack of the Clones",
           "Revenge of the Sith"
          ],
          "px": 352.6172292317221,
          "py": 93.54619289329271,
          "shape": "circle",
          "shape_attrs": {
           "r": 15
          },
          "value": null,
          "weight": 42,
          "x": 352.6172292317221,
          "y": 93.54619289329271
         },
         "target": {
          "index": 0,
          "label": "Darth Vader",
          "label_display": "center",
          "media": [
           "A New Hope",
           "The Empire Strikes Back",
           "Return of the Jedi",
           "Revenge of the Sith"
          ],
          "px": 230.42346897430224,
          "py": 391.3760844442452,
          "shape": "circle",
          "shape_attrs": {
           "r": 15
          },
          "value": null,
          "weight": 28,
          "x": 230.4087224404819,
          "y": 391.3904452969593
         }
        },
        {
         "source": {
          "index": 0,
          "label": "Darth Vader",
          "label_display": "center",
          "media": [
           "A New Hope",
           "The Empire Strikes Back",
           "Return of the Jedi",
           "Revenge of the Sith"
          ],
          "px": 230.42346897430224,
          "py": 391.3760844442452,
          "shape": "circle",
          "shape_attrs": {
           "r": 15
          },
          "value": null,
          "weight": 28,
          "x": 230.4087224404819,
          "y": 391.3904452969593
         },
         "target": {
          "index": 3,
          "label": "Jabba Desilijic Tiure",
          "label_display": "center",
          "media": [
           "A New Hope",
           "Return of the Jedi",
           "The Phantom Menace"
          ],
          "px": 184.08980370639892,
          "py": 230.6819419288396,
          "shape": "circle",
          "shape_attrs": {
           "r": 15
          },
          "value": null,
          "weight": 36,
          "x": 184.07353588241813,
          "y": 230.67511833661734
         }
        },
        {
         "source": {
          "index": 0,
          "label": "Darth Vader",
          "label_display": "center",
          "media": [
           "A New Hope",
           "The Empire Strikes Back",
           "Return of the Jedi",
           "Revenge of the Sith"
          ],
          "px": 230.42346897430224,
          "py": 391.3760844442452,
          "shape": "circle",
          "shape_attrs": {
           "r": 15
          },
          "value": null,
          "weight": 28,
          "x": 230.4087224404819,
          "y": 391.3904452969593
         },
         "target": {
          "index": 4,
          "label": "Yoda",
          "label_display": "center",
          "media": [
           "The Empire Strikes Back",
           "Return of the Jedi",
           "The Phantom Menace",
           "Attack of the Clones",
           "Revenge of the Sith"
          ],
          "px": 504.64001531181304,
          "py": 340.27955901755183,
          "shape": "circle",
          "shape_attrs": {
           "r": 15
          },
          "value": null,
          "weight": 50,
          "x": 504.6557281547196,
          "y": 340.2914741971771
         }
        },
        {
         "source": {
          "index": 0,
          "label": "Darth Vader",
          "label_display": "center",
          "media": [
           "A New Hope",
           "The Empire Strikes Back",
           "Return of the Jedi",
           "Revenge of the Sith"
          ],
          "px": 230.42346897430224,
          "py": 391.3760844442452,
          "shape": "circle",
          "shape_attrs": {
           "r": 15
          },
          "value": null,
          "weight": 28,
          "x": 230.4087224404819,
          "y": 391.3904452969593
         },
         "target": {
          "fixed": 0,
          "index": 1,
          "label": "Beru Whitesun lars",
          "label_display": "center",
          "media": [
           "A New Hope",
           "Attack of the Clones",
           "Revenge of the Sith"
          ],
          "px": 352.6172292317221,
          "py": 93.54619289329271,
          "shape": "circle",
          "shape_attrs": {
           "r": 15
          },
          "value": null,
          "weight": 42,
          "x": 352.6172292317221,
          "y": 93.54619289329271
         }
        },
        {
         "source": {
          "index": 0,
          "label": "Darth Vader",
          "label_display": "center",
          "media": [
           "A New Hope",
           "The Empire Strikes Back",
           "Return of the Jedi",
           "Revenge of the Sith"
          ],
          "px": 230.42346897430224,
          "py": 391.3760844442452,
          "shape": "circle",
          "shape_attrs": {
           "r": 15
          },
          "value": null,
          "weight": 28,
          "x": 230.4087224404819,
          "y": 391.3904452969593
         },
         "target": {
          "index": 0,
          "label": "Darth Vader",
          "label_display": "center",
          "media": [
           "A New Hope",
           "The Empire Strikes Back",
           "Return of the Jedi",
           "Revenge of the Sith"
          ],
          "px": 230.42346897430224,
          "py": 391.3760844442452,
          "shape": "circle",
          "shape_attrs": {
           "r": 15
          },
          "value": null,
          "weight": 28,
          "x": 230.4087224404819,
          "y": 391.3904452969593
         }
        },
        {
         "source": {
          "index": 3,
          "label": "Jabba Desilijic Tiure",
          "label_display": "center",
          "media": [
           "A New Hope",
           "Return of the Jedi",
           "The Phantom Menace"
          ],
          "px": 184.08980370639892,
          "py": 230.6819419288396,
          "shape": "circle",
          "shape_attrs": {
           "r": 15
          },
          "value": null,
          "weight": 36,
          "x": 184.07353588241813,
          "y": 230.67511833661734
         },
         "target": {
          "index": 3,
          "label": "Jabba Desilijic Tiure",
          "label_display": "center",
          "media": [
           "A New Hope",
           "Return of the Jedi",
           "The Phantom Menace"
          ],
          "px": 184.08980370639892,
          "py": 230.6819419288396,
          "shape": "circle",
          "shape_attrs": {
           "r": 15
          },
          "value": null,
          "weight": 36,
          "x": 184.07353588241813,
          "y": 230.67511833661734
         }
        },
        {
         "source": {
          "index": 3,
          "label": "Jabba Desilijic Tiure",
          "label_display": "center",
          "media": [
           "A New Hope",
           "Return of the Jedi",
           "The Phantom Menace"
          ],
          "px": 184.08980370639892,
          "py": 230.6819419288396,
          "shape": "circle",
          "shape_attrs": {
           "r": 15
          },
          "value": null,
          "weight": 36,
          "x": 184.07353588241813,
          "y": 230.67511833661734
         },
         "target": {
          "index": 4,
          "label": "Yoda",
          "label_display": "center",
          "media": [
           "The Empire Strikes Back",
           "Return of the Jedi",
           "The Phantom Menace",
           "Attack of the Clones",
           "Revenge of the Sith"
          ],
          "px": 504.64001531181304,
          "py": 340.27955901755183,
          "shape": "circle",
          "shape_attrs": {
           "r": 15
          },
          "value": null,
          "weight": 50,
          "x": 504.6557281547196,
          "y": 340.2914741971771
         }
        },
        {
         "source": {
          "index": 3,
          "label": "Jabba Desilijic Tiure",
          "label_display": "center",
          "media": [
           "A New Hope",
           "Return of the Jedi",
           "The Phantom Menace"
          ],
          "px": 184.08980370639892,
          "py": 230.6819419288396,
          "shape": "circle",
          "shape_attrs": {
           "r": 15
          },
          "value": null,
          "weight": 36,
          "x": 184.07353588241813,
          "y": 230.67511833661734
         },
         "target": {
          "index": 2,
          "label": "Obi-Wan Kenobi",
          "label_display": "center",
          "media": [
           "A New Hope",
           "The Empire Strikes Back",
           "Return of the Jedi",
           "The Phantom Menace",
           "Attack of the Clones",
           "Revenge of the Sith"
          ],
          "px": 533.0397615495689,
          "py": 110.32042497572475,
          "shape": "circle",
          "shape_attrs": {
           "r": 15
          },
          "value": null,
          "weight": 26,
          "x": 533.0558907748854,
          "y": 110.31231267728299
         }
        },
        {
         "source": {
          "index": 3,
          "label": "Jabba Desilijic Tiure",
          "label_display": "center",
          "media": [
           "A New Hope",
           "Return of the Jedi",
           "The Phantom Menace"
          ],
          "px": 184.08980370639892,
          "py": 230.6819419288396,
          "shape": "circle",
          "shape_attrs": {
           "r": 15
          },
          "value": null,
          "weight": 36,
          "x": 184.07353588241813,
          "y": 230.67511833661734
         },
         "target": {
          "fixed": 0,
          "index": 1,
          "label": "Beru Whitesun lars",
          "label_display": "center",
          "media": [
           "A New Hope",
           "Attack of the Clones",
           "Revenge of the Sith"
          ],
          "px": 352.6172292317221,
          "py": 93.54619289329271,
          "shape": "circle",
          "shape_attrs": {
           "r": 15
          },
          "value": null,
          "weight": 42,
          "x": 352.6172292317221,
          "y": 93.54619289329271
         }
        },
        {
         "source": {
          "index": 3,
          "label": "Jabba Desilijic Tiure",
          "label_display": "center",
          "media": [
           "A New Hope",
           "Return of the Jedi",
           "The Phantom Menace"
          ],
          "px": 184.08980370639892,
          "py": 230.6819419288396,
          "shape": "circle",
          "shape_attrs": {
           "r": 15
          },
          "value": null,
          "weight": 36,
          "x": 184.07353588241813,
          "y": 230.67511833661734
         },
         "target": {
          "index": 0,
          "label": "Darth Vader",
          "label_display": "center",
          "media": [
           "A New Hope",
           "The Empire Strikes Back",
           "Return of the Jedi",
           "Revenge of the Sith"
          ],
          "px": 230.42346897430224,
          "py": 391.3760844442452,
          "shape": "circle",
          "shape_attrs": {
           "r": 15
          },
          "value": null,
          "weight": 28,
          "x": 230.4087224404819,
          "y": 391.3904452969593
         }
        },
        {
         "source": {
          "index": 3,
          "label": "Jabba Desilijic Tiure",
          "label_display": "center",
          "media": [
           "A New Hope",
           "Return of the Jedi",
           "The Phantom Menace"
          ],
          "px": 184.08980370639892,
          "py": 230.6819419288396,
          "shape": "circle",
          "shape_attrs": {
           "r": 15
          },
          "value": null,
          "weight": 36,
          "x": 184.07353588241813,
          "y": 230.67511833661734
         },
         "target": {
          "index": 6,
          "label": "Mon Mothma",
          "label_display": "center",
          "media": [
           "Return of the Jedi"
          ],
          "px": 209.1429355024067,
          "py": 39.89166217853323,
          "shape": "circle",
          "shape_attrs": {
           "r": 15
          },
          "value": null,
          "weight": 12,
          "x": 209.13762904466674,
          "y": 39.863539734579305
         }
        },
        {
         "source": {
          "index": 4,
          "label": "Yoda",
          "label_display": "center",
          "media": [
           "The Empire Strikes Back",
           "Return of the Jedi",
           "The Phantom Menace",
           "Attack of the Clones",
           "Revenge of the Sith"
          ],
          "px": 504.64001531181304,
          "py": 340.27955901755183,
          "shape": "circle",
          "shape_attrs": {
           "r": 15
          },
          "value": null,
          "weight": 50,
          "x": 504.6557281547196,
          "y": 340.2914741971771
         },
         "target": {
          "index": 3,
          "label": "Jabba Desilijic Tiure",
          "label_display": "center",
          "media": [
           "A New Hope",
           "Return of the Jedi",
           "The Phantom Menace"
          ],
          "px": 184.08980370639892,
          "py": 230.6819419288396,
          "shape": "circle",
          "shape_attrs": {
           "r": 15
          },
          "value": null,
          "weight": 36,
          "x": 184.07353588241813,
          "y": 230.67511833661734
         }
        },
        {
         "source": {
          "index": 4,
          "label": "Yoda",
          "label_display": "center",
          "media": [
           "The Empire Strikes Back",
           "Return of the Jedi",
           "The Phantom Menace",
           "Attack of the Clones",
           "Revenge of the Sith"
          ],
          "px": 504.64001531181304,
          "py": 340.27955901755183,
          "shape": "circle",
          "shape_attrs": {
           "r": 15
          },
          "value": null,
          "weight": 50,
          "x": 504.6557281547196,
          "y": 340.2914741971771
         },
         "target": {
          "index": 4,
          "label": "Yoda",
          "label_display": "center",
          "media": [
           "The Empire Strikes Back",
           "Return of the Jedi",
           "The Phantom Menace",
           "Attack of the Clones",
           "Revenge of the Sith"
          ],
          "px": 504.64001531181304,
          "py": 340.27955901755183,
          "shape": "circle",
          "shape_attrs": {
           "r": 15
          },
          "value": null,
          "weight": 50,
          "x": 504.6557281547196,
          "y": 340.2914741971771
         }
        },
        {
         "source": {
          "index": 4,
          "label": "Yoda",
          "label_display": "center",
          "media": [
           "The Empire Strikes Back",
           "Return of the Jedi",
           "The Phantom Menace",
           "Attack of the Clones",
           "Revenge of the Sith"
          ],
          "px": 504.64001531181304,
          "py": 340.27955901755183,
          "shape": "circle",
          "shape_attrs": {
           "r": 15
          },
          "value": null,
          "weight": 50,
          "x": 504.6557281547196,
          "y": 340.2914741971771
         },
         "target": {
          "index": 2,
          "label": "Obi-Wan Kenobi",
          "label_display": "center",
          "media": [
           "A New Hope",
           "The Empire Strikes Back",
           "Return of the Jedi",
           "The Phantom Menace",
           "Attack of the Clones",
           "Revenge of the Sith"
          ],
          "px": 533.0397615495689,
          "py": 110.32042497572475,
          "shape": "circle",
          "shape_attrs": {
           "r": 15
          },
          "value": null,
          "weight": 26,
          "x": 533.0558907748854,
          "y": 110.31231267728299
         }
        },
        {
         "source": {
          "index": 4,
          "label": "Yoda",
          "label_display": "center",
          "media": [
           "The Empire Strikes Back",
           "Return of the Jedi",
           "The Phantom Menace",
           "Attack of the Clones",
           "Revenge of the Sith"
          ],
          "px": 504.64001531181304,
          "py": 340.27955901755183,
          "shape": "circle",
          "shape_attrs": {
           "r": 15
          },
          "value": null,
          "weight": 50,
          "x": 504.6557281547196,
          "y": 340.2914741971771
         },
         "target": {
          "fixed": 0,
          "index": 1,
          "label": "Beru Whitesun lars",
          "label_display": "center",
          "media": [
           "A New Hope",
           "Attack of the Clones",
           "Revenge of the Sith"
          ],
          "px": 352.6172292317221,
          "py": 93.54619289329271,
          "shape": "circle",
          "shape_attrs": {
           "r": 15
          },
          "value": null,
          "weight": 42,
          "x": 352.6172292317221,
          "y": 93.54619289329271
         }
        },
        {
         "source": {
          "index": 4,
          "label": "Yoda",
          "label_display": "center",
          "media": [
           "The Empire Strikes Back",
           "Return of the Jedi",
           "The Phantom Menace",
           "Attack of the Clones",
           "Revenge of the Sith"
          ],
          "px": 504.64001531181304,
          "py": 340.27955901755183,
          "shape": "circle",
          "shape_attrs": {
           "r": 15
          },
          "value": null,
          "weight": 50,
          "x": 504.6557281547196,
          "y": 340.2914741971771
         },
         "target": {
          "index": 0,
          "label": "Darth Vader",
          "label_display": "center",
          "media": [
           "A New Hope",
           "The Empire Strikes Back",
           "Return of the Jedi",
           "Revenge of the Sith"
          ],
          "px": 230.42346897430224,
          "py": 391.3760844442452,
          "shape": "circle",
          "shape_attrs": {
           "r": 15
          },
          "value": null,
          "weight": 28,
          "x": 230.4087224404819,
          "y": 391.3904452969593
         }
        },
        {
         "source": {
          "index": 4,
          "label": "Yoda",
          "label_display": "center",
          "media": [
           "The Empire Strikes Back",
           "Return of the Jedi",
           "The Phantom Menace",
           "Attack of the Clones",
           "Revenge of the Sith"
          ],
          "px": 504.64001531181304,
          "py": 340.27955901755183,
          "shape": "circle",
          "shape_attrs": {
           "r": 15
          },
          "value": null,
          "weight": 50,
          "x": 504.6557281547196,
          "y": 340.2914741971771
         },
         "target": {
          "index": 6,
          "label": "Mon Mothma",
          "label_display": "center",
          "media": [
           "Return of the Jedi"
          ],
          "px": 209.1429355024067,
          "py": 39.89166217853323,
          "shape": "circle",
          "shape_attrs": {
           "r": 15
          },
          "value": null,
          "weight": 12,
          "x": 209.13762904466674,
          "y": 39.863539734579305
         }
        },
        {
         "source": {
          "index": 2,
          "label": "Obi-Wan Kenobi",
          "label_display": "center",
          "media": [
           "A New Hope",
           "The Empire Strikes Back",
           "Return of the Jedi",
           "The Phantom Menace",
           "Attack of the Clones",
           "Revenge of the Sith"
          ],
          "px": 533.0397615495689,
          "py": 110.32042497572475,
          "shape": "circle",
          "shape_attrs": {
           "r": 15
          },
          "value": null,
          "weight": 26,
          "x": 533.0558907748854,
          "y": 110.31231267728299
         },
         "target": {
          "index": 3,
          "label": "Jabba Desilijic Tiure",
          "label_display": "center",
          "media": [
           "A New Hope",
           "Return of the Jedi",
           "The Phantom Menace"
          ],
          "px": 184.08980370639892,
          "py": 230.6819419288396,
          "shape": "circle",
          "shape_attrs": {
           "r": 15
          },
          "value": null,
          "weight": 36,
          "x": 184.07353588241813,
          "y": 230.67511833661734
         }
        },
        {
         "source": {
          "index": 2,
          "label": "Obi-Wan Kenobi",
          "label_display": "center",
          "media": [
           "A New Hope",
           "The Empire Strikes Back",
           "Return of the Jedi",
           "The Phantom Menace",
           "Attack of the Clones",
           "Revenge of the Sith"
          ],
          "px": 533.0397615495689,
          "py": 110.32042497572475,
          "shape": "circle",
          "shape_attrs": {
           "r": 15
          },
          "value": null,
          "weight": 26,
          "x": 533.0558907748854,
          "y": 110.31231267728299
         },
         "target": {
          "index": 4,
          "label": "Yoda",
          "label_display": "center",
          "media": [
           "The Empire Strikes Back",
           "Return of the Jedi",
           "The Phantom Menace",
           "Attack of the Clones",
           "Revenge of the Sith"
          ],
          "px": 504.64001531181304,
          "py": 340.27955901755183,
          "shape": "circle",
          "shape_attrs": {
           "r": 15
          },
          "value": null,
          "weight": 50,
          "x": 504.6557281547196,
          "y": 340.2914741971771
         }
        },
        {
         "source": {
          "index": 2,
          "label": "Obi-Wan Kenobi",
          "label_display": "center",
          "media": [
           "A New Hope",
           "The Empire Strikes Back",
           "Return of the Jedi",
           "The Phantom Menace",
           "Attack of the Clones",
           "Revenge of the Sith"
          ],
          "px": 533.0397615495689,
          "py": 110.32042497572475,
          "shape": "circle",
          "shape_attrs": {
           "r": 15
          },
          "value": null,
          "weight": 26,
          "x": 533.0558907748854,
          "y": 110.31231267728299
         },
         "target": {
          "index": 2,
          "label": "Obi-Wan Kenobi",
          "label_display": "center",
          "media": [
           "A New Hope",
           "The Empire Strikes Back",
           "Return of the Jedi",
           "The Phantom Menace",
           "Attack of the Clones",
           "Revenge of the Sith"
          ],
          "px": 533.0397615495689,
          "py": 110.32042497572475,
          "shape": "circle",
          "shape_attrs": {
           "r": 15
          },
          "value": null,
          "weight": 26,
          "x": 533.0558907748854,
          "y": 110.31231267728299
         }
        },
        {
         "source": {
          "index": 2,
          "label": "Obi-Wan Kenobi",
          "label_display": "center",
          "media": [
           "A New Hope",
           "The Empire Strikes Back",
           "Return of the Jedi",
           "The Phantom Menace",
           "Attack of the Clones",
           "Revenge of the Sith"
          ],
          "px": 533.0397615495689,
          "py": 110.32042497572475,
          "shape": "circle",
          "shape_attrs": {
           "r": 15
          },
          "value": null,
          "weight": 26,
          "x": 533.0558907748854,
          "y": 110.31231267728299
         },
         "target": {
          "fixed": 0,
          "index": 1,
          "label": "Beru Whitesun lars",
          "label_display": "center",
          "media": [
           "A New Hope",
           "Attack of the Clones",
           "Revenge of the Sith"
          ],
          "px": 352.6172292317221,
          "py": 93.54619289329271,
          "shape": "circle",
          "shape_attrs": {
           "r": 15
          },
          "value": null,
          "weight": 42,
          "x": 352.6172292317221,
          "y": 93.54619289329271
         }
        },
        {
         "source": {
          "index": 2,
          "label": "Obi-Wan Kenobi",
          "label_display": "center",
          "media": [
           "A New Hope",
           "The Empire Strikes Back",
           "Return of the Jedi",
           "The Phantom Menace",
           "Attack of the Clones",
           "Revenge of the Sith"
          ],
          "px": 533.0397615495689,
          "py": 110.32042497572475,
          "shape": "circle",
          "shape_attrs": {
           "r": 15
          },
          "value": null,
          "weight": 26,
          "x": 533.0558907748854,
          "y": 110.31231267728299
         },
         "target": {
          "index": 0,
          "label": "Darth Vader",
          "label_display": "center",
          "media": [
           "A New Hope",
           "The Empire Strikes Back",
           "Return of the Jedi",
           "Revenge of the Sith"
          ],
          "px": 230.42346897430224,
          "py": 391.3760844442452,
          "shape": "circle",
          "shape_attrs": {
           "r": 15
          },
          "value": null,
          "weight": 28,
          "x": 230.4087224404819,
          "y": 391.3904452969593
         }
        },
        {
         "source": {
          "index": 2,
          "label": "Obi-Wan Kenobi",
          "label_display": "center",
          "media": [
           "A New Hope",
           "The Empire Strikes Back",
           "Return of the Jedi",
           "The Phantom Menace",
           "Attack of the Clones",
           "Revenge of the Sith"
          ],
          "px": 533.0397615495689,
          "py": 110.32042497572475,
          "shape": "circle",
          "shape_attrs": {
           "r": 15
          },
          "value": null,
          "weight": 26,
          "x": 533.0558907748854,
          "y": 110.31231267728299
         },
         "target": {
          "index": 6,
          "label": "Mon Mothma",
          "label_display": "center",
          "media": [
           "Return of the Jedi"
          ],
          "px": 209.1429355024067,
          "py": 39.89166217853323,
          "shape": "circle",
          "shape_attrs": {
           "r": 15
          },
          "value": null,
          "weight": 12,
          "x": 209.13762904466674,
          "y": 39.863539734579305
         }
        },
        {
         "source": {
          "fixed": 0,
          "index": 1,
          "label": "Beru Whitesun lars",
          "label_display": "center",
          "media": [
           "A New Hope",
           "Attack of the Clones",
           "Revenge of the Sith"
          ],
          "px": 352.6172292317221,
          "py": 93.54619289329271,
          "shape": "circle",
          "shape_attrs": {
           "r": 15
          },
          "value": null,
          "weight": 42,
          "x": 352.6172292317221,
          "y": 93.54619289329271
         },
         "target": {
          "index": 3,
          "label": "Jabba Desilijic Tiure",
          "label_display": "center",
          "media": [
           "A New Hope",
           "Return of the Jedi",
           "The Phantom Menace"
          ],
          "px": 184.08980370639892,
          "py": 230.6819419288396,
          "shape": "circle",
          "shape_attrs": {
           "r": 15
          },
          "value": null,
          "weight": 36,
          "x": 184.07353588241813,
          "y": 230.67511833661734
         }
        },
        {
         "source": {
          "fixed": 0,
          "index": 1,
          "label": "Beru Whitesun lars",
          "label_display": "center",
          "media": [
           "A New Hope",
           "Attack of the Clones",
           "Revenge of the Sith"
          ],
          "px": 352.6172292317221,
          "py": 93.54619289329271,
          "shape": "circle",
          "shape_attrs": {
           "r": 15
          },
          "value": null,
          "weight": 42,
          "x": 352.6172292317221,
          "y": 93.54619289329271
         },
         "target": {
          "index": 4,
          "label": "Yoda",
          "label_display": "center",
          "media": [
           "The Empire Strikes Back",
           "Return of the Jedi",
           "The Phantom Menace",
           "Attack of the Clones",
           "Revenge of the Sith"
          ],
          "px": 504.64001531181304,
          "py": 340.27955901755183,
          "shape": "circle",
          "shape_attrs": {
           "r": 15
          },
          "value": null,
          "weight": 50,
          "x": 504.6557281547196,
          "y": 340.2914741971771
         }
        },
        {
         "source": {
          "fixed": 0,
          "index": 1,
          "label": "Beru Whitesun lars",
          "label_display": "center",
          "media": [
           "A New Hope",
           "Attack of the Clones",
           "Revenge of the Sith"
          ],
          "px": 352.6172292317221,
          "py": 93.54619289329271,
          "shape": "circle",
          "shape_attrs": {
           "r": 15
          },
          "value": null,
          "weight": 42,
          "x": 352.6172292317221,
          "y": 93.54619289329271
         },
         "target": {
          "index": 2,
          "label": "Obi-Wan Kenobi",
          "label_display": "center",
          "media": [
           "A New Hope",
           "The Empire Strikes Back",
           "Return of the Jedi",
           "The Phantom Menace",
           "Attack of the Clones",
           "Revenge of the Sith"
          ],
          "px": 533.0397615495689,
          "py": 110.32042497572475,
          "shape": "circle",
          "shape_attrs": {
           "r": 15
          },
          "value": null,
          "weight": 26,
          "x": 533.0558907748854,
          "y": 110.31231267728299
         }
        },
        {
         "source": {
          "fixed": 0,
          "index": 1,
          "label": "Beru Whitesun lars",
          "label_display": "center",
          "media": [
           "A New Hope",
           "Attack of the Clones",
           "Revenge of the Sith"
          ],
          "px": 352.6172292317221,
          "py": 93.54619289329271,
          "shape": "circle",
          "shape_attrs": {
           "r": 15
          },
          "value": null,
          "weight": 42,
          "x": 352.6172292317221,
          "y": 93.54619289329271
         },
         "target": {
          "fixed": 0,
          "index": 1,
          "label": "Beru Whitesun lars",
          "label_display": "center",
          "media": [
           "A New Hope",
           "Attack of the Clones",
           "Revenge of the Sith"
          ],
          "px": 352.6172292317221,
          "py": 93.54619289329271,
          "shape": "circle",
          "shape_attrs": {
           "r": 15
          },
          "value": null,
          "weight": 42,
          "x": 352.6172292317221,
          "y": 93.54619289329271
         }
        },
        {
         "source": {
          "fixed": 0,
          "index": 1,
          "label": "Beru Whitesun lars",
          "label_display": "center",
          "media": [
           "A New Hope",
           "Attack of the Clones",
           "Revenge of the Sith"
          ],
          "px": 352.6172292317221,
          "py": 93.54619289329271,
          "shape": "circle",
          "shape_attrs": {
           "r": 15
          },
          "value": null,
          "weight": 42,
          "x": 352.6172292317221,
          "y": 93.54619289329271
         },
         "target": {
          "index": 0,
          "label": "Darth Vader",
          "label_display": "center",
          "media": [
           "A New Hope",
           "The Empire Strikes Back",
           "Return of the Jedi",
           "Revenge of the Sith"
          ],
          "px": 230.42346897430224,
          "py": 391.3760844442452,
          "shape": "circle",
          "shape_attrs": {
           "r": 15
          },
          "value": null,
          "weight": 28,
          "x": 230.4087224404819,
          "y": 391.3904452969593
         }
        },
        {
         "source": {
          "fixed": 0,
          "index": 1,
          "label": "Beru Whitesun lars",
          "label_display": "center",
          "media": [
           "A New Hope",
           "Attack of the Clones",
           "Revenge of the Sith"
          ],
          "px": 352.6172292317221,
          "py": 93.54619289329271,
          "shape": "circle",
          "shape_attrs": {
           "r": 15
          },
          "value": null,
          "weight": 42,
          "x": 352.6172292317221,
          "y": 93.54619289329271
         },
         "target": {
          "index": 6,
          "label": "Mon Mothma",
          "label_display": "center",
          "media": [
           "Return of the Jedi"
          ],
          "px": 209.1429355024067,
          "py": 39.89166217853323,
          "shape": "circle",
          "shape_attrs": {
           "r": 15
          },
          "value": null,
          "weight": 12,
          "x": 209.13762904466674,
          "y": 39.863539734579305
         }
        },
        {
         "source": {
          "index": 0,
          "label": "Darth Vader",
          "label_display": "center",
          "media": [
           "A New Hope",
           "The Empire Strikes Back",
           "Return of the Jedi",
           "Revenge of the Sith"
          ],
          "px": 230.42346897430224,
          "py": 391.3760844442452,
          "shape": "circle",
          "shape_attrs": {
           "r": 15
          },
          "value": null,
          "weight": 28,
          "x": 230.4087224404819,
          "y": 391.3904452969593
         },
         "target": {
          "index": 3,
          "label": "Jabba Desilijic Tiure",
          "label_display": "center",
          "media": [
           "A New Hope",
           "Return of the Jedi",
           "The Phantom Menace"
          ],
          "px": 184.08980370639892,
          "py": 230.6819419288396,
          "shape": "circle",
          "shape_attrs": {
           "r": 15
          },
          "value": null,
          "weight": 36,
          "x": 184.07353588241813,
          "y": 230.67511833661734
         }
        },
        {
         "source": {
          "index": 0,
          "label": "Darth Vader",
          "label_display": "center",
          "media": [
           "A New Hope",
           "The Empire Strikes Back",
           "Return of the Jedi",
           "Revenge of the Sith"
          ],
          "px": 230.42346897430224,
          "py": 391.3760844442452,
          "shape": "circle",
          "shape_attrs": {
           "r": 15
          },
          "value": null,
          "weight": 28,
          "x": 230.4087224404819,
          "y": 391.3904452969593
         },
         "target": {
          "index": 4,
          "label": "Yoda",
          "label_display": "center",
          "media": [
           "The Empire Strikes Back",
           "Return of the Jedi",
           "The Phantom Menace",
           "Attack of the Clones",
           "Revenge of the Sith"
          ],
          "px": 504.64001531181304,
          "py": 340.27955901755183,
          "shape": "circle",
          "shape_attrs": {
           "r": 15
          },
          "value": null,
          "weight": 50,
          "x": 504.6557281547196,
          "y": 340.2914741971771
         }
        },
        {
         "source": {
          "index": 0,
          "label": "Darth Vader",
          "label_display": "center",
          "media": [
           "A New Hope",
           "The Empire Strikes Back",
           "Return of the Jedi",
           "Revenge of the Sith"
          ],
          "px": 230.42346897430224,
          "py": 391.3760844442452,
          "shape": "circle",
          "shape_attrs": {
           "r": 15
          },
          "value": null,
          "weight": 28,
          "x": 230.4087224404819,
          "y": 391.3904452969593
         },
         "target": {
          "index": 2,
          "label": "Obi-Wan Kenobi",
          "label_display": "center",
          "media": [
           "A New Hope",
           "The Empire Strikes Back",
           "Return of the Jedi",
           "The Phantom Menace",
           "Attack of the Clones",
           "Revenge of the Sith"
          ],
          "px": 533.0397615495689,
          "py": 110.32042497572475,
          "shape": "circle",
          "shape_attrs": {
           "r": 15
          },
          "value": null,
          "weight": 26,
          "x": 533.0558907748854,
          "y": 110.31231267728299
         }
        },
        {
         "source": {
          "index": 0,
          "label": "Darth Vader",
          "label_display": "center",
          "media": [
           "A New Hope",
           "The Empire Strikes Back",
           "Return of the Jedi",
           "Revenge of the Sith"
          ],
          "px": 230.42346897430224,
          "py": 391.3760844442452,
          "shape": "circle",
          "shape_attrs": {
           "r": 15
          },
          "value": null,
          "weight": 28,
          "x": 230.4087224404819,
          "y": 391.3904452969593
         },
         "target": {
          "fixed": 0,
          "index": 1,
          "label": "Beru Whitesun lars",
          "label_display": "center",
          "media": [
           "A New Hope",
           "Attack of the Clones",
           "Revenge of the Sith"
          ],
          "px": 352.6172292317221,
          "py": 93.54619289329271,
          "shape": "circle",
          "shape_attrs": {
           "r": 15
          },
          "value": null,
          "weight": 42,
          "x": 352.6172292317221,
          "y": 93.54619289329271
         }
        },
        {
         "source": {
          "index": 0,
          "label": "Darth Vader",
          "label_display": "center",
          "media": [
           "A New Hope",
           "The Empire Strikes Back",
           "Return of the Jedi",
           "Revenge of the Sith"
          ],
          "px": 230.42346897430224,
          "py": 391.3760844442452,
          "shape": "circle",
          "shape_attrs": {
           "r": 15
          },
          "value": null,
          "weight": 28,
          "x": 230.4087224404819,
          "y": 391.3904452969593
         },
         "target": {
          "index": 0,
          "label": "Darth Vader",
          "label_display": "center",
          "media": [
           "A New Hope",
           "The Empire Strikes Back",
           "Return of the Jedi",
           "Revenge of the Sith"
          ],
          "px": 230.42346897430224,
          "py": 391.3760844442452,
          "shape": "circle",
          "shape_attrs": {
           "r": 15
          },
          "value": null,
          "weight": 28,
          "x": 230.4087224404819,
          "y": 391.3904452969593
         }
        },
        {
         "source": {
          "index": 0,
          "label": "Darth Vader",
          "label_display": "center",
          "media": [
           "A New Hope",
           "The Empire Strikes Back",
           "Return of the Jedi",
           "Revenge of the Sith"
          ],
          "px": 230.42346897430224,
          "py": 391.3760844442452,
          "shape": "circle",
          "shape_attrs": {
           "r": 15
          },
          "value": null,
          "weight": 28,
          "x": 230.4087224404819,
          "y": 391.3904452969593
         },
         "target": {
          "index": 6,
          "label": "Mon Mothma",
          "label_display": "center",
          "media": [
           "Return of the Jedi"
          ],
          "px": 209.1429355024067,
          "py": 39.89166217853323,
          "shape": "circle",
          "shape_attrs": {
           "r": 15
          },
          "value": null,
          "weight": 12,
          "x": 209.13762904466674,
          "y": 39.863539734579305
         }
        },
        {
         "source": {
          "index": 6,
          "label": "Mon Mothma",
          "label_display": "center",
          "media": [
           "Return of the Jedi"
          ],
          "px": 209.1429355024067,
          "py": 39.89166217853323,
          "shape": "circle",
          "shape_attrs": {
           "r": 15
          },
          "value": null,
          "weight": 12,
          "x": 209.13762904466674,
          "y": 39.863539734579305
         },
         "target": {
          "index": 3,
          "label": "Jabba Desilijic Tiure",
          "label_display": "center",
          "media": [
           "A New Hope",
           "Return of the Jedi",
           "The Phantom Menace"
          ],
          "px": 184.08980370639892,
          "py": 230.6819419288396,
          "shape": "circle",
          "shape_attrs": {
           "r": 15
          },
          "value": null,
          "weight": 36,
          "x": 184.07353588241813,
          "y": 230.67511833661734
         }
        },
        {
         "source": {
          "index": 6,
          "label": "Mon Mothma",
          "label_display": "center",
          "media": [
           "Return of the Jedi"
          ],
          "px": 209.1429355024067,
          "py": 39.89166217853323,
          "shape": "circle",
          "shape_attrs": {
           "r": 15
          },
          "value": null,
          "weight": 12,
          "x": 209.13762904466674,
          "y": 39.863539734579305
         },
         "target": {
          "index": 4,
          "label": "Yoda",
          "label_display": "center",
          "media": [
           "The Empire Strikes Back",
           "Return of the Jedi",
           "The Phantom Menace",
           "Attack of the Clones",
           "Revenge of the Sith"
          ],
          "px": 504.64001531181304,
          "py": 340.27955901755183,
          "shape": "circle",
          "shape_attrs": {
           "r": 15
          },
          "value": null,
          "weight": 50,
          "x": 504.6557281547196,
          "y": 340.2914741971771
         }
        },
        {
         "source": {
          "index": 6,
          "label": "Mon Mothma",
          "label_display": "center",
          "media": [
           "Return of the Jedi"
          ],
          "px": 209.1429355024067,
          "py": 39.89166217853323,
          "shape": "circle",
          "shape_attrs": {
           "r": 15
          },
          "value": null,
          "weight": 12,
          "x": 209.13762904466674,
          "y": 39.863539734579305
         },
         "target": {
          "index": 2,
          "label": "Obi-Wan Kenobi",
          "label_display": "center",
          "media": [
           "A New Hope",
           "The Empire Strikes Back",
           "Return of the Jedi",
           "The Phantom Menace",
           "Attack of the Clones",
           "Revenge of the Sith"
          ],
          "px": 533.0397615495689,
          "py": 110.32042497572475,
          "shape": "circle",
          "shape_attrs": {
           "r": 15
          },
          "value": null,
          "weight": 26,
          "x": 533.0558907748854,
          "y": 110.31231267728299
         }
        },
        {
         "source": {
          "index": 6,
          "label": "Mon Mothma",
          "label_display": "center",
          "media": [
           "Return of the Jedi"
          ],
          "px": 209.1429355024067,
          "py": 39.89166217853323,
          "shape": "circle",
          "shape_attrs": {
           "r": 15
          },
          "value": null,
          "weight": 12,
          "x": 209.13762904466674,
          "y": 39.863539734579305
         },
         "target": {
          "fixed": 0,
          "index": 1,
          "label": "Beru Whitesun lars",
          "label_display": "center",
          "media": [
           "A New Hope",
           "Attack of the Clones",
           "Revenge of the Sith"
          ],
          "px": 352.6172292317221,
          "py": 93.54619289329271,
          "shape": "circle",
          "shape_attrs": {
           "r": 15
          },
          "value": null,
          "weight": 42,
          "x": 352.6172292317221,
          "y": 93.54619289329271
         }
        },
        {
         "source": {
          "index": 6,
          "label": "Mon Mothma",
          "label_display": "center",
          "media": [
           "Return of the Jedi"
          ],
          "px": 209.1429355024067,
          "py": 39.89166217853323,
          "shape": "circle",
          "shape_attrs": {
           "r": 15
          },
          "value": null,
          "weight": 12,
          "x": 209.13762904466674,
          "y": 39.863539734579305
         },
         "target": {
          "index": 0,
          "label": "Darth Vader",
          "label_display": "center",
          "media": [
           "A New Hope",
           "The Empire Strikes Back",
           "Return of the Jedi",
           "Revenge of the Sith"
          ],
          "px": 230.42346897430224,
          "py": 391.3760844442452,
          "shape": "circle",
          "shape_attrs": {
           "r": 15
          },
          "value": null,
          "weight": 28,
          "x": 230.4087224404819,
          "y": 391.3904452969593
         }
        },
        {
         "source": {
          "index": 6,
          "label": "Mon Mothma",
          "label_display": "center",
          "media": [
           "Return of the Jedi"
          ],
          "px": 209.1429355024067,
          "py": 39.89166217853323,
          "shape": "circle",
          "shape_attrs": {
           "r": 15
          },
          "value": null,
          "weight": 12,
          "x": 209.13762904466674,
          "y": 39.863539734579305
         },
         "target": {
          "index": 6,
          "label": "Mon Mothma",
          "label_display": "center",
          "media": [
           "Return of the Jedi"
          ],
          "px": 209.1429355024067,
          "py": 39.89166217853323,
          "shape": "circle",
          "shape_attrs": {
           "r": 15
          },
          "value": null,
          "weight": 12,
          "x": 209.13762904466674,
          "y": 39.863539734579305
         }
        },
        {
         "source": {
          "index": 4,
          "label": "Yoda",
          "label_display": "center",
          "media": [
           "The Empire Strikes Back",
           "Return of the Jedi",
           "The Phantom Menace",
           "Attack of the Clones",
           "Revenge of the Sith"
          ],
          "px": 504.64001531181304,
          "py": 340.27955901755183,
          "shape": "circle",
          "shape_attrs": {
           "r": 15
          },
          "value": null,
          "weight": 50,
          "x": 504.6557281547196,
          "y": 340.2914741971771
         },
         "target": {
          "index": 4,
          "label": "Yoda",
          "label_display": "center",
          "media": [
           "The Empire Strikes Back",
           "Return of the Jedi",
           "The Phantom Menace",
           "Attack of the Clones",
           "Revenge of the Sith"
          ],
          "px": 504.64001531181304,
          "py": 340.27955901755183,
          "shape": "circle",
          "shape_attrs": {
           "r": 15
          },
          "value": null,
          "weight": 50,
          "x": 504.6557281547196,
          "y": 340.2914741971771
         }
        },
        {
         "source": {
          "index": 4,
          "label": "Yoda",
          "label_display": "center",
          "media": [
           "The Empire Strikes Back",
           "Return of the Jedi",
           "The Phantom Menace",
           "Attack of the Clones",
           "Revenge of the Sith"
          ],
          "px": 504.64001531181304,
          "py": 340.27955901755183,
          "shape": "circle",
          "shape_attrs": {
           "r": 15
          },
          "value": null,
          "weight": 50,
          "x": 504.6557281547196,
          "y": 340.2914741971771
         },
         "target": {
          "index": 2,
          "label": "Obi-Wan Kenobi",
          "label_display": "center",
          "media": [
           "A New Hope",
           "The Empire Strikes Back",
           "Return of the Jedi",
           "The Phantom Menace",
           "Attack of the Clones",
           "Revenge of the Sith"
          ],
          "px": 533.0397615495689,
          "py": 110.32042497572475,
          "shape": "circle",
          "shape_attrs": {
           "r": 15
          },
          "value": null,
          "weight": 26,
          "x": 533.0558907748854,
          "y": 110.31231267728299
         }
        },
        {
         "source": {
          "index": 4,
          "label": "Yoda",
          "label_display": "center",
          "media": [
           "The Empire Strikes Back",
           "Return of the Jedi",
           "The Phantom Menace",
           "Attack of the Clones",
           "Revenge of the Sith"
          ],
          "px": 504.64001531181304,
          "py": 340.27955901755183,
          "shape": "circle",
          "shape_attrs": {
           "r": 15
          },
          "value": null,
          "weight": 50,
          "x": 504.6557281547196,
          "y": 340.2914741971771
         },
         "target": {
          "fixed": 0,
          "index": 1,
          "label": "Beru Whitesun lars",
          "label_display": "center",
          "media": [
           "A New Hope",
           "Attack of the Clones",
           "Revenge of the Sith"
          ],
          "px": 352.6172292317221,
          "py": 93.54619289329271,
          "shape": "circle",
          "shape_attrs": {
           "r": 15
          },
          "value": null,
          "weight": 42,
          "x": 352.6172292317221,
          "y": 93.54619289329271
         }
        },
        {
         "source": {
          "index": 2,
          "label": "Obi-Wan Kenobi",
          "label_display": "center",
          "media": [
           "A New Hope",
           "The Empire Strikes Back",
           "Return of the Jedi",
           "The Phantom Menace",
           "Attack of the Clones",
           "Revenge of the Sith"
          ],
          "px": 533.0397615495689,
          "py": 110.32042497572475,
          "shape": "circle",
          "shape_attrs": {
           "r": 15
          },
          "value": null,
          "weight": 26,
          "x": 533.0558907748854,
          "y": 110.31231267728299
         },
         "target": {
          "index": 4,
          "label": "Yoda",
          "label_display": "center",
          "media": [
           "The Empire Strikes Back",
           "Return of the Jedi",
           "The Phantom Menace",
           "Attack of the Clones",
           "Revenge of the Sith"
          ],
          "px": 504.64001531181304,
          "py": 340.27955901755183,
          "shape": "circle",
          "shape_attrs": {
           "r": 15
          },
          "value": null,
          "weight": 50,
          "x": 504.6557281547196,
          "y": 340.2914741971771
         }
        },
        {
         "source": {
          "index": 2,
          "label": "Obi-Wan Kenobi",
          "label_display": "center",
          "media": [
           "A New Hope",
           "The Empire Strikes Back",
           "Return of the Jedi",
           "The Phantom Menace",
           "Attack of the Clones",
           "Revenge of the Sith"
          ],
          "px": 533.0397615495689,
          "py": 110.32042497572475,
          "shape": "circle",
          "shape_attrs": {
           "r": 15
          },
          "value": null,
          "weight": 26,
          "x": 533.0558907748854,
          "y": 110.31231267728299
         },
         "target": {
          "index": 2,
          "label": "Obi-Wan Kenobi",
          "label_display": "center",
          "media": [
           "A New Hope",
           "The Empire Strikes Back",
           "Return of the Jedi",
           "The Phantom Menace",
           "Attack of the Clones",
           "Revenge of the Sith"
          ],
          "px": 533.0397615495689,
          "py": 110.32042497572475,
          "shape": "circle",
          "shape_attrs": {
           "r": 15
          },
          "value": null,
          "weight": 26,
          "x": 533.0558907748854,
          "y": 110.31231267728299
         }
        },
        {
         "source": {
          "index": 2,
          "label": "Obi-Wan Kenobi",
          "label_display": "center",
          "media": [
           "A New Hope",
           "The Empire Strikes Back",
           "Return of the Jedi",
           "The Phantom Menace",
           "Attack of the Clones",
           "Revenge of the Sith"
          ],
          "px": 533.0397615495689,
          "py": 110.32042497572475,
          "shape": "circle",
          "shape_attrs": {
           "r": 15
          },
          "value": null,
          "weight": 26,
          "x": 533.0558907748854,
          "y": 110.31231267728299
         },
         "target": {
          "fixed": 0,
          "index": 1,
          "label": "Beru Whitesun lars",
          "label_display": "center",
          "media": [
           "A New Hope",
           "Attack of the Clones",
           "Revenge of the Sith"
          ],
          "px": 352.6172292317221,
          "py": 93.54619289329271,
          "shape": "circle",
          "shape_attrs": {
           "r": 15
          },
          "value": null,
          "weight": 42,
          "x": 352.6172292317221,
          "y": 93.54619289329271
         }
        },
        {
         "source": {
          "fixed": 0,
          "index": 1,
          "label": "Beru Whitesun lars",
          "label_display": "center",
          "media": [
           "A New Hope",
           "Attack of the Clones",
           "Revenge of the Sith"
          ],
          "px": 352.6172292317221,
          "py": 93.54619289329271,
          "shape": "circle",
          "shape_attrs": {
           "r": 15
          },
          "value": null,
          "weight": 42,
          "x": 352.6172292317221,
          "y": 93.54619289329271
         },
         "target": {
          "index": 4,
          "label": "Yoda",
          "label_display": "center",
          "media": [
           "The Empire Strikes Back",
           "Return of the Jedi",
           "The Phantom Menace",
           "Attack of the Clones",
           "Revenge of the Sith"
          ],
          "px": 504.64001531181304,
          "py": 340.27955901755183,
          "shape": "circle",
          "shape_attrs": {
           "r": 15
          },
          "value": null,
          "weight": 50,
          "x": 504.6557281547196,
          "y": 340.2914741971771
         }
        },
        {
         "source": {
          "fixed": 0,
          "index": 1,
          "label": "Beru Whitesun lars",
          "label_display": "center",
          "media": [
           "A New Hope",
           "Attack of the Clones",
           "Revenge of the Sith"
          ],
          "px": 352.6172292317221,
          "py": 93.54619289329271,
          "shape": "circle",
          "shape_attrs": {
           "r": 15
          },
          "value": null,
          "weight": 42,
          "x": 352.6172292317221,
          "y": 93.54619289329271
         },
         "target": {
          "index": 2,
          "label": "Obi-Wan Kenobi",
          "label_display": "center",
          "media": [
           "A New Hope",
           "The Empire Strikes Back",
           "Return of the Jedi",
           "The Phantom Menace",
           "Attack of the Clones",
           "Revenge of the Sith"
          ],
          "px": 533.0397615495689,
          "py": 110.32042497572475,
          "shape": "circle",
          "shape_attrs": {
           "r": 15
          },
          "value": null,
          "weight": 26,
          "x": 533.0558907748854,
          "y": 110.31231267728299
         }
        },
        {
         "source": {
          "fixed": 0,
          "index": 1,
          "label": "Beru Whitesun lars",
          "label_display": "center",
          "media": [
           "A New Hope",
           "Attack of the Clones",
           "Revenge of the Sith"
          ],
          "px": 352.6172292317221,
          "py": 93.54619289329271,
          "shape": "circle",
          "shape_attrs": {
           "r": 15
          },
          "value": null,
          "weight": 42,
          "x": 352.6172292317221,
          "y": 93.54619289329271
         },
         "target": {
          "fixed": 0,
          "index": 1,
          "label": "Beru Whitesun lars",
          "label_display": "center",
          "media": [
           "A New Hope",
           "Attack of the Clones",
           "Revenge of the Sith"
          ],
          "px": 352.6172292317221,
          "py": 93.54619289329271,
          "shape": "circle",
          "shape_attrs": {
           "r": 15
          },
          "value": null,
          "weight": 42,
          "x": 352.6172292317221,
          "y": 93.54619289329271
         }
        },
        {
         "source": {
          "index": 5,
          "label": "Boba Fett",
          "label_display": "center",
          "media": [
           "The Empire Strikes Back",
           "Return of the Jedi",
           "Attack of the Clones"
          ],
          "px": 324.5306333345561,
          "py": 476.50934030226404,
          "shape": "circle",
          "shape_attrs": {
           "r": 15
          },
          "value": null,
          "weight": 24,
          "x": 324.530648431727,
          "y": 476.5342269469411
         },
         "target": {
          "index": 5,
          "label": "Boba Fett",
          "label_display": "center",
          "media": [
           "The Empire Strikes Back",
           "Return of the Jedi",
           "Attack of the Clones"
          ],
          "px": 324.5306333345561,
          "py": 476.50934030226404,
          "shape": "circle",
          "shape_attrs": {
           "r": 15
          },
          "value": null,
          "weight": 24,
          "x": 324.530648431727,
          "y": 476.5342269469411
         }
        },
        {
         "source": {
          "index": 5,
          "label": "Boba Fett",
          "label_display": "center",
          "media": [
           "The Empire Strikes Back",
           "Return of the Jedi",
           "Attack of the Clones"
          ],
          "px": 324.5306333345561,
          "py": 476.50934030226404,
          "shape": "circle",
          "shape_attrs": {
           "r": 15
          },
          "value": null,
          "weight": 24,
          "x": 324.530648431727,
          "y": 476.5342269469411
         },
         "target": {
          "index": 4,
          "label": "Yoda",
          "label_display": "center",
          "media": [
           "The Empire Strikes Back",
           "Return of the Jedi",
           "The Phantom Menace",
           "Attack of the Clones",
           "Revenge of the Sith"
          ],
          "px": 504.64001531181304,
          "py": 340.27955901755183,
          "shape": "circle",
          "shape_attrs": {
           "r": 15
          },
          "value": null,
          "weight": 50,
          "x": 504.6557281547196,
          "y": 340.2914741971771
         }
        },
        {
         "source": {
          "index": 5,
          "label": "Boba Fett",
          "label_display": "center",
          "media": [
           "The Empire Strikes Back",
           "Return of the Jedi",
           "Attack of the Clones"
          ],
          "px": 324.5306333345561,
          "py": 476.50934030226404,
          "shape": "circle",
          "shape_attrs": {
           "r": 15
          },
          "value": null,
          "weight": 24,
          "x": 324.530648431727,
          "y": 476.5342269469411
         },
         "target": {
          "fixed": 0,
          "index": 1,
          "label": "Beru Whitesun lars",
          "label_display": "center",
          "media": [
           "A New Hope",
           "Attack of the Clones",
           "Revenge of the Sith"
          ],
          "px": 352.6172292317221,
          "py": 93.54619289329271,
          "shape": "circle",
          "shape_attrs": {
           "r": 15
          },
          "value": null,
          "weight": 42,
          "x": 352.6172292317221,
          "y": 93.54619289329271
         }
        },
        {
         "source": {
          "index": 5,
          "label": "Boba Fett",
          "label_display": "center",
          "media": [
           "The Empire Strikes Back",
           "Return of the Jedi",
           "Attack of the Clones"
          ],
          "px": 324.5306333345561,
          "py": 476.50934030226404,
          "shape": "circle",
          "shape_attrs": {
           "r": 15
          },
          "value": null,
          "weight": 24,
          "x": 324.530648431727,
          "y": 476.5342269469411
         },
         "target": {
          "index": 0,
          "label": "Darth Vader",
          "label_display": "center",
          "media": [
           "A New Hope",
           "The Empire Strikes Back",
           "Return of the Jedi",
           "Revenge of the Sith"
          ],
          "px": 230.42346897430224,
          "py": 391.3760844442452,
          "shape": "circle",
          "shape_attrs": {
           "r": 15
          },
          "value": null,
          "weight": 28,
          "x": 230.4087224404819,
          "y": 391.3904452969593
         }
        },
        {
         "source": {
          "index": 4,
          "label": "Yoda",
          "label_display": "center",
          "media": [
           "The Empire Strikes Back",
           "Return of the Jedi",
           "The Phantom Menace",
           "Attack of the Clones",
           "Revenge of the Sith"
          ],
          "px": 504.64001531181304,
          "py": 340.27955901755183,
          "shape": "circle",
          "shape_attrs": {
           "r": 15
          },
          "value": null,
          "weight": 50,
          "x": 504.6557281547196,
          "y": 340.2914741971771
         },
         "target": {
          "index": 5,
          "label": "Boba Fett",
          "label_display": "center",
          "media": [
           "The Empire Strikes Back",
           "Return of the Jedi",
           "Attack of the Clones"
          ],
          "px": 324.5306333345561,
          "py": 476.50934030226404,
          "shape": "circle",
          "shape_attrs": {
           "r": 15
          },
          "value": null,
          "weight": 24,
          "x": 324.530648431727,
          "y": 476.5342269469411
         }
        },
        {
         "source": {
          "index": 4,
          "label": "Yoda",
          "label_display": "center",
          "media": [
           "The Empire Strikes Back",
           "Return of the Jedi",
           "The Phantom Menace",
           "Attack of the Clones",
           "Revenge of the Sith"
          ],
          "px": 504.64001531181304,
          "py": 340.27955901755183,
          "shape": "circle",
          "shape_attrs": {
           "r": 15
          },
          "value": null,
          "weight": 50,
          "x": 504.6557281547196,
          "y": 340.2914741971771
         },
         "target": {
          "index": 4,
          "label": "Yoda",
          "label_display": "center",
          "media": [
           "The Empire Strikes Back",
           "Return of the Jedi",
           "The Phantom Menace",
           "Attack of the Clones",
           "Revenge of the Sith"
          ],
          "px": 504.64001531181304,
          "py": 340.27955901755183,
          "shape": "circle",
          "shape_attrs": {
           "r": 15
          },
          "value": null,
          "weight": 50,
          "x": 504.6557281547196,
          "y": 340.2914741971771
         }
        },
        {
         "source": {
          "index": 4,
          "label": "Yoda",
          "label_display": "center",
          "media": [
           "The Empire Strikes Back",
           "Return of the Jedi",
           "The Phantom Menace",
           "Attack of the Clones",
           "Revenge of the Sith"
          ],
          "px": 504.64001531181304,
          "py": 340.27955901755183,
          "shape": "circle",
          "shape_attrs": {
           "r": 15
          },
          "value": null,
          "weight": 50,
          "x": 504.6557281547196,
          "y": 340.2914741971771
         },
         "target": {
          "fixed": 0,
          "index": 1,
          "label": "Beru Whitesun lars",
          "label_display": "center",
          "media": [
           "A New Hope",
           "Attack of the Clones",
           "Revenge of the Sith"
          ],
          "px": 352.6172292317221,
          "py": 93.54619289329271,
          "shape": "circle",
          "shape_attrs": {
           "r": 15
          },
          "value": null,
          "weight": 42,
          "x": 352.6172292317221,
          "y": 93.54619289329271
         }
        },
        {
         "source": {
          "index": 4,
          "label": "Yoda",
          "label_display": "center",
          "media": [
           "The Empire Strikes Back",
           "Return of the Jedi",
           "The Phantom Menace",
           "Attack of the Clones",
           "Revenge of the Sith"
          ],
          "px": 504.64001531181304,
          "py": 340.27955901755183,
          "shape": "circle",
          "shape_attrs": {
           "r": 15
          },
          "value": null,
          "weight": 50,
          "x": 504.6557281547196,
          "y": 340.2914741971771
         },
         "target": {
          "index": 0,
          "label": "Darth Vader",
          "label_display": "center",
          "media": [
           "A New Hope",
           "The Empire Strikes Back",
           "Return of the Jedi",
           "Revenge of the Sith"
          ],
          "px": 230.42346897430224,
          "py": 391.3760844442452,
          "shape": "circle",
          "shape_attrs": {
           "r": 15
          },
          "value": null,
          "weight": 28,
          "x": 230.4087224404819,
          "y": 391.3904452969593
         }
        },
        {
         "source": {
          "fixed": 0,
          "index": 1,
          "label": "Beru Whitesun lars",
          "label_display": "center",
          "media": [
           "A New Hope",
           "Attack of the Clones",
           "Revenge of the Sith"
          ],
          "px": 352.6172292317221,
          "py": 93.54619289329271,
          "shape": "circle",
          "shape_attrs": {
           "r": 15
          },
          "value": null,
          "weight": 42,
          "x": 352.6172292317221,
          "y": 93.54619289329271
         },
         "target": {
          "index": 5,
          "label": "Boba Fett",
          "label_display": "center",
          "media": [
           "The Empire Strikes Back",
           "Return of the Jedi",
           "Attack of the Clones"
          ],
          "px": 324.5306333345561,
          "py": 476.50934030226404,
          "shape": "circle",
          "shape_attrs": {
           "r": 15
          },
          "value": null,
          "weight": 24,
          "x": 324.530648431727,
          "y": 476.5342269469411
         }
        },
        {
         "source": {
          "fixed": 0,
          "index": 1,
          "label": "Beru Whitesun lars",
          "label_display": "center",
          "media": [
           "A New Hope",
           "Attack of the Clones",
           "Revenge of the Sith"
          ],
          "px": 352.6172292317221,
          "py": 93.54619289329271,
          "shape": "circle",
          "shape_attrs": {
           "r": 15
          },
          "value": null,
          "weight": 42,
          "x": 352.6172292317221,
          "y": 93.54619289329271
         },
         "target": {
          "index": 4,
          "label": "Yoda",
          "label_display": "center",
          "media": [
           "The Empire Strikes Back",
           "Return of the Jedi",
           "The Phantom Menace",
           "Attack of the Clones",
           "Revenge of the Sith"
          ],
          "px": 504.64001531181304,
          "py": 340.27955901755183,
          "shape": "circle",
          "shape_attrs": {
           "r": 15
          },
          "value": null,
          "weight": 50,
          "x": 504.6557281547196,
          "y": 340.2914741971771
         }
        },
        {
         "source": {
          "fixed": 0,
          "index": 1,
          "label": "Beru Whitesun lars",
          "label_display": "center",
          "media": [
           "A New Hope",
           "Attack of the Clones",
           "Revenge of the Sith"
          ],
          "px": 352.6172292317221,
          "py": 93.54619289329271,
          "shape": "circle",
          "shape_attrs": {
           "r": 15
          },
          "value": null,
          "weight": 42,
          "x": 352.6172292317221,
          "y": 93.54619289329271
         },
         "target": {
          "fixed": 0,
          "index": 1,
          "label": "Beru Whitesun lars",
          "label_display": "center",
          "media": [
           "A New Hope",
           "Attack of the Clones",
           "Revenge of the Sith"
          ],
          "px": 352.6172292317221,
          "py": 93.54619289329271,
          "shape": "circle",
          "shape_attrs": {
           "r": 15
          },
          "value": null,
          "weight": 42,
          "x": 352.6172292317221,
          "y": 93.54619289329271
         }
        },
        {
         "source": {
          "fixed": 0,
          "index": 1,
          "label": "Beru Whitesun lars",
          "label_display": "center",
          "media": [
           "A New Hope",
           "Attack of the Clones",
           "Revenge of the Sith"
          ],
          "px": 352.6172292317221,
          "py": 93.54619289329271,
          "shape": "circle",
          "shape_attrs": {
           "r": 15
          },
          "value": null,
          "weight": 42,
          "x": 352.6172292317221,
          "y": 93.54619289329271
         },
         "target": {
          "index": 0,
          "label": "Darth Vader",
          "label_display": "center",
          "media": [
           "A New Hope",
           "The Empire Strikes Back",
           "Return of the Jedi",
           "Revenge of the Sith"
          ],
          "px": 230.42346897430224,
          "py": 391.3760844442452,
          "shape": "circle",
          "shape_attrs": {
           "r": 15
          },
          "value": null,
          "weight": 28,
          "x": 230.4087224404819,
          "y": 391.3904452969593
         }
        },
        {
         "source": {
          "index": 0,
          "label": "Darth Vader",
          "label_display": "center",
          "media": [
           "A New Hope",
           "The Empire Strikes Back",
           "Return of the Jedi",
           "Revenge of the Sith"
          ],
          "px": 230.42346897430224,
          "py": 391.3760844442452,
          "shape": "circle",
          "shape_attrs": {
           "r": 15
          },
          "value": null,
          "weight": 28,
          "x": 230.4087224404819,
          "y": 391.3904452969593
         },
         "target": {
          "index": 5,
          "label": "Boba Fett",
          "label_display": "center",
          "media": [
           "The Empire Strikes Back",
           "Return of the Jedi",
           "Attack of the Clones"
          ],
          "px": 324.5306333345561,
          "py": 476.50934030226404,
          "shape": "circle",
          "shape_attrs": {
           "r": 15
          },
          "value": null,
          "weight": 24,
          "x": 324.530648431727,
          "y": 476.5342269469411
         }
        },
        {
         "source": {
          "index": 0,
          "label": "Darth Vader",
          "label_display": "center",
          "media": [
           "A New Hope",
           "The Empire Strikes Back",
           "Return of the Jedi",
           "Revenge of the Sith"
          ],
          "px": 230.42346897430224,
          "py": 391.3760844442452,
          "shape": "circle",
          "shape_attrs": {
           "r": 15
          },
          "value": null,
          "weight": 28,
          "x": 230.4087224404819,
          "y": 391.3904452969593
         },
         "target": {
          "index": 4,
          "label": "Yoda",
          "label_display": "center",
          "media": [
           "The Empire Strikes Back",
           "Return of the Jedi",
           "The Phantom Menace",
           "Attack of the Clones",
           "Revenge of the Sith"
          ],
          "px": 504.64001531181304,
          "py": 340.27955901755183,
          "shape": "circle",
          "shape_attrs": {
           "r": 15
          },
          "value": null,
          "weight": 50,
          "x": 504.6557281547196,
          "y": 340.2914741971771
         }
        },
        {
         "source": {
          "index": 0,
          "label": "Darth Vader",
          "label_display": "center",
          "media": [
           "A New Hope",
           "The Empire Strikes Back",
           "Return of the Jedi",
           "Revenge of the Sith"
          ],
          "px": 230.42346897430224,
          "py": 391.3760844442452,
          "shape": "circle",
          "shape_attrs": {
           "r": 15
          },
          "value": null,
          "weight": 28,
          "x": 230.4087224404819,
          "y": 391.3904452969593
         },
         "target": {
          "fixed": 0,
          "index": 1,
          "label": "Beru Whitesun lars",
          "label_display": "center",
          "media": [
           "A New Hope",
           "Attack of the Clones",
           "Revenge of the Sith"
          ],
          "px": 352.6172292317221,
          "py": 93.54619289329271,
          "shape": "circle",
          "shape_attrs": {
           "r": 15
          },
          "value": null,
          "weight": 42,
          "x": 352.6172292317221,
          "y": 93.54619289329271
         }
        },
        {
         "source": {
          "index": 0,
          "label": "Darth Vader",
          "label_display": "center",
          "media": [
           "A New Hope",
           "The Empire Strikes Back",
           "Return of the Jedi",
           "Revenge of the Sith"
          ],
          "px": 230.42346897430224,
          "py": 391.3760844442452,
          "shape": "circle",
          "shape_attrs": {
           "r": 15
          },
          "value": null,
          "weight": 28,
          "x": 230.4087224404819,
          "y": 391.3904452969593
         },
         "target": {
          "index": 0,
          "label": "Darth Vader",
          "label_display": "center",
          "media": [
           "A New Hope",
           "The Empire Strikes Back",
           "Return of the Jedi",
           "Revenge of the Sith"
          ],
          "px": 230.42346897430224,
          "py": 391.3760844442452,
          "shape": "circle",
          "shape_attrs": {
           "r": 15
          },
          "value": null,
          "weight": 28,
          "x": 230.4087224404819,
          "y": 391.3904452969593
         }
        },
        {
         "source": {
          "index": 3,
          "label": "Jabba Desilijic Tiure",
          "label_display": "center",
          "media": [
           "A New Hope",
           "Return of the Jedi",
           "The Phantom Menace"
          ],
          "px": 184.08980370639892,
          "py": 230.6819419288396,
          "shape": "circle",
          "shape_attrs": {
           "r": 15
          },
          "value": null,
          "weight": 36,
          "x": 184.07353588241813,
          "y": 230.67511833661734
         },
         "target": {
          "index": 3,
          "label": "Jabba Desilijic Tiure",
          "label_display": "center",
          "media": [
           "A New Hope",
           "Return of the Jedi",
           "The Phantom Menace"
          ],
          "px": 184.08980370639892,
          "py": 230.6819419288396,
          "shape": "circle",
          "shape_attrs": {
           "r": 15
          },
          "value": null,
          "weight": 36,
          "x": 184.07353588241813,
          "y": 230.67511833661734
         }
        },
        {
         "source": {
          "index": 3,
          "label": "Jabba Desilijic Tiure",
          "label_display": "center",
          "media": [
           "A New Hope",
           "Return of the Jedi",
           "The Phantom Menace"
          ],
          "px": 184.08980370639892,
          "py": 230.6819419288396,
          "shape": "circle",
          "shape_attrs": {
           "r": 15
          },
          "value": null,
          "weight": 36,
          "x": 184.07353588241813,
          "y": 230.67511833661734
         },
         "target": {
          "index": 5,
          "label": "Boba Fett",
          "label_display": "center",
          "media": [
           "The Empire Strikes Back",
           "Return of the Jedi",
           "Attack of the Clones"
          ],
          "px": 324.5306333345561,
          "py": 476.50934030226404,
          "shape": "circle",
          "shape_attrs": {
           "r": 15
          },
          "value": null,
          "weight": 24,
          "x": 324.530648431727,
          "y": 476.5342269469411
         }
        },
        {
         "source": {
          "index": 3,
          "label": "Jabba Desilijic Tiure",
          "label_display": "center",
          "media": [
           "A New Hope",
           "Return of the Jedi",
           "The Phantom Menace"
          ],
          "px": 184.08980370639892,
          "py": 230.6819419288396,
          "shape": "circle",
          "shape_attrs": {
           "r": 15
          },
          "value": null,
          "weight": 36,
          "x": 184.07353588241813,
          "y": 230.67511833661734
         },
         "target": {
          "index": 4,
          "label": "Yoda",
          "label_display": "center",
          "media": [
           "The Empire Strikes Back",
           "Return of the Jedi",
           "The Phantom Menace",
           "Attack of the Clones",
           "Revenge of the Sith"
          ],
          "px": 504.64001531181304,
          "py": 340.27955901755183,
          "shape": "circle",
          "shape_attrs": {
           "r": 15
          },
          "value": null,
          "weight": 50,
          "x": 504.6557281547196,
          "y": 340.2914741971771
         }
        },
        {
         "source": {
          "index": 3,
          "label": "Jabba Desilijic Tiure",
          "label_display": "center",
          "media": [
           "A New Hope",
           "Return of the Jedi",
           "The Phantom Menace"
          ],
          "px": 184.08980370639892,
          "py": 230.6819419288396,
          "shape": "circle",
          "shape_attrs": {
           "r": 15
          },
          "value": null,
          "weight": 36,
          "x": 184.07353588241813,
          "y": 230.67511833661734
         },
         "target": {
          "fixed": 0,
          "index": 1,
          "label": "Beru Whitesun lars",
          "label_display": "center",
          "media": [
           "A New Hope",
           "Attack of the Clones",
           "Revenge of the Sith"
          ],
          "px": 352.6172292317221,
          "py": 93.54619289329271,
          "shape": "circle",
          "shape_attrs": {
           "r": 15
          },
          "value": null,
          "weight": 42,
          "x": 352.6172292317221,
          "y": 93.54619289329271
         }
        },
        {
         "source": {
          "index": 5,
          "label": "Boba Fett",
          "label_display": "center",
          "media": [
           "The Empire Strikes Back",
           "Return of the Jedi",
           "Attack of the Clones"
          ],
          "px": 324.5306333345561,
          "py": 476.50934030226404,
          "shape": "circle",
          "shape_attrs": {
           "r": 15
          },
          "value": null,
          "weight": 24,
          "x": 324.530648431727,
          "y": 476.5342269469411
         },
         "target": {
          "index": 3,
          "label": "Jabba Desilijic Tiure",
          "label_display": "center",
          "media": [
           "A New Hope",
           "Return of the Jedi",
           "The Phantom Menace"
          ],
          "px": 184.08980370639892,
          "py": 230.6819419288396,
          "shape": "circle",
          "shape_attrs": {
           "r": 15
          },
          "value": null,
          "weight": 36,
          "x": 184.07353588241813,
          "y": 230.67511833661734
         }
        },
        {
         "source": {
          "index": 5,
          "label": "Boba Fett",
          "label_display": "center",
          "media": [
           "The Empire Strikes Back",
           "Return of the Jedi",
           "Attack of the Clones"
          ],
          "px": 324.5306333345561,
          "py": 476.50934030226404,
          "shape": "circle",
          "shape_attrs": {
           "r": 15
          },
          "value": null,
          "weight": 24,
          "x": 324.530648431727,
          "y": 476.5342269469411
         },
         "target": {
          "index": 5,
          "label": "Boba Fett",
          "label_display": "center",
          "media": [
           "The Empire Strikes Back",
           "Return of the Jedi",
           "Attack of the Clones"
          ],
          "px": 324.5306333345561,
          "py": 476.50934030226404,
          "shape": "circle",
          "shape_attrs": {
           "r": 15
          },
          "value": null,
          "weight": 24,
          "x": 324.530648431727,
          "y": 476.5342269469411
         }
        },
        {
         "source": {
          "index": 5,
          "label": "Boba Fett",
          "label_display": "center",
          "media": [
           "The Empire Strikes Back",
           "Return of the Jedi",
           "Attack of the Clones"
          ],
          "px": 324.5306333345561,
          "py": 476.50934030226404,
          "shape": "circle",
          "shape_attrs": {
           "r": 15
          },
          "value": null,
          "weight": 24,
          "x": 324.530648431727,
          "y": 476.5342269469411
         },
         "target": {
          "index": 4,
          "label": "Yoda",
          "label_display": "center",
          "media": [
           "The Empire Strikes Back",
           "Return of the Jedi",
           "The Phantom Menace",
           "Attack of the Clones",
           "Revenge of the Sith"
          ],
          "px": 504.64001531181304,
          "py": 340.27955901755183,
          "shape": "circle",
          "shape_attrs": {
           "r": 15
          },
          "value": null,
          "weight": 50,
          "x": 504.6557281547196,
          "y": 340.2914741971771
         }
        },
        {
         "source": {
          "index": 5,
          "label": "Boba Fett",
          "label_display": "center",
          "media": [
           "The Empire Strikes Back",
           "Return of the Jedi",
           "Attack of the Clones"
          ],
          "px": 324.5306333345561,
          "py": 476.50934030226404,
          "shape": "circle",
          "shape_attrs": {
           "r": 15
          },
          "value": null,
          "weight": 24,
          "x": 324.530648431727,
          "y": 476.5342269469411
         },
         "target": {
          "fixed": 0,
          "index": 1,
          "label": "Beru Whitesun lars",
          "label_display": "center",
          "media": [
           "A New Hope",
           "Attack of the Clones",
           "Revenge of the Sith"
          ],
          "px": 352.6172292317221,
          "py": 93.54619289329271,
          "shape": "circle",
          "shape_attrs": {
           "r": 15
          },
          "value": null,
          "weight": 42,
          "x": 352.6172292317221,
          "y": 93.54619289329271
         }
        },
        {
         "source": {
          "index": 4,
          "label": "Yoda",
          "label_display": "center",
          "media": [
           "The Empire Strikes Back",
           "Return of the Jedi",
           "The Phantom Menace",
           "Attack of the Clones",
           "Revenge of the Sith"
          ],
          "px": 504.64001531181304,
          "py": 340.27955901755183,
          "shape": "circle",
          "shape_attrs": {
           "r": 15
          },
          "value": null,
          "weight": 50,
          "x": 504.6557281547196,
          "y": 340.2914741971771
         },
         "target": {
          "index": 3,
          "label": "Jabba Desilijic Tiure",
          "label_display": "center",
          "media": [
           "A New Hope",
           "Return of the Jedi",
           "The Phantom Menace"
          ],
          "px": 184.08980370639892,
          "py": 230.6819419288396,
          "shape": "circle",
          "shape_attrs": {
           "r": 15
          },
          "value": null,
          "weight": 36,
          "x": 184.07353588241813,
          "y": 230.67511833661734
         }
        },
        {
         "source": {
          "index": 4,
          "label": "Yoda",
          "label_display": "center",
          "media": [
           "The Empire Strikes Back",
           "Return of the Jedi",
           "The Phantom Menace",
           "Attack of the Clones",
           "Revenge of the Sith"
          ],
          "px": 504.64001531181304,
          "py": 340.27955901755183,
          "shape": "circle",
          "shape_attrs": {
           "r": 15
          },
          "value": null,
          "weight": 50,
          "x": 504.6557281547196,
          "y": 340.2914741971771
         },
         "target": {
          "index": 5,
          "label": "Boba Fett",
          "label_display": "center",
          "media": [
           "The Empire Strikes Back",
           "Return of the Jedi",
           "Attack of the Clones"
          ],
          "px": 324.5306333345561,
          "py": 476.50934030226404,
          "shape": "circle",
          "shape_attrs": {
           "r": 15
          },
          "value": null,
          "weight": 24,
          "x": 324.530648431727,
          "y": 476.5342269469411
         }
        },
        {
         "source": {
          "index": 4,
          "label": "Yoda",
          "label_display": "center",
          "media": [
           "The Empire Strikes Back",
           "Return of the Jedi",
           "The Phantom Menace",
           "Attack of the Clones",
           "Revenge of the Sith"
          ],
          "px": 504.64001531181304,
          "py": 340.27955901755183,
          "shape": "circle",
          "shape_attrs": {
           "r": 15
          },
          "value": null,
          "weight": 50,
          "x": 504.6557281547196,
          "y": 340.2914741971771
         },
         "target": {
          "index": 4,
          "label": "Yoda",
          "label_display": "center",
          "media": [
           "The Empire Strikes Back",
           "Return of the Jedi",
           "The Phantom Menace",
           "Attack of the Clones",
           "Revenge of the Sith"
          ],
          "px": 504.64001531181304,
          "py": 340.27955901755183,
          "shape": "circle",
          "shape_attrs": {
           "r": 15
          },
          "value": null,
          "weight": 50,
          "x": 504.6557281547196,
          "y": 340.2914741971771
         }
        },
        {
         "source": {
          "index": 4,
          "label": "Yoda",
          "label_display": "center",
          "media": [
           "The Empire Strikes Back",
           "Return of the Jedi",
           "The Phantom Menace",
           "Attack of the Clones",
           "Revenge of the Sith"
          ],
          "px": 504.64001531181304,
          "py": 340.27955901755183,
          "shape": "circle",
          "shape_attrs": {
           "r": 15
          },
          "value": null,
          "weight": 50,
          "x": 504.6557281547196,
          "y": 340.2914741971771
         },
         "target": {
          "fixed": 0,
          "index": 1,
          "label": "Beru Whitesun lars",
          "label_display": "center",
          "media": [
           "A New Hope",
           "Attack of the Clones",
           "Revenge of the Sith"
          ],
          "px": 352.6172292317221,
          "py": 93.54619289329271,
          "shape": "circle",
          "shape_attrs": {
           "r": 15
          },
          "value": null,
          "weight": 42,
          "x": 352.6172292317221,
          "y": 93.54619289329271
         }
        },
        {
         "source": {
          "fixed": 0,
          "index": 1,
          "label": "Beru Whitesun lars",
          "label_display": "center",
          "media": [
           "A New Hope",
           "Attack of the Clones",
           "Revenge of the Sith"
          ],
          "px": 352.6172292317221,
          "py": 93.54619289329271,
          "shape": "circle",
          "shape_attrs": {
           "r": 15
          },
          "value": null,
          "weight": 42,
          "x": 352.6172292317221,
          "y": 93.54619289329271
         },
         "target": {
          "index": 3,
          "label": "Jabba Desilijic Tiure",
          "label_display": "center",
          "media": [
           "A New Hope",
           "Return of the Jedi",
           "The Phantom Menace"
          ],
          "px": 184.08980370639892,
          "py": 230.6819419288396,
          "shape": "circle",
          "shape_attrs": {
           "r": 15
          },
          "value": null,
          "weight": 36,
          "x": 184.07353588241813,
          "y": 230.67511833661734
         }
        },
        {
         "source": {
          "fixed": 0,
          "index": 1,
          "label": "Beru Whitesun lars",
          "label_display": "center",
          "media": [
           "A New Hope",
           "Attack of the Clones",
           "Revenge of the Sith"
          ],
          "px": 352.6172292317221,
          "py": 93.54619289329271,
          "shape": "circle",
          "shape_attrs": {
           "r": 15
          },
          "value": null,
          "weight": 42,
          "x": 352.6172292317221,
          "y": 93.54619289329271
         },
         "target": {
          "index": 5,
          "label": "Boba Fett",
          "label_display": "center",
          "media": [
           "The Empire Strikes Back",
           "Return of the Jedi",
           "Attack of the Clones"
          ],
          "px": 324.5306333345561,
          "py": 476.50934030226404,
          "shape": "circle",
          "shape_attrs": {
           "r": 15
          },
          "value": null,
          "weight": 24,
          "x": 324.530648431727,
          "y": 476.5342269469411
         }
        },
        {
         "source": {
          "fixed": 0,
          "index": 1,
          "label": "Beru Whitesun lars",
          "label_display": "center",
          "media": [
           "A New Hope",
           "Attack of the Clones",
           "Revenge of the Sith"
          ],
          "px": 352.6172292317221,
          "py": 93.54619289329271,
          "shape": "circle",
          "shape_attrs": {
           "r": 15
          },
          "value": null,
          "weight": 42,
          "x": 352.6172292317221,
          "y": 93.54619289329271
         },
         "target": {
          "index": 4,
          "label": "Yoda",
          "label_display": "center",
          "media": [
           "The Empire Strikes Back",
           "Return of the Jedi",
           "The Phantom Menace",
           "Attack of the Clones",
           "Revenge of the Sith"
          ],
          "px": 504.64001531181304,
          "py": 340.27955901755183,
          "shape": "circle",
          "shape_attrs": {
           "r": 15
          },
          "value": null,
          "weight": 50,
          "x": 504.6557281547196,
          "y": 340.2914741971771
         }
        },
        {
         "source": {
          "fixed": 0,
          "index": 1,
          "label": "Beru Whitesun lars",
          "label_display": "center",
          "media": [
           "A New Hope",
           "Attack of the Clones",
           "Revenge of the Sith"
          ],
          "px": 352.6172292317221,
          "py": 93.54619289329271,
          "shape": "circle",
          "shape_attrs": {
           "r": 15
          },
          "value": null,
          "weight": 42,
          "x": 352.6172292317221,
          "y": 93.54619289329271
         },
         "target": {
          "fixed": 0,
          "index": 1,
          "label": "Beru Whitesun lars",
          "label_display": "center",
          "media": [
           "A New Hope",
           "Attack of the Clones",
           "Revenge of the Sith"
          ],
          "px": 352.6172292317221,
          "py": 93.54619289329271,
          "shape": "circle",
          "shape_attrs": {
           "r": 15
          },
          "value": null,
          "weight": 42,
          "x": 352.6172292317221,
          "y": 93.54619289329271
         }
        }
       ],
       "link_distance": 300,
       "link_matrix": {
        "type": "float",
        "values": []
       },
       "link_type": "arc",
       "node_data": [
        {
         "index": 0,
         "label": "Darth Vader",
         "label_display": "center",
         "media": [
          "A New Hope",
          "The Empire Strikes Back",
          "Return of the Jedi",
          "Revenge of the Sith"
         ],
         "px": 230.42346897430224,
         "py": 391.3760844442452,
         "shape": "circle",
         "shape_attrs": {
          "r": 15
         },
         "value": null,
         "weight": 28,
         "x": 230.4087224404819,
         "y": 391.3904452969593
        },
        {
         "fixed": 0,
         "index": 1,
         "label": "Beru Whitesun lars",
         "label_display": "center",
         "media": [
          "A New Hope",
          "Attack of the Clones",
          "Revenge of the Sith"
         ],
         "px": 352.6172292317221,
         "py": 93.54619289329271,
         "shape": "circle",
         "shape_attrs": {
          "r": 15
         },
         "value": null,
         "weight": 42,
         "x": 352.6172292317221,
         "y": 93.54619289329271
        },
        {
         "index": 2,
         "label": "Obi-Wan Kenobi",
         "label_display": "center",
         "media": [
          "A New Hope",
          "The Empire Strikes Back",
          "Return of the Jedi",
          "The Phantom Menace",
          "Attack of the Clones",
          "Revenge of the Sith"
         ],
         "px": 533.0397615495689,
         "py": 110.32042497572475,
         "shape": "circle",
         "shape_attrs": {
          "r": 15
         },
         "value": null,
         "weight": 26,
         "x": 533.0558907748854,
         "y": 110.31231267728299
        },
        {
         "index": 3,
         "label": "Jabba Desilijic Tiure",
         "label_display": "center",
         "media": [
          "A New Hope",
          "Return of the Jedi",
          "The Phantom Menace"
         ],
         "px": 184.08980370639892,
         "py": 230.6819419288396,
         "shape": "circle",
         "shape_attrs": {
          "r": 15
         },
         "value": null,
         "weight": 36,
         "x": 184.07353588241813,
         "y": 230.67511833661734
        },
        {
         "index": 4,
         "label": "Yoda",
         "label_display": "center",
         "media": [
          "The Empire Strikes Back",
          "Return of the Jedi",
          "The Phantom Menace",
          "Attack of the Clones",
          "Revenge of the Sith"
         ],
         "px": 504.64001531181304,
         "py": 340.27955901755183,
         "shape": "circle",
         "shape_attrs": {
          "r": 15
         },
         "value": null,
         "weight": 50,
         "x": 504.6557281547196,
         "y": 340.2914741971771
        },
        {
         "index": 5,
         "label": "Boba Fett",
         "label_display": "center",
         "media": [
          "The Empire Strikes Back",
          "Return of the Jedi",
          "Attack of the Clones"
         ],
         "px": 324.5306333345561,
         "py": 476.50934030226404,
         "shape": "circle",
         "shape_attrs": {
          "r": 15
         },
         "value": null,
         "weight": 24,
         "x": 324.530648431727,
         "y": 476.5342269469411
        },
        {
         "index": 6,
         "label": "Mon Mothma",
         "label_display": "center",
         "media": [
          "Return of the Jedi"
         ],
         "px": 209.1429355024067,
         "py": 39.89166217853323,
         "shape": "circle",
         "shape_attrs": {
          "r": 15
         },
         "value": null,
         "weight": 12,
         "x": 209.13762904466674,
         "y": 39.863539734579305
        }
       ],
       "preserve_domain": {},
       "scales": {},
       "scales_metadata": {
        "color": {
         "dimension": "color"
        },
        "link_color": {
         "dimension": "link_color"
        },
        "x": {
         "dimension": "x",
         "orientation": "horizontal"
        },
        "y": {
         "dimension": "y",
         "orientation": "vertical"
        }
       },
       "selected": [],
       "selected_style": {},
       "tooltip": "IPY_MODEL_c4d936fe37a340d2a0883f5f5e3eb88b",
       "tooltip_location": "mouse",
       "tooltip_style": {
        "opacity": 0.9
       },
       "unhovered_style": {},
       "unselected_style": {},
       "visible": true,
       "x": {
        "type": "float",
        "values": []
       },
       "y": {
        "type": "float",
        "values": []
       }
      }
     },
     "7ba8ddd0ad2f4e76bb606256a60eb508": {
      "model_module": "bqplot",
      "model_module_version": "^0.4.1",
      "model_name": "TooltipModel",
      "state": {
       "_model_module_version": "^0.4.1",
       "_view_module_version": "^0.4.1",
       "fields": [
        "label",
        "media"
       ],
       "layout": "IPY_MODEL_c4b4f88082984fe188f017a97b04720b"
      }
     },
     "7f5ced3fbc864cc6bae9c399ef59e945": {
      "model_module": "bqplot",
      "model_module_version": "^0.4.1",
      "model_name": "LinearScaleModel",
      "state": {
       "_model_module_version": "^0.4.1",
       "_view_module_version": "^0.4.1",
       "allow_padding": false,
       "max": 1,
       "min": 0,
       "stabilized": false
      }
     },
     "853bfc1a4b674e4ca9fc53724d82f257": {
      "model_module": "bqplot",
      "model_module_version": "^0.4.1",
      "model_name": "GraphModel",
      "state": {
       "_model_module": "bqplot",
       "_model_module_version": "^0.4.1",
       "_view_count": null,
       "_view_module": "bqplot",
       "_view_module_version": "^0.4.1",
       "apply_clip": true,
       "charge": -300,
       "color": {
        "type": null,
        "values": null
       },
       "colors": [
        "#1f77b4",
        "#ff7f0e",
        "#2ca02c",
        "#d62728",
        "#9467bd",
        "#8c564b",
        "#e377c2",
        "#7f7f7f",
        "#bcbd22",
        "#17becf"
       ],
       "directed": true,
       "display_legend": false,
       "enable_hover": true,
       "highlight_links": true,
       "hovered_style": {},
       "interactions": {
        "click": "select",
        "hover": "tooltip"
       },
       "labels": [],
       "link_color": {
        "type": "float",
        "values": []
       },
       "link_data": [
        {
         "source": {
          "fixed": 0,
          "index": 3,
          "label": "Jabba Desilijic Tiure",
          "label_display": "center",
          "media": [
           "A New Hope",
           "Return of the Jedi",
           "The Phantom Menace"
          ],
          "px": 341.9153436505013,
          "py": 436.45553031626577,
          "shape": "circle",
          "shape_attrs": {
           "r": 15
          },
          "value": null,
          "weight": 36,
          "x": 341.9153436505013,
          "y": 436.45553031626577
         },
         "target": {
          "fixed": 0,
          "index": 3,
          "label": "Jabba Desilijic Tiure",
          "label_display": "center",
          "media": [
           "A New Hope",
           "Return of the Jedi",
           "The Phantom Menace"
          ],
          "px": 341.9153436505013,
          "py": 436.45553031626577,
          "shape": "circle",
          "shape_attrs": {
           "r": 15
          },
          "value": null,
          "weight": 36,
          "x": 341.9153436505013,
          "y": 436.45553031626577
         }
        },
        {
         "source": {
          "fixed": 0,
          "index": 3,
          "label": "Jabba Desilijic Tiure",
          "label_display": "center",
          "media": [
           "A New Hope",
           "Return of the Jedi",
           "The Phantom Menace"
          ],
          "px": 341.9153436505013,
          "py": 436.45553031626577,
          "shape": "circle",
          "shape_attrs": {
           "r": 15
          },
          "value": null,
          "weight": 36,
          "x": 341.9153436505013,
          "y": 436.45553031626577
         },
         "target": {
          "index": 5,
          "label": "Boba Fett",
          "label_display": "center",
          "media": [
           "The Empire Strikes Back",
           "Return of the Jedi",
           "Attack of the Clones"
          ],
          "px": 548.7318427086741,
          "py": 258.5726088512628,
          "shape": "circle",
          "shape_attrs": {
           "r": 15
          },
          "value": null,
          "weight": 24,
          "x": 548.7555362854636,
          "y": 258.5701813443357
         }
        },
        {
         "source": {
          "fixed": 0,
          "index": 3,
          "label": "Jabba Desilijic Tiure",
          "label_display": "center",
          "media": [
           "A New Hope",
           "Return of the Jedi",
           "The Phantom Menace"
          ],
          "px": 341.9153436505013,
          "py": 436.45553031626577,
          "shape": "circle",
          "shape_attrs": {
           "r": 15
          },
          "value": null,
          "weight": 36,
          "x": 341.9153436505013,
          "y": 436.45553031626577
         },
         "target": {
          "fixed": 0,
          "index": 4,
          "label": "Yoda",
          "label_display": "center",
          "media": [
           "The Empire Strikes Back",
           "Return of the Jedi",
           "The Phantom Menace",
           "Attack of the Clones",
           "Revenge of the Sith"
          ],
          "px": 196.99622753023823,
          "py": 244.76928638153402,
          "shape": "circle",
          "shape_attrs": {
           "r": 15
          },
          "value": null,
          "weight": 50,
          "x": 196.9833345800705,
          "y": 244.75049609466612
         }
        },
        {
         "source": {
          "fixed": 0,
          "index": 3,
          "label": "Jabba Desilijic Tiure",
          "label_display": "center",
          "media": [
           "A New Hope",
           "Return of the Jedi",
           "The Phantom Menace"
          ],
          "px": 341.9153436505013,
          "py": 436.45553031626577,
          "shape": "circle",
          "shape_attrs": {
           "r": 15
          },
          "value": null,
          "weight": 36,
          "x": 341.9153436505013,
          "y": 436.45553031626577
         },
         "target": {
          "index": 2,
          "label": "Obi-Wan Kenobi",
          "label_display": "center",
          "media": [
           "A New Hope",
           "The Empire Strikes Back",
           "Return of the Jedi",
           "The Phantom Menace",
           "Attack of the Clones",
           "Revenge of the Sith"
          ],
          "px": 499.3076255945535,
          "py": 363.84576740116586,
          "shape": "circle",
          "shape_attrs": {
           "r": 15
          },
          "value": null,
          "weight": 26,
          "x": 499.3198885586289,
          "y": 363.86925757119025
         }
        },
        {
         "source": {
          "index": 5,
          "label": "Boba Fett",
          "label_display": "center",
          "media": [
           "The Empire Strikes Back",
           "Return of the Jedi",
           "Attack of the Clones"
          ],
          "px": 548.7318427086741,
          "py": 258.5726088512628,
          "shape": "circle",
          "shape_attrs": {
           "r": 15
          },
          "value": null,
          "weight": 24,
          "x": 548.7555362854636,
          "y": 258.5701813443357
         },
         "target": {
          "fixed": 0,
          "index": 3,
          "label": "Jabba Desilijic Tiure",
          "label_display": "center",
          "media": [
           "A New Hope",
           "Return of the Jedi",
           "The Phantom Menace"
          ],
          "px": 341.9153436505013,
          "py": 436.45553031626577,
          "shape": "circle",
          "shape_attrs": {
           "r": 15
          },
          "value": null,
          "weight": 36,
          "x": 341.9153436505013,
          "y": 436.45553031626577
         }
        },
        {
         "source": {
          "index": 5,
          "label": "Boba Fett",
          "label_display": "center",
          "media": [
           "The Empire Strikes Back",
           "Return of the Jedi",
           "Attack of the Clones"
          ],
          "px": 548.7318427086741,
          "py": 258.5726088512628,
          "shape": "circle",
          "shape_attrs": {
           "r": 15
          },
          "value": null,
          "weight": 24,
          "x": 548.7555362854636,
          "y": 258.5701813443357
         },
         "target": {
          "index": 5,
          "label": "Boba Fett",
          "label_display": "center",
          "media": [
           "The Empire Strikes Back",
           "Return of the Jedi",
           "Attack of the Clones"
          ],
          "px": 548.7318427086741,
          "py": 258.5726088512628,
          "shape": "circle",
          "shape_attrs": {
           "r": 15
          },
          "value": null,
          "weight": 24,
          "x": 548.7555362854636,
          "y": 258.5701813443357
         }
        },
        {
         "source": {
          "index": 5,
          "label": "Boba Fett",
          "label_display": "center",
          "media": [
           "The Empire Strikes Back",
           "Return of the Jedi",
           "Attack of the Clones"
          ],
          "px": 548.7318427086741,
          "py": 258.5726088512628,
          "shape": "circle",
          "shape_attrs": {
           "r": 15
          },
          "value": null,
          "weight": 24,
          "x": 548.7555362854636,
          "y": 258.5701813443357
         },
         "target": {
          "fixed": 0,
          "index": 4,
          "label": "Yoda",
          "label_display": "center",
          "media": [
           "The Empire Strikes Back",
           "Return of the Jedi",
           "The Phantom Menace",
           "Attack of the Clones",
           "Revenge of the Sith"
          ],
          "px": 196.99622753023823,
          "py": 244.76928638153402,
          "shape": "circle",
          "shape_attrs": {
           "r": 15
          },
          "value": null,
          "weight": 50,
          "x": 196.9833345800705,
          "y": 244.75049609466612
         }
        },
        {
         "source": {
          "index": 5,
          "label": "Boba Fett",
          "label_display": "center",
          "media": [
           "The Empire Strikes Back",
           "Return of the Jedi",
           "Attack of the Clones"
          ],
          "px": 548.7318427086741,
          "py": 258.5726088512628,
          "shape": "circle",
          "shape_attrs": {
           "r": 15
          },
          "value": null,
          "weight": 24,
          "x": 548.7555362854636,
          "y": 258.5701813443357
         },
         "target": {
          "index": 2,
          "label": "Obi-Wan Kenobi",
          "label_display": "center",
          "media": [
           "A New Hope",
           "The Empire Strikes Back",
           "Return of the Jedi",
           "The Phantom Menace",
           "Attack of the Clones",
           "Revenge of the Sith"
          ],
          "px": 499.3076255945535,
          "py": 363.84576740116586,
          "shape": "circle",
          "shape_attrs": {
           "r": 15
          },
          "value": null,
          "weight": 26,
          "x": 499.3198885586289,
          "y": 363.86925757119025
         }
        },
        {
         "source": {
          "fixed": 0,
          "index": 4,
          "label": "Yoda",
          "label_display": "center",
          "media": [
           "The Empire Strikes Back",
           "Return of the Jedi",
           "The Phantom Menace",
           "Attack of the Clones",
           "Revenge of the Sith"
          ],
          "px": 196.99622753023823,
          "py": 244.76928638153402,
          "shape": "circle",
          "shape_attrs": {
           "r": 15
          },
          "value": null,
          "weight": 50,
          "x": 196.9833345800705,
          "y": 244.75049609466612
         },
         "target": {
          "fixed": 0,
          "index": 3,
          "label": "Jabba Desilijic Tiure",
          "label_display": "center",
          "media": [
           "A New Hope",
           "Return of the Jedi",
           "The Phantom Menace"
          ],
          "px": 341.9153436505013,
          "py": 436.45553031626577,
          "shape": "circle",
          "shape_attrs": {
           "r": 15
          },
          "value": null,
          "weight": 36,
          "x": 341.9153436505013,
          "y": 436.45553031626577
         }
        },
        {
         "source": {
          "fixed": 0,
          "index": 4,
          "label": "Yoda",
          "label_display": "center",
          "media": [
           "The Empire Strikes Back",
           "Return of the Jedi",
           "The Phantom Menace",
           "Attack of the Clones",
           "Revenge of the Sith"
          ],
          "px": 196.99622753023823,
          "py": 244.76928638153402,
          "shape": "circle",
          "shape_attrs": {
           "r": 15
          },
          "value": null,
          "weight": 50,
          "x": 196.9833345800705,
          "y": 244.75049609466612
         },
         "target": {
          "index": 5,
          "label": "Boba Fett",
          "label_display": "center",
          "media": [
           "The Empire Strikes Back",
           "Return of the Jedi",
           "Attack of the Clones"
          ],
          "px": 548.7318427086741,
          "py": 258.5726088512628,
          "shape": "circle",
          "shape_attrs": {
           "r": 15
          },
          "value": null,
          "weight": 24,
          "x": 548.7555362854636,
          "y": 258.5701813443357
         }
        },
        {
         "source": {
          "fixed": 0,
          "index": 4,
          "label": "Yoda",
          "label_display": "center",
          "media": [
           "The Empire Strikes Back",
           "Return of the Jedi",
           "The Phantom Menace",
           "Attack of the Clones",
           "Revenge of the Sith"
          ],
          "px": 196.99622753023823,
          "py": 244.76928638153402,
          "shape": "circle",
          "shape_attrs": {
           "r": 15
          },
          "value": null,
          "weight": 50,
          "x": 196.9833345800705,
          "y": 244.75049609466612
         },
         "target": {
          "fixed": 0,
          "index": 4,
          "label": "Yoda",
          "label_display": "center",
          "media": [
           "The Empire Strikes Back",
           "Return of the Jedi",
           "The Phantom Menace",
           "Attack of the Clones",
           "Revenge of the Sith"
          ],
          "px": 196.99622753023823,
          "py": 244.76928638153402,
          "shape": "circle",
          "shape_attrs": {
           "r": 15
          },
          "value": null,
          "weight": 50,
          "x": 196.9833345800705,
          "y": 244.75049609466612
         }
        },
        {
         "source": {
          "fixed": 0,
          "index": 4,
          "label": "Yoda",
          "label_display": "center",
          "media": [
           "The Empire Strikes Back",
           "Return of the Jedi",
           "The Phantom Menace",
           "Attack of the Clones",
           "Revenge of the Sith"
          ],
          "px": 196.99622753023823,
          "py": 244.76928638153402,
          "shape": "circle",
          "shape_attrs": {
           "r": 15
          },
          "value": null,
          "weight": 50,
          "x": 196.9833345800705,
          "y": 244.75049609466612
         },
         "target": {
          "index": 2,
          "label": "Obi-Wan Kenobi",
          "label_display": "center",
          "media": [
           "A New Hope",
           "The Empire Strikes Back",
           "Return of the Jedi",
           "The Phantom Menace",
           "Attack of the Clones",
           "Revenge of the Sith"
          ],
          "px": 499.3076255945535,
          "py": 363.84576740116586,
          "shape": "circle",
          "shape_attrs": {
           "r": 15
          },
          "value": null,
          "weight": 26,
          "x": 499.3198885586289,
          "y": 363.86925757119025
         }
        },
        {
         "source": {
          "index": 2,
          "label": "Obi-Wan Kenobi",
          "label_display": "center",
          "media": [
           "A New Hope",
           "The Empire Strikes Back",
           "Return of the Jedi",
           "The Phantom Menace",
           "Attack of the Clones",
           "Revenge of the Sith"
          ],
          "px": 499.3076255945535,
          "py": 363.84576740116586,
          "shape": "circle",
          "shape_attrs": {
           "r": 15
          },
          "value": null,
          "weight": 26,
          "x": 499.3198885586289,
          "y": 363.86925757119025
         },
         "target": {
          "fixed": 0,
          "index": 3,
          "label": "Jabba Desilijic Tiure",
          "label_display": "center",
          "media": [
           "A New Hope",
           "Return of the Jedi",
           "The Phantom Menace"
          ],
          "px": 341.9153436505013,
          "py": 436.45553031626577,
          "shape": "circle",
          "shape_attrs": {
           "r": 15
          },
          "value": null,
          "weight": 36,
          "x": 341.9153436505013,
          "y": 436.45553031626577
         }
        },
        {
         "source": {
          "index": 2,
          "label": "Obi-Wan Kenobi",
          "label_display": "center",
          "media": [
           "A New Hope",
           "The Empire Strikes Back",
           "Return of the Jedi",
           "The Phantom Menace",
           "Attack of the Clones",
           "Revenge of the Sith"
          ],
          "px": 499.3076255945535,
          "py": 363.84576740116586,
          "shape": "circle",
          "shape_attrs": {
           "r": 15
          },
          "value": null,
          "weight": 26,
          "x": 499.3198885586289,
          "y": 363.86925757119025
         },
         "target": {
          "index": 5,
          "label": "Boba Fett",
          "label_display": "center",
          "media": [
           "The Empire Strikes Back",
           "Return of the Jedi",
           "Attack of the Clones"
          ],
          "px": 548.7318427086741,
          "py": 258.5726088512628,
          "shape": "circle",
          "shape_attrs": {
           "r": 15
          },
          "value": null,
          "weight": 24,
          "x": 548.7555362854636,
          "y": 258.5701813443357
         }
        },
        {
         "source": {
          "index": 2,
          "label": "Obi-Wan Kenobi",
          "label_display": "center",
          "media": [
           "A New Hope",
           "The Empire Strikes Back",
           "Return of the Jedi",
           "The Phantom Menace",
           "Attack of the Clones",
           "Revenge of the Sith"
          ],
          "px": 499.3076255945535,
          "py": 363.84576740116586,
          "shape": "circle",
          "shape_attrs": {
           "r": 15
          },
          "value": null,
          "weight": 26,
          "x": 499.3198885586289,
          "y": 363.86925757119025
         },
         "target": {
          "fixed": 0,
          "index": 4,
          "label": "Yoda",
          "label_display": "center",
          "media": [
           "The Empire Strikes Back",
           "Return of the Jedi",
           "The Phantom Menace",
           "Attack of the Clones",
           "Revenge of the Sith"
          ],
          "px": 196.99622753023823,
          "py": 244.76928638153402,
          "shape": "circle",
          "shape_attrs": {
           "r": 15
          },
          "value": null,
          "weight": 50,
          "x": 196.9833345800705,
          "y": 244.75049609466612
         }
        },
        {
         "source": {
          "index": 2,
          "label": "Obi-Wan Kenobi",
          "label_display": "center",
          "media": [
           "A New Hope",
           "The Empire Strikes Back",
           "Return of the Jedi",
           "The Phantom Menace",
           "Attack of the Clones",
           "Revenge of the Sith"
          ],
          "px": 499.3076255945535,
          "py": 363.84576740116586,
          "shape": "circle",
          "shape_attrs": {
           "r": 15
          },
          "value": null,
          "weight": 26,
          "x": 499.3198885586289,
          "y": 363.86925757119025
         },
         "target": {
          "index": 2,
          "label": "Obi-Wan Kenobi",
          "label_display": "center",
          "media": [
           "A New Hope",
           "The Empire Strikes Back",
           "Return of the Jedi",
           "The Phantom Menace",
           "Attack of the Clones",
           "Revenge of the Sith"
          ],
          "px": 499.3076255945535,
          "py": 363.84576740116586,
          "shape": "circle",
          "shape_attrs": {
           "r": 15
          },
          "value": null,
          "weight": 26,
          "x": 499.3198885586289,
          "y": 363.86925757119025
         }
        },
        {
         "source": {
          "fixed": 0,
          "index": 3,
          "label": "Jabba Desilijic Tiure",
          "label_display": "center",
          "media": [
           "A New Hope",
           "Return of the Jedi",
           "The Phantom Menace"
          ],
          "px": 341.9153436505013,
          "py": 436.45553031626577,
          "shape": "circle",
          "shape_attrs": {
           "r": 15
          },
          "value": null,
          "weight": 36,
          "x": 341.9153436505013,
          "y": 436.45553031626577
         },
         "target": {
          "fixed": 0,
          "index": 3,
          "label": "Jabba Desilijic Tiure",
          "label_display": "center",
          "media": [
           "A New Hope",
           "Return of the Jedi",
           "The Phantom Menace"
          ],
          "px": 341.9153436505013,
          "py": 436.45553031626577,
          "shape": "circle",
          "shape_attrs": {
           "r": 15
          },
          "value": null,
          "weight": 36,
          "x": 341.9153436505013,
          "y": 436.45553031626577
         }
        },
        {
         "source": {
          "fixed": 0,
          "index": 3,
          "label": "Jabba Desilijic Tiure",
          "label_display": "center",
          "media": [
           "A New Hope",
           "Return of the Jedi",
           "The Phantom Menace"
          ],
          "px": 341.9153436505013,
          "py": 436.45553031626577,
          "shape": "circle",
          "shape_attrs": {
           "r": 15
          },
          "value": null,
          "weight": 36,
          "x": 341.9153436505013,
          "y": 436.45553031626577
         },
         "target": {
          "fixed": 0,
          "index": 4,
          "label": "Yoda",
          "label_display": "center",
          "media": [
           "The Empire Strikes Back",
           "Return of the Jedi",
           "The Phantom Menace",
           "Attack of the Clones",
           "Revenge of the Sith"
          ],
          "px": 196.99622753023823,
          "py": 244.76928638153402,
          "shape": "circle",
          "shape_attrs": {
           "r": 15
          },
          "value": null,
          "weight": 50,
          "x": 196.9833345800705,
          "y": 244.75049609466612
         }
        },
        {
         "source": {
          "fixed": 0,
          "index": 3,
          "label": "Jabba Desilijic Tiure",
          "label_display": "center",
          "media": [
           "A New Hope",
           "Return of the Jedi",
           "The Phantom Menace"
          ],
          "px": 341.9153436505013,
          "py": 436.45553031626577,
          "shape": "circle",
          "shape_attrs": {
           "r": 15
          },
          "value": null,
          "weight": 36,
          "x": 341.9153436505013,
          "y": 436.45553031626577
         },
         "target": {
          "index": 1,
          "label": "Beru Whitesun lars",
          "label_display": "center",
          "media": [
           "A New Hope",
           "Attack of the Clones",
           "Revenge of the Sith"
          ],
          "px": 458.4791232792439,
          "py": 107.1414946604498,
          "shape": "circle",
          "shape_attrs": {
           "r": 15
          },
          "value": null,
          "weight": 42,
          "x": 458.49891703911413,
          "y": 107.12797987469476
         }
        },
        {
         "source": {
          "fixed": 0,
          "index": 3,
          "label": "Jabba Desilijic Tiure",
          "label_display": "center",
          "media": [
           "A New Hope",
           "Return of the Jedi",
           "The Phantom Menace"
          ],
          "px": 341.9153436505013,
          "py": 436.45553031626577,
          "shape": "circle",
          "shape_attrs": {
           "r": 15
          },
          "value": null,
          "weight": 36,
          "x": 341.9153436505013,
          "y": 436.45553031626577
         },
         "target": {
          "fixed": 0,
          "index": 0,
          "label": "Darth Vader",
          "label_display": "center",
          "media": [
           "A New Hope",
           "The Empire Strikes Back",
           "Return of the Jedi",
           "Revenge of the Sith"
          ],
          "px": 244.966469917845,
          "py": 38.380341109304666,
          "shape": "circle",
          "shape_attrs": {
           "r": 15
          },
          "value": null,
          "weight": 28,
          "x": 244.96895629090588,
          "y": 38.35379432594209
         }
        },
        {
         "source": {
          "fixed": 0,
          "index": 4,
          "label": "Yoda",
          "label_display": "center",
          "media": [
           "The Empire Strikes Back",
           "Return of the Jedi",
           "The Phantom Menace",
           "Attack of the Clones",
           "Revenge of the Sith"
          ],
          "px": 196.99622753023823,
          "py": 244.76928638153402,
          "shape": "circle",
          "shape_attrs": {
           "r": 15
          },
          "value": null,
          "weight": 50,
          "x": 196.9833345800705,
          "y": 244.75049609466612
         },
         "target": {
          "fixed": 0,
          "index": 3,
          "label": "Jabba Desilijic Tiure",
          "label_display": "center",
          "media": [
           "A New Hope",
           "Return of the Jedi",
           "The Phantom Menace"
          ],
          "px": 341.9153436505013,
          "py": 436.45553031626577,
          "shape": "circle",
          "shape_attrs": {
           "r": 15
          },
          "value": null,
          "weight": 36,
          "x": 341.9153436505013,
          "y": 436.45553031626577
         }
        },
        {
         "source": {
          "fixed": 0,
          "index": 4,
          "label": "Yoda",
          "label_display": "center",
          "media": [
           "The Empire Strikes Back",
           "Return of the Jedi",
           "The Phantom Menace",
           "Attack of the Clones",
           "Revenge of the Sith"
          ],
          "px": 196.99622753023823,
          "py": 244.76928638153402,
          "shape": "circle",
          "shape_attrs": {
           "r": 15
          },
          "value": null,
          "weight": 50,
          "x": 196.9833345800705,
          "y": 244.75049609466612
         },
         "target": {
          "fixed": 0,
          "index": 4,
          "label": "Yoda",
          "label_display": "center",
          "media": [
           "The Empire Strikes Back",
           "Return of the Jedi",
           "The Phantom Menace",
           "Attack of the Clones",
           "Revenge of the Sith"
          ],
          "px": 196.99622753023823,
          "py": 244.76928638153402,
          "shape": "circle",
          "shape_attrs": {
           "r": 15
          },
          "value": null,
          "weight": 50,
          "x": 196.9833345800705,
          "y": 244.75049609466612
         }
        },
        {
         "source": {
          "fixed": 0,
          "index": 4,
          "label": "Yoda",
          "label_display": "center",
          "media": [
           "The Empire Strikes Back",
           "Return of the Jedi",
           "The Phantom Menace",
           "Attack of the Clones",
           "Revenge of the Sith"
          ],
          "px": 196.99622753023823,
          "py": 244.76928638153402,
          "shape": "circle",
          "shape_attrs": {
           "r": 15
          },
          "value": null,
          "weight": 50,
          "x": 196.9833345800705,
          "y": 244.75049609466612
         },
         "target": {
          "index": 1,
          "label": "Beru Whitesun lars",
          "label_display": "center",
          "media": [
           "A New Hope",
           "Attack of the Clones",
           "Revenge of the Sith"
          ],
          "px": 458.4791232792439,
          "py": 107.1414946604498,
          "shape": "circle",
          "shape_attrs": {
           "r": 15
          },
          "value": null,
          "weight": 42,
          "x": 458.49891703911413,
          "y": 107.12797987469476
         }
        },
        {
         "source": {
          "fixed": 0,
          "index": 4,
          "label": "Yoda",
          "label_display": "center",
          "media": [
           "The Empire Strikes Back",
           "Return of the Jedi",
           "The Phantom Menace",
           "Attack of the Clones",
           "Revenge of the Sith"
          ],
          "px": 196.99622753023823,
          "py": 244.76928638153402,
          "shape": "circle",
          "shape_attrs": {
           "r": 15
          },
          "value": null,
          "weight": 50,
          "x": 196.9833345800705,
          "y": 244.75049609466612
         },
         "target": {
          "fixed": 0,
          "index": 0,
          "label": "Darth Vader",
          "label_display": "center",
          "media": [
           "A New Hope",
           "The Empire Strikes Back",
           "Return of the Jedi",
           "Revenge of the Sith"
          ],
          "px": 244.966469917845,
          "py": 38.380341109304666,
          "shape": "circle",
          "shape_attrs": {
           "r": 15
          },
          "value": null,
          "weight": 28,
          "x": 244.96895629090588,
          "y": 38.35379432594209
         }
        },
        {
         "source": {
          "index": 1,
          "label": "Beru Whitesun lars",
          "label_display": "center",
          "media": [
           "A New Hope",
           "Attack of the Clones",
           "Revenge of the Sith"
          ],
          "px": 458.4791232792439,
          "py": 107.1414946604498,
          "shape": "circle",
          "shape_attrs": {
           "r": 15
          },
          "value": null,
          "weight": 42,
          "x": 458.49891703911413,
          "y": 107.12797987469476
         },
         "target": {
          "fixed": 0,
          "index": 3,
          "label": "Jabba Desilijic Tiure",
          "label_display": "center",
          "media": [
           "A New Hope",
           "Return of the Jedi",
           "The Phantom Menace"
          ],
          "px": 341.9153436505013,
          "py": 436.45553031626577,
          "shape": "circle",
          "shape_attrs": {
           "r": 15
          },
          "value": null,
          "weight": 36,
          "x": 341.9153436505013,
          "y": 436.45553031626577
         }
        },
        {
         "source": {
          "index": 1,
          "label": "Beru Whitesun lars",
          "label_display": "center",
          "media": [
           "A New Hope",
           "Attack of the Clones",
           "Revenge of the Sith"
          ],
          "px": 458.4791232792439,
          "py": 107.1414946604498,
          "shape": "circle",
          "shape_attrs": {
           "r": 15
          },
          "value": null,
          "weight": 42,
          "x": 458.49891703911413,
          "y": 107.12797987469476
         },
         "target": {
          "fixed": 0,
          "index": 4,
          "label": "Yoda",
          "label_display": "center",
          "media": [
           "The Empire Strikes Back",
           "Return of the Jedi",
           "The Phantom Menace",
           "Attack of the Clones",
           "Revenge of the Sith"
          ],
          "px": 196.99622753023823,
          "py": 244.76928638153402,
          "shape": "circle",
          "shape_attrs": {
           "r": 15
          },
          "value": null,
          "weight": 50,
          "x": 196.9833345800705,
          "y": 244.75049609466612
         }
        },
        {
         "source": {
          "index": 1,
          "label": "Beru Whitesun lars",
          "label_display": "center",
          "media": [
           "A New Hope",
           "Attack of the Clones",
           "Revenge of the Sith"
          ],
          "px": 458.4791232792439,
          "py": 107.1414946604498,
          "shape": "circle",
          "shape_attrs": {
           "r": 15
          },
          "value": null,
          "weight": 42,
          "x": 458.49891703911413,
          "y": 107.12797987469476
         },
         "target": {
          "index": 1,
          "label": "Beru Whitesun lars",
          "label_display": "center",
          "media": [
           "A New Hope",
           "Attack of the Clones",
           "Revenge of the Sith"
          ],
          "px": 458.4791232792439,
          "py": 107.1414946604498,
          "shape": "circle",
          "shape_attrs": {
           "r": 15
          },
          "value": null,
          "weight": 42,
          "x": 458.49891703911413,
          "y": 107.12797987469476
         }
        },
        {
         "source": {
          "index": 1,
          "label": "Beru Whitesun lars",
          "label_display": "center",
          "media": [
           "A New Hope",
           "Attack of the Clones",
           "Revenge of the Sith"
          ],
          "px": 458.4791232792439,
          "py": 107.1414946604498,
          "shape": "circle",
          "shape_attrs": {
           "r": 15
          },
          "value": null,
          "weight": 42,
          "x": 458.49891703911413,
          "y": 107.12797987469476
         },
         "target": {
          "fixed": 0,
          "index": 0,
          "label": "Darth Vader",
          "label_display": "center",
          "media": [
           "A New Hope",
           "The Empire Strikes Back",
           "Return of the Jedi",
           "Revenge of the Sith"
          ],
          "px": 244.966469917845,
          "py": 38.380341109304666,
          "shape": "circle",
          "shape_attrs": {
           "r": 15
          },
          "value": null,
          "weight": 28,
          "x": 244.96895629090588,
          "y": 38.35379432594209
         }
        },
        {
         "source": {
          "fixed": 0,
          "index": 0,
          "label": "Darth Vader",
          "label_display": "center",
          "media": [
           "A New Hope",
           "The Empire Strikes Back",
           "Return of the Jedi",
           "Revenge of the Sith"
          ],
          "px": 244.966469917845,
          "py": 38.380341109304666,
          "shape": "circle",
          "shape_attrs": {
           "r": 15
          },
          "value": null,
          "weight": 28,
          "x": 244.96895629090588,
          "y": 38.35379432594209
         },
         "target": {
          "fixed": 0,
          "index": 3,
          "label": "Jabba Desilijic Tiure",
          "label_display": "center",
          "media": [
           "A New Hope",
           "Return of the Jedi",
           "The Phantom Menace"
          ],
          "px": 341.9153436505013,
          "py": 436.45553031626577,
          "shape": "circle",
          "shape_attrs": {
           "r": 15
          },
          "value": null,
          "weight": 36,
          "x": 341.9153436505013,
          "y": 436.45553031626577
         }
        },
        {
         "source": {
          "fixed": 0,
          "index": 0,
          "label": "Darth Vader",
          "label_display": "center",
          "media": [
           "A New Hope",
           "The Empire Strikes Back",
           "Return of the Jedi",
           "Revenge of the Sith"
          ],
          "px": 244.966469917845,
          "py": 38.380341109304666,
          "shape": "circle",
          "shape_attrs": {
           "r": 15
          },
          "value": null,
          "weight": 28,
          "x": 244.96895629090588,
          "y": 38.35379432594209
         },
         "target": {
          "fixed": 0,
          "index": 4,
          "label": "Yoda",
          "label_display": "center",
          "media": [
           "The Empire Strikes Back",
           "Return of the Jedi",
           "The Phantom Menace",
           "Attack of the Clones",
           "Revenge of the Sith"
          ],
          "px": 196.99622753023823,
          "py": 244.76928638153402,
          "shape": "circle",
          "shape_attrs": {
           "r": 15
          },
          "value": null,
          "weight": 50,
          "x": 196.9833345800705,
          "y": 244.75049609466612
         }
        },
        {
         "source": {
          "fixed": 0,
          "index": 0,
          "label": "Darth Vader",
          "label_display": "center",
          "media": [
           "A New Hope",
           "The Empire Strikes Back",
           "Return of the Jedi",
           "Revenge of the Sith"
          ],
          "px": 244.966469917845,
          "py": 38.380341109304666,
          "shape": "circle",
          "shape_attrs": {
           "r": 15
          },
          "value": null,
          "weight": 28,
          "x": 244.96895629090588,
          "y": 38.35379432594209
         },
         "target": {
          "index": 1,
          "label": "Beru Whitesun lars",
          "label_display": "center",
          "media": [
           "A New Hope",
           "Attack of the Clones",
           "Revenge of the Sith"
          ],
          "px": 458.4791232792439,
          "py": 107.1414946604498,
          "shape": "circle",
          "shape_attrs": {
           "r": 15
          },
          "value": null,
          "weight": 42,
          "x": 458.49891703911413,
          "y": 107.12797987469476
         }
        },
        {
         "source": {
          "fixed": 0,
          "index": 0,
          "label": "Darth Vader",
          "label_display": "center",
          "media": [
           "A New Hope",
           "The Empire Strikes Back",
           "Return of the Jedi",
           "Revenge of the Sith"
          ],
          "px": 244.966469917845,
          "py": 38.380341109304666,
          "shape": "circle",
          "shape_attrs": {
           "r": 15
          },
          "value": null,
          "weight": 28,
          "x": 244.96895629090588,
          "y": 38.35379432594209
         },
         "target": {
          "fixed": 0,
          "index": 0,
          "label": "Darth Vader",
          "label_display": "center",
          "media": [
           "A New Hope",
           "The Empire Strikes Back",
           "Return of the Jedi",
           "Revenge of the Sith"
          ],
          "px": 244.966469917845,
          "py": 38.380341109304666,
          "shape": "circle",
          "shape_attrs": {
           "r": 15
          },
          "value": null,
          "weight": 28,
          "x": 244.96895629090588,
          "y": 38.35379432594209
         }
        },
        {
         "source": {
          "fixed": 0,
          "index": 3,
          "label": "Jabba Desilijic Tiure",
          "label_display": "center",
          "media": [
           "A New Hope",
           "Return of the Jedi",
           "The Phantom Menace"
          ],
          "px": 341.9153436505013,
          "py": 436.45553031626577,
          "shape": "circle",
          "shape_attrs": {
           "r": 15
          },
          "value": null,
          "weight": 36,
          "x": 341.9153436505013,
          "y": 436.45553031626577
         },
         "target": {
          "fixed": 0,
          "index": 3,
          "label": "Jabba Desilijic Tiure",
          "label_display": "center",
          "media": [
           "A New Hope",
           "Return of the Jedi",
           "The Phantom Menace"
          ],
          "px": 341.9153436505013,
          "py": 436.45553031626577,
          "shape": "circle",
          "shape_attrs": {
           "r": 15
          },
          "value": null,
          "weight": 36,
          "x": 341.9153436505013,
          "y": 436.45553031626577
         }
        },
        {
         "source": {
          "fixed": 0,
          "index": 3,
          "label": "Jabba Desilijic Tiure",
          "label_display": "center",
          "media": [
           "A New Hope",
           "Return of the Jedi",
           "The Phantom Menace"
          ],
          "px": 341.9153436505013,
          "py": 436.45553031626577,
          "shape": "circle",
          "shape_attrs": {
           "r": 15
          },
          "value": null,
          "weight": 36,
          "x": 341.9153436505013,
          "y": 436.45553031626577
         },
         "target": {
          "fixed": 0,
          "index": 4,
          "label": "Yoda",
          "label_display": "center",
          "media": [
           "The Empire Strikes Back",
           "Return of the Jedi",
           "The Phantom Menace",
           "Attack of the Clones",
           "Revenge of the Sith"
          ],
          "px": 196.99622753023823,
          "py": 244.76928638153402,
          "shape": "circle",
          "shape_attrs": {
           "r": 15
          },
          "value": null,
          "weight": 50,
          "x": 196.9833345800705,
          "y": 244.75049609466612
         }
        },
        {
         "source": {
          "fixed": 0,
          "index": 3,
          "label": "Jabba Desilijic Tiure",
          "label_display": "center",
          "media": [
           "A New Hope",
           "Return of the Jedi",
           "The Phantom Menace"
          ],
          "px": 341.9153436505013,
          "py": 436.45553031626577,
          "shape": "circle",
          "shape_attrs": {
           "r": 15
          },
          "value": null,
          "weight": 36,
          "x": 341.9153436505013,
          "y": 436.45553031626577
         },
         "target": {
          "index": 2,
          "label": "Obi-Wan Kenobi",
          "label_display": "center",
          "media": [
           "A New Hope",
           "The Empire Strikes Back",
           "Return of the Jedi",
           "The Phantom Menace",
           "Attack of the Clones",
           "Revenge of the Sith"
          ],
          "px": 499.3076255945535,
          "py": 363.84576740116586,
          "shape": "circle",
          "shape_attrs": {
           "r": 15
          },
          "value": null,
          "weight": 26,
          "x": 499.3198885586289,
          "y": 363.86925757119025
         }
        },
        {
         "source": {
          "fixed": 0,
          "index": 3,
          "label": "Jabba Desilijic Tiure",
          "label_display": "center",
          "media": [
           "A New Hope",
           "Return of the Jedi",
           "The Phantom Menace"
          ],
          "px": 341.9153436505013,
          "py": 436.45553031626577,
          "shape": "circle",
          "shape_attrs": {
           "r": 15
          },
          "value": null,
          "weight": 36,
          "x": 341.9153436505013,
          "y": 436.45553031626577
         },
         "target": {
          "index": 1,
          "label": "Beru Whitesun lars",
          "label_display": "center",
          "media": [
           "A New Hope",
           "Attack of the Clones",
           "Revenge of the Sith"
          ],
          "px": 458.4791232792439,
          "py": 107.1414946604498,
          "shape": "circle",
          "shape_attrs": {
           "r": 15
          },
          "value": null,
          "weight": 42,
          "x": 458.49891703911413,
          "y": 107.12797987469476
         }
        },
        {
         "source": {
          "fixed": 0,
          "index": 3,
          "label": "Jabba Desilijic Tiure",
          "label_display": "center",
          "media": [
           "A New Hope",
           "Return of the Jedi",
           "The Phantom Menace"
          ],
          "px": 341.9153436505013,
          "py": 436.45553031626577,
          "shape": "circle",
          "shape_attrs": {
           "r": 15
          },
          "value": null,
          "weight": 36,
          "x": 341.9153436505013,
          "y": 436.45553031626577
         },
         "target": {
          "fixed": 0,
          "index": 0,
          "label": "Darth Vader",
          "label_display": "center",
          "media": [
           "A New Hope",
           "The Empire Strikes Back",
           "Return of the Jedi",
           "Revenge of the Sith"
          ],
          "px": 244.966469917845,
          "py": 38.380341109304666,
          "shape": "circle",
          "shape_attrs": {
           "r": 15
          },
          "value": null,
          "weight": 28,
          "x": 244.96895629090588,
          "y": 38.35379432594209
         }
        },
        {
         "source": {
          "fixed": 0,
          "index": 3,
          "label": "Jabba Desilijic Tiure",
          "label_display": "center",
          "media": [
           "A New Hope",
           "Return of the Jedi",
           "The Phantom Menace"
          ],
          "px": 341.9153436505013,
          "py": 436.45553031626577,
          "shape": "circle",
          "shape_attrs": {
           "r": 15
          },
          "value": null,
          "weight": 36,
          "x": 341.9153436505013,
          "y": 436.45553031626577
         },
         "target": {
          "fixed": 0,
          "index": 6,
          "label": "Mon Mothma",
          "label_display": "center",
          "media": [
           "Return of the Jedi"
          ],
          "px": 153.28828881606876,
          "py": 379.46179525973514,
          "shape": "circle",
          "shape_attrs": {
           "r": 15
          },
          "value": null,
          "weight": 12,
          "x": 153.28828881606876,
          "y": 379.46179525973514
         }
        },
        {
         "source": {
          "fixed": 0,
          "index": 4,
          "label": "Yoda",
          "label_display": "center",
          "media": [
           "The Empire Strikes Back",
           "Return of the Jedi",
           "The Phantom Menace",
           "Attack of the Clones",
           "Revenge of the Sith"
          ],
          "px": 196.99622753023823,
          "py": 244.76928638153402,
          "shape": "circle",
          "shape_attrs": {
           "r": 15
          },
          "value": null,
          "weight": 50,
          "x": 196.9833345800705,
          "y": 244.75049609466612
         },
         "target": {
          "fixed": 0,
          "index": 3,
          "label": "Jabba Desilijic Tiure",
          "label_display": "center",
          "media": [
           "A New Hope",
           "Return of the Jedi",
           "The Phantom Menace"
          ],
          "px": 341.9153436505013,
          "py": 436.45553031626577,
          "shape": "circle",
          "shape_attrs": {
           "r": 15
          },
          "value": null,
          "weight": 36,
          "x": 341.9153436505013,
          "y": 436.45553031626577
         }
        },
        {
         "source": {
          "fixed": 0,
          "index": 4,
          "label": "Yoda",
          "label_display": "center",
          "media": [
           "The Empire Strikes Back",
           "Return of the Jedi",
           "The Phantom Menace",
           "Attack of the Clones",
           "Revenge of the Sith"
          ],
          "px": 196.99622753023823,
          "py": 244.76928638153402,
          "shape": "circle",
          "shape_attrs": {
           "r": 15
          },
          "value": null,
          "weight": 50,
          "x": 196.9833345800705,
          "y": 244.75049609466612
         },
         "target": {
          "fixed": 0,
          "index": 4,
          "label": "Yoda",
          "label_display": "center",
          "media": [
           "The Empire Strikes Back",
           "Return of the Jedi",
           "The Phantom Menace",
           "Attack of the Clones",
           "Revenge of the Sith"
          ],
          "px": 196.99622753023823,
          "py": 244.76928638153402,
          "shape": "circle",
          "shape_attrs": {
           "r": 15
          },
          "value": null,
          "weight": 50,
          "x": 196.9833345800705,
          "y": 244.75049609466612
         }
        },
        {
         "source": {
          "fixed": 0,
          "index": 4,
          "label": "Yoda",
          "label_display": "center",
          "media": [
           "The Empire Strikes Back",
           "Return of the Jedi",
           "The Phantom Menace",
           "Attack of the Clones",
           "Revenge of the Sith"
          ],
          "px": 196.99622753023823,
          "py": 244.76928638153402,
          "shape": "circle",
          "shape_attrs": {
           "r": 15
          },
          "value": null,
          "weight": 50,
          "x": 196.9833345800705,
          "y": 244.75049609466612
         },
         "target": {
          "index": 2,
          "label": "Obi-Wan Kenobi",
          "label_display": "center",
          "media": [
           "A New Hope",
           "The Empire Strikes Back",
           "Return of the Jedi",
           "The Phantom Menace",
           "Attack of the Clones",
           "Revenge of the Sith"
          ],
          "px": 499.3076255945535,
          "py": 363.84576740116586,
          "shape": "circle",
          "shape_attrs": {
           "r": 15
          },
          "value": null,
          "weight": 26,
          "x": 499.3198885586289,
          "y": 363.86925757119025
         }
        },
        {
         "source": {
          "fixed": 0,
          "index": 4,
          "label": "Yoda",
          "label_display": "center",
          "media": [
           "The Empire Strikes Back",
           "Return of the Jedi",
           "The Phantom Menace",
           "Attack of the Clones",
           "Revenge of the Sith"
          ],
          "px": 196.99622753023823,
          "py": 244.76928638153402,
          "shape": "circle",
          "shape_attrs": {
           "r": 15
          },
          "value": null,
          "weight": 50,
          "x": 196.9833345800705,
          "y": 244.75049609466612
         },
         "target": {
          "index": 1,
          "label": "Beru Whitesun lars",
          "label_display": "center",
          "media": [
           "A New Hope",
           "Attack of the Clones",
           "Revenge of the Sith"
          ],
          "px": 458.4791232792439,
          "py": 107.1414946604498,
          "shape": "circle",
          "shape_attrs": {
           "r": 15
          },
          "value": null,
          "weight": 42,
          "x": 458.49891703911413,
          "y": 107.12797987469476
         }
        },
        {
         "source": {
          "fixed": 0,
          "index": 4,
          "label": "Yoda",
          "label_display": "center",
          "media": [
           "The Empire Strikes Back",
           "Return of the Jedi",
           "The Phantom Menace",
           "Attack of the Clones",
           "Revenge of the Sith"
          ],
          "px": 196.99622753023823,
          "py": 244.76928638153402,
          "shape": "circle",
          "shape_attrs": {
           "r": 15
          },
          "value": null,
          "weight": 50,
          "x": 196.9833345800705,
          "y": 244.75049609466612
         },
         "target": {
          "fixed": 0,
          "index": 0,
          "label": "Darth Vader",
          "label_display": "center",
          "media": [
           "A New Hope",
           "The Empire Strikes Back",
           "Return of the Jedi",
           "Revenge of the Sith"
          ],
          "px": 244.966469917845,
          "py": 38.380341109304666,
          "shape": "circle",
          "shape_attrs": {
           "r": 15
          },
          "value": null,
          "weight": 28,
          "x": 244.96895629090588,
          "y": 38.35379432594209
         }
        },
        {
         "source": {
          "fixed": 0,
          "index": 4,
          "label": "Yoda",
          "label_display": "center",
          "media": [
           "The Empire Strikes Back",
           "Return of the Jedi",
           "The Phantom Menace",
           "Attack of the Clones",
           "Revenge of the Sith"
          ],
          "px": 196.99622753023823,
          "py": 244.76928638153402,
          "shape": "circle",
          "shape_attrs": {
           "r": 15
          },
          "value": null,
          "weight": 50,
          "x": 196.9833345800705,
          "y": 244.75049609466612
         },
         "target": {
          "fixed": 0,
          "index": 6,
          "label": "Mon Mothma",
          "label_display": "center",
          "media": [
           "Return of the Jedi"
          ],
          "px": 153.28828881606876,
          "py": 379.46179525973514,
          "shape": "circle",
          "shape_attrs": {
           "r": 15
          },
          "value": null,
          "weight": 12,
          "x": 153.28828881606876,
          "y": 379.46179525973514
         }
        },
        {
         "source": {
          "index": 2,
          "label": "Obi-Wan Kenobi",
          "label_display": "center",
          "media": [
           "A New Hope",
           "The Empire Strikes Back",
           "Return of the Jedi",
           "The Phantom Menace",
           "Attack of the Clones",
           "Revenge of the Sith"
          ],
          "px": 499.3076255945535,
          "py": 363.84576740116586,
          "shape": "circle",
          "shape_attrs": {
           "r": 15
          },
          "value": null,
          "weight": 26,
          "x": 499.3198885586289,
          "y": 363.86925757119025
         },
         "target": {
          "fixed": 0,
          "index": 3,
          "label": "Jabba Desilijic Tiure",
          "label_display": "center",
          "media": [
           "A New Hope",
           "Return of the Jedi",
           "The Phantom Menace"
          ],
          "px": 341.9153436505013,
          "py": 436.45553031626577,
          "shape": "circle",
          "shape_attrs": {
           "r": 15
          },
          "value": null,
          "weight": 36,
          "x": 341.9153436505013,
          "y": 436.45553031626577
         }
        },
        {
         "source": {
          "index": 2,
          "label": "Obi-Wan Kenobi",
          "label_display": "center",
          "media": [
           "A New Hope",
           "The Empire Strikes Back",
           "Return of the Jedi",
           "The Phantom Menace",
           "Attack of the Clones",
           "Revenge of the Sith"
          ],
          "px": 499.3076255945535,
          "py": 363.84576740116586,
          "shape": "circle",
          "shape_attrs": {
           "r": 15
          },
          "value": null,
          "weight": 26,
          "x": 499.3198885586289,
          "y": 363.86925757119025
         },
         "target": {
          "fixed": 0,
          "index": 4,
          "label": "Yoda",
          "label_display": "center",
          "media": [
           "The Empire Strikes Back",
           "Return of the Jedi",
           "The Phantom Menace",
           "Attack of the Clones",
           "Revenge of the Sith"
          ],
          "px": 196.99622753023823,
          "py": 244.76928638153402,
          "shape": "circle",
          "shape_attrs": {
           "r": 15
          },
          "value": null,
          "weight": 50,
          "x": 196.9833345800705,
          "y": 244.75049609466612
         }
        },
        {
         "source": {
          "index": 2,
          "label": "Obi-Wan Kenobi",
          "label_display": "center",
          "media": [
           "A New Hope",
           "The Empire Strikes Back",
           "Return of the Jedi",
           "The Phantom Menace",
           "Attack of the Clones",
           "Revenge of the Sith"
          ],
          "px": 499.3076255945535,
          "py": 363.84576740116586,
          "shape": "circle",
          "shape_attrs": {
           "r": 15
          },
          "value": null,
          "weight": 26,
          "x": 499.3198885586289,
          "y": 363.86925757119025
         },
         "target": {
          "index": 2,
          "label": "Obi-Wan Kenobi",
          "label_display": "center",
          "media": [
           "A New Hope",
           "The Empire Strikes Back",
           "Return of the Jedi",
           "The Phantom Menace",
           "Attack of the Clones",
           "Revenge of the Sith"
          ],
          "px": 499.3076255945535,
          "py": 363.84576740116586,
          "shape": "circle",
          "shape_attrs": {
           "r": 15
          },
          "value": null,
          "weight": 26,
          "x": 499.3198885586289,
          "y": 363.86925757119025
         }
        },
        {
         "source": {
          "index": 2,
          "label": "Obi-Wan Kenobi",
          "label_display": "center",
          "media": [
           "A New Hope",
           "The Empire Strikes Back",
           "Return of the Jedi",
           "The Phantom Menace",
           "Attack of the Clones",
           "Revenge of the Sith"
          ],
          "px": 499.3076255945535,
          "py": 363.84576740116586,
          "shape": "circle",
          "shape_attrs": {
           "r": 15
          },
          "value": null,
          "weight": 26,
          "x": 499.3198885586289,
          "y": 363.86925757119025
         },
         "target": {
          "index": 1,
          "label": "Beru Whitesun lars",
          "label_display": "center",
          "media": [
           "A New Hope",
           "Attack of the Clones",
           "Revenge of the Sith"
          ],
          "px": 458.4791232792439,
          "py": 107.1414946604498,
          "shape": "circle",
          "shape_attrs": {
           "r": 15
          },
          "value": null,
          "weight": 42,
          "x": 458.49891703911413,
          "y": 107.12797987469476
         }
        },
        {
         "source": {
          "index": 2,
          "label": "Obi-Wan Kenobi",
          "label_display": "center",
          "media": [
           "A New Hope",
           "The Empire Strikes Back",
           "Return of the Jedi",
           "The Phantom Menace",
           "Attack of the Clones",
           "Revenge of the Sith"
          ],
          "px": 499.3076255945535,
          "py": 363.84576740116586,
          "shape": "circle",
          "shape_attrs": {
           "r": 15
          },
          "value": null,
          "weight": 26,
          "x": 499.3198885586289,
          "y": 363.86925757119025
         },
         "target": {
          "fixed": 0,
          "index": 0,
          "label": "Darth Vader",
          "label_display": "center",
          "media": [
           "A New Hope",
           "The Empire Strikes Back",
           "Return of the Jedi",
           "Revenge of the Sith"
          ],
          "px": 244.966469917845,
          "py": 38.380341109304666,
          "shape": "circle",
          "shape_attrs": {
           "r": 15
          },
          "value": null,
          "weight": 28,
          "x": 244.96895629090588,
          "y": 38.35379432594209
         }
        },
        {
         "source": {
          "index": 2,
          "label": "Obi-Wan Kenobi",
          "label_display": "center",
          "media": [
           "A New Hope",
           "The Empire Strikes Back",
           "Return of the Jedi",
           "The Phantom Menace",
           "Attack of the Clones",
           "Revenge of the Sith"
          ],
          "px": 499.3076255945535,
          "py": 363.84576740116586,
          "shape": "circle",
          "shape_attrs": {
           "r": 15
          },
          "value": null,
          "weight": 26,
          "x": 499.3198885586289,
          "y": 363.86925757119025
         },
         "target": {
          "fixed": 0,
          "index": 6,
          "label": "Mon Mothma",
          "label_display": "center",
          "media": [
           "Return of the Jedi"
          ],
          "px": 153.28828881606876,
          "py": 379.46179525973514,
          "shape": "circle",
          "shape_attrs": {
           "r": 15
          },
          "value": null,
          "weight": 12,
          "x": 153.28828881606876,
          "y": 379.46179525973514
         }
        },
        {
         "source": {
          "index": 1,
          "label": "Beru Whitesun lars",
          "label_display": "center",
          "media": [
           "A New Hope",
           "Attack of the Clones",
           "Revenge of the Sith"
          ],
          "px": 458.4791232792439,
          "py": 107.1414946604498,
          "shape": "circle",
          "shape_attrs": {
           "r": 15
          },
          "value": null,
          "weight": 42,
          "x": 458.49891703911413,
          "y": 107.12797987469476
         },
         "target": {
          "fixed": 0,
          "index": 3,
          "label": "Jabba Desilijic Tiure",
          "label_display": "center",
          "media": [
           "A New Hope",
           "Return of the Jedi",
           "The Phantom Menace"
          ],
          "px": 341.9153436505013,
          "py": 436.45553031626577,
          "shape": "circle",
          "shape_attrs": {
           "r": 15
          },
          "value": null,
          "weight": 36,
          "x": 341.9153436505013,
          "y": 436.45553031626577
         }
        },
        {
         "source": {
          "index": 1,
          "label": "Beru Whitesun lars",
          "label_display": "center",
          "media": [
           "A New Hope",
           "Attack of the Clones",
           "Revenge of the Sith"
          ],
          "px": 458.4791232792439,
          "py": 107.1414946604498,
          "shape": "circle",
          "shape_attrs": {
           "r": 15
          },
          "value": null,
          "weight": 42,
          "x": 458.49891703911413,
          "y": 107.12797987469476
         },
         "target": {
          "fixed": 0,
          "index": 4,
          "label": "Yoda",
          "label_display": "center",
          "media": [
           "The Empire Strikes Back",
           "Return of the Jedi",
           "The Phantom Menace",
           "Attack of the Clones",
           "Revenge of the Sith"
          ],
          "px": 196.99622753023823,
          "py": 244.76928638153402,
          "shape": "circle",
          "shape_attrs": {
           "r": 15
          },
          "value": null,
          "weight": 50,
          "x": 196.9833345800705,
          "y": 244.75049609466612
         }
        },
        {
         "source": {
          "index": 1,
          "label": "Beru Whitesun lars",
          "label_display": "center",
          "media": [
           "A New Hope",
           "Attack of the Clones",
           "Revenge of the Sith"
          ],
          "px": 458.4791232792439,
          "py": 107.1414946604498,
          "shape": "circle",
          "shape_attrs": {
           "r": 15
          },
          "value": null,
          "weight": 42,
          "x": 458.49891703911413,
          "y": 107.12797987469476
         },
         "target": {
          "index": 2,
          "label": "Obi-Wan Kenobi",
          "label_display": "center",
          "media": [
           "A New Hope",
           "The Empire Strikes Back",
           "Return of the Jedi",
           "The Phantom Menace",
           "Attack of the Clones",
           "Revenge of the Sith"
          ],
          "px": 499.3076255945535,
          "py": 363.84576740116586,
          "shape": "circle",
          "shape_attrs": {
           "r": 15
          },
          "value": null,
          "weight": 26,
          "x": 499.3198885586289,
          "y": 363.86925757119025
         }
        },
        {
         "source": {
          "index": 1,
          "label": "Beru Whitesun lars",
          "label_display": "center",
          "media": [
           "A New Hope",
           "Attack of the Clones",
           "Revenge of the Sith"
          ],
          "px": 458.4791232792439,
          "py": 107.1414946604498,
          "shape": "circle",
          "shape_attrs": {
           "r": 15
          },
          "value": null,
          "weight": 42,
          "x": 458.49891703911413,
          "y": 107.12797987469476
         },
         "target": {
          "index": 1,
          "label": "Beru Whitesun lars",
          "label_display": "center",
          "media": [
           "A New Hope",
           "Attack of the Clones",
           "Revenge of the Sith"
          ],
          "px": 458.4791232792439,
          "py": 107.1414946604498,
          "shape": "circle",
          "shape_attrs": {
           "r": 15
          },
          "value": null,
          "weight": 42,
          "x": 458.49891703911413,
          "y": 107.12797987469476
         }
        },
        {
         "source": {
          "index": 1,
          "label": "Beru Whitesun lars",
          "label_display": "center",
          "media": [
           "A New Hope",
           "Attack of the Clones",
           "Revenge of the Sith"
          ],
          "px": 458.4791232792439,
          "py": 107.1414946604498,
          "shape": "circle",
          "shape_attrs": {
           "r": 15
          },
          "value": null,
          "weight": 42,
          "x": 458.49891703911413,
          "y": 107.12797987469476
         },
         "target": {
          "fixed": 0,
          "index": 0,
          "label": "Darth Vader",
          "label_display": "center",
          "media": [
           "A New Hope",
           "The Empire Strikes Back",
           "Return of the Jedi",
           "Revenge of the Sith"
          ],
          "px": 244.966469917845,
          "py": 38.380341109304666,
          "shape": "circle",
          "shape_attrs": {
           "r": 15
          },
          "value": null,
          "weight": 28,
          "x": 244.96895629090588,
          "y": 38.35379432594209
         }
        },
        {
         "source": {
          "index": 1,
          "label": "Beru Whitesun lars",
          "label_display": "center",
          "media": [
           "A New Hope",
           "Attack of the Clones",
           "Revenge of the Sith"
          ],
          "px": 458.4791232792439,
          "py": 107.1414946604498,
          "shape": "circle",
          "shape_attrs": {
           "r": 15
          },
          "value": null,
          "weight": 42,
          "x": 458.49891703911413,
          "y": 107.12797987469476
         },
         "target": {
          "fixed": 0,
          "index": 6,
          "label": "Mon Mothma",
          "label_display": "center",
          "media": [
           "Return of the Jedi"
          ],
          "px": 153.28828881606876,
          "py": 379.46179525973514,
          "shape": "circle",
          "shape_attrs": {
           "r": 15
          },
          "value": null,
          "weight": 12,
          "x": 153.28828881606876,
          "y": 379.46179525973514
         }
        },
        {
         "source": {
          "fixed": 0,
          "index": 0,
          "label": "Darth Vader",
          "label_display": "center",
          "media": [
           "A New Hope",
           "The Empire Strikes Back",
           "Return of the Jedi",
           "Revenge of the Sith"
          ],
          "px": 244.966469917845,
          "py": 38.380341109304666,
          "shape": "circle",
          "shape_attrs": {
           "r": 15
          },
          "value": null,
          "weight": 28,
          "x": 244.96895629090588,
          "y": 38.35379432594209
         },
         "target": {
          "fixed": 0,
          "index": 3,
          "label": "Jabba Desilijic Tiure",
          "label_display": "center",
          "media": [
           "A New Hope",
           "Return of the Jedi",
           "The Phantom Menace"
          ],
          "px": 341.9153436505013,
          "py": 436.45553031626577,
          "shape": "circle",
          "shape_attrs": {
           "r": 15
          },
          "value": null,
          "weight": 36,
          "x": 341.9153436505013,
          "y": 436.45553031626577
         }
        },
        {
         "source": {
          "fixed": 0,
          "index": 0,
          "label": "Darth Vader",
          "label_display": "center",
          "media": [
           "A New Hope",
           "The Empire Strikes Back",
           "Return of the Jedi",
           "Revenge of the Sith"
          ],
          "px": 244.966469917845,
          "py": 38.380341109304666,
          "shape": "circle",
          "shape_attrs": {
           "r": 15
          },
          "value": null,
          "weight": 28,
          "x": 244.96895629090588,
          "y": 38.35379432594209
         },
         "target": {
          "fixed": 0,
          "index": 4,
          "label": "Yoda",
          "label_display": "center",
          "media": [
           "The Empire Strikes Back",
           "Return of the Jedi",
           "The Phantom Menace",
           "Attack of the Clones",
           "Revenge of the Sith"
          ],
          "px": 196.99622753023823,
          "py": 244.76928638153402,
          "shape": "circle",
          "shape_attrs": {
           "r": 15
          },
          "value": null,
          "weight": 50,
          "x": 196.9833345800705,
          "y": 244.75049609466612
         }
        },
        {
         "source": {
          "fixed": 0,
          "index": 0,
          "label": "Darth Vader",
          "label_display": "center",
          "media": [
           "A New Hope",
           "The Empire Strikes Back",
           "Return of the Jedi",
           "Revenge of the Sith"
          ],
          "px": 244.966469917845,
          "py": 38.380341109304666,
          "shape": "circle",
          "shape_attrs": {
           "r": 15
          },
          "value": null,
          "weight": 28,
          "x": 244.96895629090588,
          "y": 38.35379432594209
         },
         "target": {
          "index": 2,
          "label": "Obi-Wan Kenobi",
          "label_display": "center",
          "media": [
           "A New Hope",
           "The Empire Strikes Back",
           "Return of the Jedi",
           "The Phantom Menace",
           "Attack of the Clones",
           "Revenge of the Sith"
          ],
          "px": 499.3076255945535,
          "py": 363.84576740116586,
          "shape": "circle",
          "shape_attrs": {
           "r": 15
          },
          "value": null,
          "weight": 26,
          "x": 499.3198885586289,
          "y": 363.86925757119025
         }
        },
        {
         "source": {
          "fixed": 0,
          "index": 0,
          "label": "Darth Vader",
          "label_display": "center",
          "media": [
           "A New Hope",
           "The Empire Strikes Back",
           "Return of the Jedi",
           "Revenge of the Sith"
          ],
          "px": 244.966469917845,
          "py": 38.380341109304666,
          "shape": "circle",
          "shape_attrs": {
           "r": 15
          },
          "value": null,
          "weight": 28,
          "x": 244.96895629090588,
          "y": 38.35379432594209
         },
         "target": {
          "index": 1,
          "label": "Beru Whitesun lars",
          "label_display": "center",
          "media": [
           "A New Hope",
           "Attack of the Clones",
           "Revenge of the Sith"
          ],
          "px": 458.4791232792439,
          "py": 107.1414946604498,
          "shape": "circle",
          "shape_attrs": {
           "r": 15
          },
          "value": null,
          "weight": 42,
          "x": 458.49891703911413,
          "y": 107.12797987469476
         }
        },
        {
         "source": {
          "fixed": 0,
          "index": 0,
          "label": "Darth Vader",
          "label_display": "center",
          "media": [
           "A New Hope",
           "The Empire Strikes Back",
           "Return of the Jedi",
           "Revenge of the Sith"
          ],
          "px": 244.966469917845,
          "py": 38.380341109304666,
          "shape": "circle",
          "shape_attrs": {
           "r": 15
          },
          "value": null,
          "weight": 28,
          "x": 244.96895629090588,
          "y": 38.35379432594209
         },
         "target": {
          "fixed": 0,
          "index": 0,
          "label": "Darth Vader",
          "label_display": "center",
          "media": [
           "A New Hope",
           "The Empire Strikes Back",
           "Return of the Jedi",
           "Revenge of the Sith"
          ],
          "px": 244.966469917845,
          "py": 38.380341109304666,
          "shape": "circle",
          "shape_attrs": {
           "r": 15
          },
          "value": null,
          "weight": 28,
          "x": 244.96895629090588,
          "y": 38.35379432594209
         }
        },
        {
         "source": {
          "fixed": 0,
          "index": 0,
          "label": "Darth Vader",
          "label_display": "center",
          "media": [
           "A New Hope",
           "The Empire Strikes Back",
           "Return of the Jedi",
           "Revenge of the Sith"
          ],
          "px": 244.966469917845,
          "py": 38.380341109304666,
          "shape": "circle",
          "shape_attrs": {
           "r": 15
          },
          "value": null,
          "weight": 28,
          "x": 244.96895629090588,
          "y": 38.35379432594209
         },
         "target": {
          "fixed": 0,
          "index": 6,
          "label": "Mon Mothma",
          "label_display": "center",
          "media": [
           "Return of the Jedi"
          ],
          "px": 153.28828881606876,
          "py": 379.46179525973514,
          "shape": "circle",
          "shape_attrs": {
           "r": 15
          },
          "value": null,
          "weight": 12,
          "x": 153.28828881606876,
          "y": 379.46179525973514
         }
        },
        {
         "source": {
          "fixed": 0,
          "index": 6,
          "label": "Mon Mothma",
          "label_display": "center",
          "media": [
           "Return of the Jedi"
          ],
          "px": 153.28828881606876,
          "py": 379.46179525973514,
          "shape": "circle",
          "shape_attrs": {
           "r": 15
          },
          "value": null,
          "weight": 12,
          "x": 153.28828881606876,
          "y": 379.46179525973514
         },
         "target": {
          "fixed": 0,
          "index": 3,
          "label": "Jabba Desilijic Tiure",
          "label_display": "center",
          "media": [
           "A New Hope",
           "Return of the Jedi",
           "The Phantom Menace"
          ],
          "px": 341.9153436505013,
          "py": 436.45553031626577,
          "shape": "circle",
          "shape_attrs": {
           "r": 15
          },
          "value": null,
          "weight": 36,
          "x": 341.9153436505013,
          "y": 436.45553031626577
         }
        },
        {
         "source": {
          "fixed": 0,
          "index": 6,
          "label": "Mon Mothma",
          "label_display": "center",
          "media": [
           "Return of the Jedi"
          ],
          "px": 153.28828881606876,
          "py": 379.46179525973514,
          "shape": "circle",
          "shape_attrs": {
           "r": 15
          },
          "value": null,
          "weight": 12,
          "x": 153.28828881606876,
          "y": 379.46179525973514
         },
         "target": {
          "fixed": 0,
          "index": 4,
          "label": "Yoda",
          "label_display": "center",
          "media": [
           "The Empire Strikes Back",
           "Return of the Jedi",
           "The Phantom Menace",
           "Attack of the Clones",
           "Revenge of the Sith"
          ],
          "px": 196.99622753023823,
          "py": 244.76928638153402,
          "shape": "circle",
          "shape_attrs": {
           "r": 15
          },
          "value": null,
          "weight": 50,
          "x": 196.9833345800705,
          "y": 244.75049609466612
         }
        },
        {
         "source": {
          "fixed": 0,
          "index": 6,
          "label": "Mon Mothma",
          "label_display": "center",
          "media": [
           "Return of the Jedi"
          ],
          "px": 153.28828881606876,
          "py": 379.46179525973514,
          "shape": "circle",
          "shape_attrs": {
           "r": 15
          },
          "value": null,
          "weight": 12,
          "x": 153.28828881606876,
          "y": 379.46179525973514
         },
         "target": {
          "index": 2,
          "label": "Obi-Wan Kenobi",
          "label_display": "center",
          "media": [
           "A New Hope",
           "The Empire Strikes Back",
           "Return of the Jedi",
           "The Phantom Menace",
           "Attack of the Clones",
           "Revenge of the Sith"
          ],
          "px": 499.3076255945535,
          "py": 363.84576740116586,
          "shape": "circle",
          "shape_attrs": {
           "r": 15
          },
          "value": null,
          "weight": 26,
          "x": 499.3198885586289,
          "y": 363.86925757119025
         }
        },
        {
         "source": {
          "fixed": 0,
          "index": 6,
          "label": "Mon Mothma",
          "label_display": "center",
          "media": [
           "Return of the Jedi"
          ],
          "px": 153.28828881606876,
          "py": 379.46179525973514,
          "shape": "circle",
          "shape_attrs": {
           "r": 15
          },
          "value": null,
          "weight": 12,
          "x": 153.28828881606876,
          "y": 379.46179525973514
         },
         "target": {
          "index": 1,
          "label": "Beru Whitesun lars",
          "label_display": "center",
          "media": [
           "A New Hope",
           "Attack of the Clones",
           "Revenge of the Sith"
          ],
          "px": 458.4791232792439,
          "py": 107.1414946604498,
          "shape": "circle",
          "shape_attrs": {
           "r": 15
          },
          "value": null,
          "weight": 42,
          "x": 458.49891703911413,
          "y": 107.12797987469476
         }
        },
        {
         "source": {
          "fixed": 0,
          "index": 6,
          "label": "Mon Mothma",
          "label_display": "center",
          "media": [
           "Return of the Jedi"
          ],
          "px": 153.28828881606876,
          "py": 379.46179525973514,
          "shape": "circle",
          "shape_attrs": {
           "r": 15
          },
          "value": null,
          "weight": 12,
          "x": 153.28828881606876,
          "y": 379.46179525973514
         },
         "target": {
          "fixed": 0,
          "index": 0,
          "label": "Darth Vader",
          "label_display": "center",
          "media": [
           "A New Hope",
           "The Empire Strikes Back",
           "Return of the Jedi",
           "Revenge of the Sith"
          ],
          "px": 244.966469917845,
          "py": 38.380341109304666,
          "shape": "circle",
          "shape_attrs": {
           "r": 15
          },
          "value": null,
          "weight": 28,
          "x": 244.96895629090588,
          "y": 38.35379432594209
         }
        },
        {
         "source": {
          "fixed": 0,
          "index": 6,
          "label": "Mon Mothma",
          "label_display": "center",
          "media": [
           "Return of the Jedi"
          ],
          "px": 153.28828881606876,
          "py": 379.46179525973514,
          "shape": "circle",
          "shape_attrs": {
           "r": 15
          },
          "value": null,
          "weight": 12,
          "x": 153.28828881606876,
          "y": 379.46179525973514
         },
         "target": {
          "fixed": 0,
          "index": 6,
          "label": "Mon Mothma",
          "label_display": "center",
          "media": [
           "Return of the Jedi"
          ],
          "px": 153.28828881606876,
          "py": 379.46179525973514,
          "shape": "circle",
          "shape_attrs": {
           "r": 15
          },
          "value": null,
          "weight": 12,
          "x": 153.28828881606876,
          "y": 379.46179525973514
         }
        },
        {
         "source": {
          "fixed": 0,
          "index": 4,
          "label": "Yoda",
          "label_display": "center",
          "media": [
           "The Empire Strikes Back",
           "Return of the Jedi",
           "The Phantom Menace",
           "Attack of the Clones",
           "Revenge of the Sith"
          ],
          "px": 196.99622753023823,
          "py": 244.76928638153402,
          "shape": "circle",
          "shape_attrs": {
           "r": 15
          },
          "value": null,
          "weight": 50,
          "x": 196.9833345800705,
          "y": 244.75049609466612
         },
         "target": {
          "fixed": 0,
          "index": 4,
          "label": "Yoda",
          "label_display": "center",
          "media": [
           "The Empire Strikes Back",
           "Return of the Jedi",
           "The Phantom Menace",
           "Attack of the Clones",
           "Revenge of the Sith"
          ],
          "px": 196.99622753023823,
          "py": 244.76928638153402,
          "shape": "circle",
          "shape_attrs": {
           "r": 15
          },
          "value": null,
          "weight": 50,
          "x": 196.9833345800705,
          "y": 244.75049609466612
         }
        },
        {
         "source": {
          "fixed": 0,
          "index": 4,
          "label": "Yoda",
          "label_display": "center",
          "media": [
           "The Empire Strikes Back",
           "Return of the Jedi",
           "The Phantom Menace",
           "Attack of the Clones",
           "Revenge of the Sith"
          ],
          "px": 196.99622753023823,
          "py": 244.76928638153402,
          "shape": "circle",
          "shape_attrs": {
           "r": 15
          },
          "value": null,
          "weight": 50,
          "x": 196.9833345800705,
          "y": 244.75049609466612
         },
         "target": {
          "index": 2,
          "label": "Obi-Wan Kenobi",
          "label_display": "center",
          "media": [
           "A New Hope",
           "The Empire Strikes Back",
           "Return of the Jedi",
           "The Phantom Menace",
           "Attack of the Clones",
           "Revenge of the Sith"
          ],
          "px": 499.3076255945535,
          "py": 363.84576740116586,
          "shape": "circle",
          "shape_attrs": {
           "r": 15
          },
          "value": null,
          "weight": 26,
          "x": 499.3198885586289,
          "y": 363.86925757119025
         }
        },
        {
         "source": {
          "fixed": 0,
          "index": 4,
          "label": "Yoda",
          "label_display": "center",
          "media": [
           "The Empire Strikes Back",
           "Return of the Jedi",
           "The Phantom Menace",
           "Attack of the Clones",
           "Revenge of the Sith"
          ],
          "px": 196.99622753023823,
          "py": 244.76928638153402,
          "shape": "circle",
          "shape_attrs": {
           "r": 15
          },
          "value": null,
          "weight": 50,
          "x": 196.9833345800705,
          "y": 244.75049609466612
         },
         "target": {
          "index": 1,
          "label": "Beru Whitesun lars",
          "label_display": "center",
          "media": [
           "A New Hope",
           "Attack of the Clones",
           "Revenge of the Sith"
          ],
          "px": 458.4791232792439,
          "py": 107.1414946604498,
          "shape": "circle",
          "shape_attrs": {
           "r": 15
          },
          "value": null,
          "weight": 42,
          "x": 458.49891703911413,
          "y": 107.12797987469476
         }
        },
        {
         "source": {
          "index": 2,
          "label": "Obi-Wan Kenobi",
          "label_display": "center",
          "media": [
           "A New Hope",
           "The Empire Strikes Back",
           "Return of the Jedi",
           "The Phantom Menace",
           "Attack of the Clones",
           "Revenge of the Sith"
          ],
          "px": 499.3076255945535,
          "py": 363.84576740116586,
          "shape": "circle",
          "shape_attrs": {
           "r": 15
          },
          "value": null,
          "weight": 26,
          "x": 499.3198885586289,
          "y": 363.86925757119025
         },
         "target": {
          "fixed": 0,
          "index": 4,
          "label": "Yoda",
          "label_display": "center",
          "media": [
           "The Empire Strikes Back",
           "Return of the Jedi",
           "The Phantom Menace",
           "Attack of the Clones",
           "Revenge of the Sith"
          ],
          "px": 196.99622753023823,
          "py": 244.76928638153402,
          "shape": "circle",
          "shape_attrs": {
           "r": 15
          },
          "value": null,
          "weight": 50,
          "x": 196.9833345800705,
          "y": 244.75049609466612
         }
        },
        {
         "source": {
          "index": 2,
          "label": "Obi-Wan Kenobi",
          "label_display": "center",
          "media": [
           "A New Hope",
           "The Empire Strikes Back",
           "Return of the Jedi",
           "The Phantom Menace",
           "Attack of the Clones",
           "Revenge of the Sith"
          ],
          "px": 499.3076255945535,
          "py": 363.84576740116586,
          "shape": "circle",
          "shape_attrs": {
           "r": 15
          },
          "value": null,
          "weight": 26,
          "x": 499.3198885586289,
          "y": 363.86925757119025
         },
         "target": {
          "index": 2,
          "label": "Obi-Wan Kenobi",
          "label_display": "center",
          "media": [
           "A New Hope",
           "The Empire Strikes Back",
           "Return of the Jedi",
           "The Phantom Menace",
           "Attack of the Clones",
           "Revenge of the Sith"
          ],
          "px": 499.3076255945535,
          "py": 363.84576740116586,
          "shape": "circle",
          "shape_attrs": {
           "r": 15
          },
          "value": null,
          "weight": 26,
          "x": 499.3198885586289,
          "y": 363.86925757119025
         }
        },
        {
         "source": {
          "index": 2,
          "label": "Obi-Wan Kenobi",
          "label_display": "center",
          "media": [
           "A New Hope",
           "The Empire Strikes Back",
           "Return of the Jedi",
           "The Phantom Menace",
           "Attack of the Clones",
           "Revenge of the Sith"
          ],
          "px": 499.3076255945535,
          "py": 363.84576740116586,
          "shape": "circle",
          "shape_attrs": {
           "r": 15
          },
          "value": null,
          "weight": 26,
          "x": 499.3198885586289,
          "y": 363.86925757119025
         },
         "target": {
          "index": 1,
          "label": "Beru Whitesun lars",
          "label_display": "center",
          "media": [
           "A New Hope",
           "Attack of the Clones",
           "Revenge of the Sith"
          ],
          "px": 458.4791232792439,
          "py": 107.1414946604498,
          "shape": "circle",
          "shape_attrs": {
           "r": 15
          },
          "value": null,
          "weight": 42,
          "x": 458.49891703911413,
          "y": 107.12797987469476
         }
        },
        {
         "source": {
          "index": 1,
          "label": "Beru Whitesun lars",
          "label_display": "center",
          "media": [
           "A New Hope",
           "Attack of the Clones",
           "Revenge of the Sith"
          ],
          "px": 458.4791232792439,
          "py": 107.1414946604498,
          "shape": "circle",
          "shape_attrs": {
           "r": 15
          },
          "value": null,
          "weight": 42,
          "x": 458.49891703911413,
          "y": 107.12797987469476
         },
         "target": {
          "fixed": 0,
          "index": 4,
          "label": "Yoda",
          "label_display": "center",
          "media": [
           "The Empire Strikes Back",
           "Return of the Jedi",
           "The Phantom Menace",
           "Attack of the Clones",
           "Revenge of the Sith"
          ],
          "px": 196.99622753023823,
          "py": 244.76928638153402,
          "shape": "circle",
          "shape_attrs": {
           "r": 15
          },
          "value": null,
          "weight": 50,
          "x": 196.9833345800705,
          "y": 244.75049609466612
         }
        },
        {
         "source": {
          "index": 1,
          "label": "Beru Whitesun lars",
          "label_display": "center",
          "media": [
           "A New Hope",
           "Attack of the Clones",
           "Revenge of the Sith"
          ],
          "px": 458.4791232792439,
          "py": 107.1414946604498,
          "shape": "circle",
          "shape_attrs": {
           "r": 15
          },
          "value": null,
          "weight": 42,
          "x": 458.49891703911413,
          "y": 107.12797987469476
         },
         "target": {
          "index": 2,
          "label": "Obi-Wan Kenobi",
          "label_display": "center",
          "media": [
           "A New Hope",
           "The Empire Strikes Back",
           "Return of the Jedi",
           "The Phantom Menace",
           "Attack of the Clones",
           "Revenge of the Sith"
          ],
          "px": 499.3076255945535,
          "py": 363.84576740116586,
          "shape": "circle",
          "shape_attrs": {
           "r": 15
          },
          "value": null,
          "weight": 26,
          "x": 499.3198885586289,
          "y": 363.86925757119025
         }
        },
        {
         "source": {
          "index": 1,
          "label": "Beru Whitesun lars",
          "label_display": "center",
          "media": [
           "A New Hope",
           "Attack of the Clones",
           "Revenge of the Sith"
          ],
          "px": 458.4791232792439,
          "py": 107.1414946604498,
          "shape": "circle",
          "shape_attrs": {
           "r": 15
          },
          "value": null,
          "weight": 42,
          "x": 458.49891703911413,
          "y": 107.12797987469476
         },
         "target": {
          "index": 1,
          "label": "Beru Whitesun lars",
          "label_display": "center",
          "media": [
           "A New Hope",
           "Attack of the Clones",
           "Revenge of the Sith"
          ],
          "px": 458.4791232792439,
          "py": 107.1414946604498,
          "shape": "circle",
          "shape_attrs": {
           "r": 15
          },
          "value": null,
          "weight": 42,
          "x": 458.49891703911413,
          "y": 107.12797987469476
         }
        },
        {
         "source": {
          "index": 5,
          "label": "Boba Fett",
          "label_display": "center",
          "media": [
           "The Empire Strikes Back",
           "Return of the Jedi",
           "Attack of the Clones"
          ],
          "px": 548.7318427086741,
          "py": 258.5726088512628,
          "shape": "circle",
          "shape_attrs": {
           "r": 15
          },
          "value": null,
          "weight": 24,
          "x": 548.7555362854636,
          "y": 258.5701813443357
         },
         "target": {
          "index": 5,
          "label": "Boba Fett",
          "label_display": "center",
          "media": [
           "The Empire Strikes Back",
           "Return of the Jedi",
           "Attack of the Clones"
          ],
          "px": 548.7318427086741,
          "py": 258.5726088512628,
          "shape": "circle",
          "shape_attrs": {
           "r": 15
          },
          "value": null,
          "weight": 24,
          "x": 548.7555362854636,
          "y": 258.5701813443357
         }
        },
        {
         "source": {
          "index": 5,
          "label": "Boba Fett",
          "label_display": "center",
          "media": [
           "The Empire Strikes Back",
           "Return of the Jedi",
           "Attack of the Clones"
          ],
          "px": 548.7318427086741,
          "py": 258.5726088512628,
          "shape": "circle",
          "shape_attrs": {
           "r": 15
          },
          "value": null,
          "weight": 24,
          "x": 548.7555362854636,
          "y": 258.5701813443357
         },
         "target": {
          "fixed": 0,
          "index": 4,
          "label": "Yoda",
          "label_display": "center",
          "media": [
           "The Empire Strikes Back",
           "Return of the Jedi",
           "The Phantom Menace",
           "Attack of the Clones",
           "Revenge of the Sith"
          ],
          "px": 196.99622753023823,
          "py": 244.76928638153402,
          "shape": "circle",
          "shape_attrs": {
           "r": 15
          },
          "value": null,
          "weight": 50,
          "x": 196.9833345800705,
          "y": 244.75049609466612
         }
        },
        {
         "source": {
          "index": 5,
          "label": "Boba Fett",
          "label_display": "center",
          "media": [
           "The Empire Strikes Back",
           "Return of the Jedi",
           "Attack of the Clones"
          ],
          "px": 548.7318427086741,
          "py": 258.5726088512628,
          "shape": "circle",
          "shape_attrs": {
           "r": 15
          },
          "value": null,
          "weight": 24,
          "x": 548.7555362854636,
          "y": 258.5701813443357
         },
         "target": {
          "index": 1,
          "label": "Beru Whitesun lars",
          "label_display": "center",
          "media": [
           "A New Hope",
           "Attack of the Clones",
           "Revenge of the Sith"
          ],
          "px": 458.4791232792439,
          "py": 107.1414946604498,
          "shape": "circle",
          "shape_attrs": {
           "r": 15
          },
          "value": null,
          "weight": 42,
          "x": 458.49891703911413,
          "y": 107.12797987469476
         }
        },
        {
         "source": {
          "index": 5,
          "label": "Boba Fett",
          "label_display": "center",
          "media": [
           "The Empire Strikes Back",
           "Return of the Jedi",
           "Attack of the Clones"
          ],
          "px": 548.7318427086741,
          "py": 258.5726088512628,
          "shape": "circle",
          "shape_attrs": {
           "r": 15
          },
          "value": null,
          "weight": 24,
          "x": 548.7555362854636,
          "y": 258.5701813443357
         },
         "target": {
          "fixed": 0,
          "index": 0,
          "label": "Darth Vader",
          "label_display": "center",
          "media": [
           "A New Hope",
           "The Empire Strikes Back",
           "Return of the Jedi",
           "Revenge of the Sith"
          ],
          "px": 244.966469917845,
          "py": 38.380341109304666,
          "shape": "circle",
          "shape_attrs": {
           "r": 15
          },
          "value": null,
          "weight": 28,
          "x": 244.96895629090588,
          "y": 38.35379432594209
         }
        },
        {
         "source": {
          "fixed": 0,
          "index": 4,
          "label": "Yoda",
          "label_display": "center",
          "media": [
           "The Empire Strikes Back",
           "Return of the Jedi",
           "The Phantom Menace",
           "Attack of the Clones",
           "Revenge of the Sith"
          ],
          "px": 196.99622753023823,
          "py": 244.76928638153402,
          "shape": "circle",
          "shape_attrs": {
           "r": 15
          },
          "value": null,
          "weight": 50,
          "x": 196.9833345800705,
          "y": 244.75049609466612
         },
         "target": {
          "index": 5,
          "label": "Boba Fett",
          "label_display": "center",
          "media": [
           "The Empire Strikes Back",
           "Return of the Jedi",
           "Attack of the Clones"
          ],
          "px": 548.7318427086741,
          "py": 258.5726088512628,
          "shape": "circle",
          "shape_attrs": {
           "r": 15
          },
          "value": null,
          "weight": 24,
          "x": 548.7555362854636,
          "y": 258.5701813443357
         }
        },
        {
         "source": {
          "fixed": 0,
          "index": 4,
          "label": "Yoda",
          "label_display": "center",
          "media": [
           "The Empire Strikes Back",
           "Return of the Jedi",
           "The Phantom Menace",
           "Attack of the Clones",
           "Revenge of the Sith"
          ],
          "px": 196.99622753023823,
          "py": 244.76928638153402,
          "shape": "circle",
          "shape_attrs": {
           "r": 15
          },
          "value": null,
          "weight": 50,
          "x": 196.9833345800705,
          "y": 244.75049609466612
         },
         "target": {
          "fixed": 0,
          "index": 4,
          "label": "Yoda",
          "label_display": "center",
          "media": [
           "The Empire Strikes Back",
           "Return of the Jedi",
           "The Phantom Menace",
           "Attack of the Clones",
           "Revenge of the Sith"
          ],
          "px": 196.99622753023823,
          "py": 244.76928638153402,
          "shape": "circle",
          "shape_attrs": {
           "r": 15
          },
          "value": null,
          "weight": 50,
          "x": 196.9833345800705,
          "y": 244.75049609466612
         }
        },
        {
         "source": {
          "fixed": 0,
          "index": 4,
          "label": "Yoda",
          "label_display": "center",
          "media": [
           "The Empire Strikes Back",
           "Return of the Jedi",
           "The Phantom Menace",
           "Attack of the Clones",
           "Revenge of the Sith"
          ],
          "px": 196.99622753023823,
          "py": 244.76928638153402,
          "shape": "circle",
          "shape_attrs": {
           "r": 15
          },
          "value": null,
          "weight": 50,
          "x": 196.9833345800705,
          "y": 244.75049609466612
         },
         "target": {
          "index": 1,
          "label": "Beru Whitesun lars",
          "label_display": "center",
          "media": [
           "A New Hope",
           "Attack of the Clones",
           "Revenge of the Sith"
          ],
          "px": 458.4791232792439,
          "py": 107.1414946604498,
          "shape": "circle",
          "shape_attrs": {
           "r": 15
          },
          "value": null,
          "weight": 42,
          "x": 458.49891703911413,
          "y": 107.12797987469476
         }
        },
        {
         "source": {
          "fixed": 0,
          "index": 4,
          "label": "Yoda",
          "label_display": "center",
          "media": [
           "The Empire Strikes Back",
           "Return of the Jedi",
           "The Phantom Menace",
           "Attack of the Clones",
           "Revenge of the Sith"
          ],
          "px": 196.99622753023823,
          "py": 244.76928638153402,
          "shape": "circle",
          "shape_attrs": {
           "r": 15
          },
          "value": null,
          "weight": 50,
          "x": 196.9833345800705,
          "y": 244.75049609466612
         },
         "target": {
          "fixed": 0,
          "index": 0,
          "label": "Darth Vader",
          "label_display": "center",
          "media": [
           "A New Hope",
           "The Empire Strikes Back",
           "Return of the Jedi",
           "Revenge of the Sith"
          ],
          "px": 244.966469917845,
          "py": 38.380341109304666,
          "shape": "circle",
          "shape_attrs": {
           "r": 15
          },
          "value": null,
          "weight": 28,
          "x": 244.96895629090588,
          "y": 38.35379432594209
         }
        },
        {
         "source": {
          "index": 1,
          "label": "Beru Whitesun lars",
          "label_display": "center",
          "media": [
           "A New Hope",
           "Attack of the Clones",
           "Revenge of the Sith"
          ],
          "px": 458.4791232792439,
          "py": 107.1414946604498,
          "shape": "circle",
          "shape_attrs": {
           "r": 15
          },
          "value": null,
          "weight": 42,
          "x": 458.49891703911413,
          "y": 107.12797987469476
         },
         "target": {
          "index": 5,
          "label": "Boba Fett",
          "label_display": "center",
          "media": [
           "The Empire Strikes Back",
           "Return of the Jedi",
           "Attack of the Clones"
          ],
          "px": 548.7318427086741,
          "py": 258.5726088512628,
          "shape": "circle",
          "shape_attrs": {
           "r": 15
          },
          "value": null,
          "weight": 24,
          "x": 548.7555362854636,
          "y": 258.5701813443357
         }
        },
        {
         "source": {
          "index": 1,
          "label": "Beru Whitesun lars",
          "label_display": "center",
          "media": [
           "A New Hope",
           "Attack of the Clones",
           "Revenge of the Sith"
          ],
          "px": 458.4791232792439,
          "py": 107.1414946604498,
          "shape": "circle",
          "shape_attrs": {
           "r": 15
          },
          "value": null,
          "weight": 42,
          "x": 458.49891703911413,
          "y": 107.12797987469476
         },
         "target": {
          "fixed": 0,
          "index": 4,
          "label": "Yoda",
          "label_display": "center",
          "media": [
           "The Empire Strikes Back",
           "Return of the Jedi",
           "The Phantom Menace",
           "Attack of the Clones",
           "Revenge of the Sith"
          ],
          "px": 196.99622753023823,
          "py": 244.76928638153402,
          "shape": "circle",
          "shape_attrs": {
           "r": 15
          },
          "value": null,
          "weight": 50,
          "x": 196.9833345800705,
          "y": 244.75049609466612
         }
        },
        {
         "source": {
          "index": 1,
          "label": "Beru Whitesun lars",
          "label_display": "center",
          "media": [
           "A New Hope",
           "Attack of the Clones",
           "Revenge of the Sith"
          ],
          "px": 458.4791232792439,
          "py": 107.1414946604498,
          "shape": "circle",
          "shape_attrs": {
           "r": 15
          },
          "value": null,
          "weight": 42,
          "x": 458.49891703911413,
          "y": 107.12797987469476
         },
         "target": {
          "index": 1,
          "label": "Beru Whitesun lars",
          "label_display": "center",
          "media": [
           "A New Hope",
           "Attack of the Clones",
           "Revenge of the Sith"
          ],
          "px": 458.4791232792439,
          "py": 107.1414946604498,
          "shape": "circle",
          "shape_attrs": {
           "r": 15
          },
          "value": null,
          "weight": 42,
          "x": 458.49891703911413,
          "y": 107.12797987469476
         }
        },
        {
         "source": {
          "index": 1,
          "label": "Beru Whitesun lars",
          "label_display": "center",
          "media": [
           "A New Hope",
           "Attack of the Clones",
           "Revenge of the Sith"
          ],
          "px": 458.4791232792439,
          "py": 107.1414946604498,
          "shape": "circle",
          "shape_attrs": {
           "r": 15
          },
          "value": null,
          "weight": 42,
          "x": 458.49891703911413,
          "y": 107.12797987469476
         },
         "target": {
          "fixed": 0,
          "index": 0,
          "label": "Darth Vader",
          "label_display": "center",
          "media": [
           "A New Hope",
           "The Empire Strikes Back",
           "Return of the Jedi",
           "Revenge of the Sith"
          ],
          "px": 244.966469917845,
          "py": 38.380341109304666,
          "shape": "circle",
          "shape_attrs": {
           "r": 15
          },
          "value": null,
          "weight": 28,
          "x": 244.96895629090588,
          "y": 38.35379432594209
         }
        },
        {
         "source": {
          "fixed": 0,
          "index": 0,
          "label": "Darth Vader",
          "label_display": "center",
          "media": [
           "A New Hope",
           "The Empire Strikes Back",
           "Return of the Jedi",
           "Revenge of the Sith"
          ],
          "px": 244.966469917845,
          "py": 38.380341109304666,
          "shape": "circle",
          "shape_attrs": {
           "r": 15
          },
          "value": null,
          "weight": 28,
          "x": 244.96895629090588,
          "y": 38.35379432594209
         },
         "target": {
          "index": 5,
          "label": "Boba Fett",
          "label_display": "center",
          "media": [
           "The Empire Strikes Back",
           "Return of the Jedi",
           "Attack of the Clones"
          ],
          "px": 548.7318427086741,
          "py": 258.5726088512628,
          "shape": "circle",
          "shape_attrs": {
           "r": 15
          },
          "value": null,
          "weight": 24,
          "x": 548.7555362854636,
          "y": 258.5701813443357
         }
        },
        {
         "source": {
          "fixed": 0,
          "index": 0,
          "label": "Darth Vader",
          "label_display": "center",
          "media": [
           "A New Hope",
           "The Empire Strikes Back",
           "Return of the Jedi",
           "Revenge of the Sith"
          ],
          "px": 244.966469917845,
          "py": 38.380341109304666,
          "shape": "circle",
          "shape_attrs": {
           "r": 15
          },
          "value": null,
          "weight": 28,
          "x": 244.96895629090588,
          "y": 38.35379432594209
         },
         "target": {
          "fixed": 0,
          "index": 4,
          "label": "Yoda",
          "label_display": "center",
          "media": [
           "The Empire Strikes Back",
           "Return of the Jedi",
           "The Phantom Menace",
           "Attack of the Clones",
           "Revenge of the Sith"
          ],
          "px": 196.99622753023823,
          "py": 244.76928638153402,
          "shape": "circle",
          "shape_attrs": {
           "r": 15
          },
          "value": null,
          "weight": 50,
          "x": 196.9833345800705,
          "y": 244.75049609466612
         }
        },
        {
         "source": {
          "fixed": 0,
          "index": 0,
          "label": "Darth Vader",
          "label_display": "center",
          "media": [
           "A New Hope",
           "The Empire Strikes Back",
           "Return of the Jedi",
           "Revenge of the Sith"
          ],
          "px": 244.966469917845,
          "py": 38.380341109304666,
          "shape": "circle",
          "shape_attrs": {
           "r": 15
          },
          "value": null,
          "weight": 28,
          "x": 244.96895629090588,
          "y": 38.35379432594209
         },
         "target": {
          "index": 1,
          "label": "Beru Whitesun lars",
          "label_display": "center",
          "media": [
           "A New Hope",
           "Attack of the Clones",
           "Revenge of the Sith"
          ],
          "px": 458.4791232792439,
          "py": 107.1414946604498,
          "shape": "circle",
          "shape_attrs": {
           "r": 15
          },
          "value": null,
          "weight": 42,
          "x": 458.49891703911413,
          "y": 107.12797987469476
         }
        },
        {
         "source": {
          "fixed": 0,
          "index": 0,
          "label": "Darth Vader",
          "label_display": "center",
          "media": [
           "A New Hope",
           "The Empire Strikes Back",
           "Return of the Jedi",
           "Revenge of the Sith"
          ],
          "px": 244.966469917845,
          "py": 38.380341109304666,
          "shape": "circle",
          "shape_attrs": {
           "r": 15
          },
          "value": null,
          "weight": 28,
          "x": 244.96895629090588,
          "y": 38.35379432594209
         },
         "target": {
          "fixed": 0,
          "index": 0,
          "label": "Darth Vader",
          "label_display": "center",
          "media": [
           "A New Hope",
           "The Empire Strikes Back",
           "Return of the Jedi",
           "Revenge of the Sith"
          ],
          "px": 244.966469917845,
          "py": 38.380341109304666,
          "shape": "circle",
          "shape_attrs": {
           "r": 15
          },
          "value": null,
          "weight": 28,
          "x": 244.96895629090588,
          "y": 38.35379432594209
         }
        },
        {
         "source": {
          "fixed": 0,
          "index": 3,
          "label": "Jabba Desilijic Tiure",
          "label_display": "center",
          "media": [
           "A New Hope",
           "Return of the Jedi",
           "The Phantom Menace"
          ],
          "px": 341.9153436505013,
          "py": 436.45553031626577,
          "shape": "circle",
          "shape_attrs": {
           "r": 15
          },
          "value": null,
          "weight": 36,
          "x": 341.9153436505013,
          "y": 436.45553031626577
         },
         "target": {
          "fixed": 0,
          "index": 3,
          "label": "Jabba Desilijic Tiure",
          "label_display": "center",
          "media": [
           "A New Hope",
           "Return of the Jedi",
           "The Phantom Menace"
          ],
          "px": 341.9153436505013,
          "py": 436.45553031626577,
          "shape": "circle",
          "shape_attrs": {
           "r": 15
          },
          "value": null,
          "weight": 36,
          "x": 341.9153436505013,
          "y": 436.45553031626577
         }
        },
        {
         "source": {
          "fixed": 0,
          "index": 3,
          "label": "Jabba Desilijic Tiure",
          "label_display": "center",
          "media": [
           "A New Hope",
           "Return of the Jedi",
           "The Phantom Menace"
          ],
          "px": 341.9153436505013,
          "py": 436.45553031626577,
          "shape": "circle",
          "shape_attrs": {
           "r": 15
          },
          "value": null,
          "weight": 36,
          "x": 341.9153436505013,
          "y": 436.45553031626577
         },
         "target": {
          "index": 5,
          "label": "Boba Fett",
          "label_display": "center",
          "media": [
           "The Empire Strikes Back",
           "Return of the Jedi",
           "Attack of the Clones"
          ],
          "px": 548.7318427086741,
          "py": 258.5726088512628,
          "shape": "circle",
          "shape_attrs": {
           "r": 15
          },
          "value": null,
          "weight": 24,
          "x": 548.7555362854636,
          "y": 258.5701813443357
         }
        },
        {
         "source": {
          "fixed": 0,
          "index": 3,
          "label": "Jabba Desilijic Tiure",
          "label_display": "center",
          "media": [
           "A New Hope",
           "Return of the Jedi",
           "The Phantom Menace"
          ],
          "px": 341.9153436505013,
          "py": 436.45553031626577,
          "shape": "circle",
          "shape_attrs": {
           "r": 15
          },
          "value": null,
          "weight": 36,
          "x": 341.9153436505013,
          "y": 436.45553031626577
         },
         "target": {
          "fixed": 0,
          "index": 4,
          "label": "Yoda",
          "label_display": "center",
          "media": [
           "The Empire Strikes Back",
           "Return of the Jedi",
           "The Phantom Menace",
           "Attack of the Clones",
           "Revenge of the Sith"
          ],
          "px": 196.99622753023823,
          "py": 244.76928638153402,
          "shape": "circle",
          "shape_attrs": {
           "r": 15
          },
          "value": null,
          "weight": 50,
          "x": 196.9833345800705,
          "y": 244.75049609466612
         }
        },
        {
         "source": {
          "fixed": 0,
          "index": 3,
          "label": "Jabba Desilijic Tiure",
          "label_display": "center",
          "media": [
           "A New Hope",
           "Return of the Jedi",
           "The Phantom Menace"
          ],
          "px": 341.9153436505013,
          "py": 436.45553031626577,
          "shape": "circle",
          "shape_attrs": {
           "r": 15
          },
          "value": null,
          "weight": 36,
          "x": 341.9153436505013,
          "y": 436.45553031626577
         },
         "target": {
          "index": 1,
          "label": "Beru Whitesun lars",
          "label_display": "center",
          "media": [
           "A New Hope",
           "Attack of the Clones",
           "Revenge of the Sith"
          ],
          "px": 458.4791232792439,
          "py": 107.1414946604498,
          "shape": "circle",
          "shape_attrs": {
           "r": 15
          },
          "value": null,
          "weight": 42,
          "x": 458.49891703911413,
          "y": 107.12797987469476
         }
        },
        {
         "source": {
          "index": 5,
          "label": "Boba Fett",
          "label_display": "center",
          "media": [
           "The Empire Strikes Back",
           "Return of the Jedi",
           "Attack of the Clones"
          ],
          "px": 548.7318427086741,
          "py": 258.5726088512628,
          "shape": "circle",
          "shape_attrs": {
           "r": 15
          },
          "value": null,
          "weight": 24,
          "x": 548.7555362854636,
          "y": 258.5701813443357
         },
         "target": {
          "fixed": 0,
          "index": 3,
          "label": "Jabba Desilijic Tiure",
          "label_display": "center",
          "media": [
           "A New Hope",
           "Return of the Jedi",
           "The Phantom Menace"
          ],
          "px": 341.9153436505013,
          "py": 436.45553031626577,
          "shape": "circle",
          "shape_attrs": {
           "r": 15
          },
          "value": null,
          "weight": 36,
          "x": 341.9153436505013,
          "y": 436.45553031626577
         }
        },
        {
         "source": {
          "index": 5,
          "label": "Boba Fett",
          "label_display": "center",
          "media": [
           "The Empire Strikes Back",
           "Return of the Jedi",
           "Attack of the Clones"
          ],
          "px": 548.7318427086741,
          "py": 258.5726088512628,
          "shape": "circle",
          "shape_attrs": {
           "r": 15
          },
          "value": null,
          "weight": 24,
          "x": 548.7555362854636,
          "y": 258.5701813443357
         },
         "target": {
          "index": 5,
          "label": "Boba Fett",
          "label_display": "center",
          "media": [
           "The Empire Strikes Back",
           "Return of the Jedi",
           "Attack of the Clones"
          ],
          "px": 548.7318427086741,
          "py": 258.5726088512628,
          "shape": "circle",
          "shape_attrs": {
           "r": 15
          },
          "value": null,
          "weight": 24,
          "x": 548.7555362854636,
          "y": 258.5701813443357
         }
        },
        {
         "source": {
          "index": 5,
          "label": "Boba Fett",
          "label_display": "center",
          "media": [
           "The Empire Strikes Back",
           "Return of the Jedi",
           "Attack of the Clones"
          ],
          "px": 548.7318427086741,
          "py": 258.5726088512628,
          "shape": "circle",
          "shape_attrs": {
           "r": 15
          },
          "value": null,
          "weight": 24,
          "x": 548.7555362854636,
          "y": 258.5701813443357
         },
         "target": {
          "fixed": 0,
          "index": 4,
          "label": "Yoda",
          "label_display": "center",
          "media": [
           "The Empire Strikes Back",
           "Return of the Jedi",
           "The Phantom Menace",
           "Attack of the Clones",
           "Revenge of the Sith"
          ],
          "px": 196.99622753023823,
          "py": 244.76928638153402,
          "shape": "circle",
          "shape_attrs": {
           "r": 15
          },
          "value": null,
          "weight": 50,
          "x": 196.9833345800705,
          "y": 244.75049609466612
         }
        },
        {
         "source": {
          "index": 5,
          "label": "Boba Fett",
          "label_display": "center",
          "media": [
           "The Empire Strikes Back",
           "Return of the Jedi",
           "Attack of the Clones"
          ],
          "px": 548.7318427086741,
          "py": 258.5726088512628,
          "shape": "circle",
          "shape_attrs": {
           "r": 15
          },
          "value": null,
          "weight": 24,
          "x": 548.7555362854636,
          "y": 258.5701813443357
         },
         "target": {
          "index": 1,
          "label": "Beru Whitesun lars",
          "label_display": "center",
          "media": [
           "A New Hope",
           "Attack of the Clones",
           "Revenge of the Sith"
          ],
          "px": 458.4791232792439,
          "py": 107.1414946604498,
          "shape": "circle",
          "shape_attrs": {
           "r": 15
          },
          "value": null,
          "weight": 42,
          "x": 458.49891703911413,
          "y": 107.12797987469476
         }
        },
        {
         "source": {
          "fixed": 0,
          "index": 4,
          "label": "Yoda",
          "label_display": "center",
          "media": [
           "The Empire Strikes Back",
           "Return of the Jedi",
           "The Phantom Menace",
           "Attack of the Clones",
           "Revenge of the Sith"
          ],
          "px": 196.99622753023823,
          "py": 244.76928638153402,
          "shape": "circle",
          "shape_attrs": {
           "r": 15
          },
          "value": null,
          "weight": 50,
          "x": 196.9833345800705,
          "y": 244.75049609466612
         },
         "target": {
          "fixed": 0,
          "index": 3,
          "label": "Jabba Desilijic Tiure",
          "label_display": "center",
          "media": [
           "A New Hope",
           "Return of the Jedi",
           "The Phantom Menace"
          ],
          "px": 341.9153436505013,
          "py": 436.45553031626577,
          "shape": "circle",
          "shape_attrs": {
           "r": 15
          },
          "value": null,
          "weight": 36,
          "x": 341.9153436505013,
          "y": 436.45553031626577
         }
        },
        {
         "source": {
          "fixed": 0,
          "index": 4,
          "label": "Yoda",
          "label_display": "center",
          "media": [
           "The Empire Strikes Back",
           "Return of the Jedi",
           "The Phantom Menace",
           "Attack of the Clones",
           "Revenge of the Sith"
          ],
          "px": 196.99622753023823,
          "py": 244.76928638153402,
          "shape": "circle",
          "shape_attrs": {
           "r": 15
          },
          "value": null,
          "weight": 50,
          "x": 196.9833345800705,
          "y": 244.75049609466612
         },
         "target": {
          "index": 5,
          "label": "Boba Fett",
          "label_display": "center",
          "media": [
           "The Empire Strikes Back",
           "Return of the Jedi",
           "Attack of the Clones"
          ],
          "px": 548.7318427086741,
          "py": 258.5726088512628,
          "shape": "circle",
          "shape_attrs": {
           "r": 15
          },
          "value": null,
          "weight": 24,
          "x": 548.7555362854636,
          "y": 258.5701813443357
         }
        },
        {
         "source": {
          "fixed": 0,
          "index": 4,
          "label": "Yoda",
          "label_display": "center",
          "media": [
           "The Empire Strikes Back",
           "Return of the Jedi",
           "The Phantom Menace",
           "Attack of the Clones",
           "Revenge of the Sith"
          ],
          "px": 196.99622753023823,
          "py": 244.76928638153402,
          "shape": "circle",
          "shape_attrs": {
           "r": 15
          },
          "value": null,
          "weight": 50,
          "x": 196.9833345800705,
          "y": 244.75049609466612
         },
         "target": {
          "fixed": 0,
          "index": 4,
          "label": "Yoda",
          "label_display": "center",
          "media": [
           "The Empire Strikes Back",
           "Return of the Jedi",
           "The Phantom Menace",
           "Attack of the Clones",
           "Revenge of the Sith"
          ],
          "px": 196.99622753023823,
          "py": 244.76928638153402,
          "shape": "circle",
          "shape_attrs": {
           "r": 15
          },
          "value": null,
          "weight": 50,
          "x": 196.9833345800705,
          "y": 244.75049609466612
         }
        },
        {
         "source": {
          "fixed": 0,
          "index": 4,
          "label": "Yoda",
          "label_display": "center",
          "media": [
           "The Empire Strikes Back",
           "Return of the Jedi",
           "The Phantom Menace",
           "Attack of the Clones",
           "Revenge of the Sith"
          ],
          "px": 196.99622753023823,
          "py": 244.76928638153402,
          "shape": "circle",
          "shape_attrs": {
           "r": 15
          },
          "value": null,
          "weight": 50,
          "x": 196.9833345800705,
          "y": 244.75049609466612
         },
         "target": {
          "index": 1,
          "label": "Beru Whitesun lars",
          "label_display": "center",
          "media": [
           "A New Hope",
           "Attack of the Clones",
           "Revenge of the Sith"
          ],
          "px": 458.4791232792439,
          "py": 107.1414946604498,
          "shape": "circle",
          "shape_attrs": {
           "r": 15
          },
          "value": null,
          "weight": 42,
          "x": 458.49891703911413,
          "y": 107.12797987469476
         }
        },
        {
         "source": {
          "index": 1,
          "label": "Beru Whitesun lars",
          "label_display": "center",
          "media": [
           "A New Hope",
           "Attack of the Clones",
           "Revenge of the Sith"
          ],
          "px": 458.4791232792439,
          "py": 107.1414946604498,
          "shape": "circle",
          "shape_attrs": {
           "r": 15
          },
          "value": null,
          "weight": 42,
          "x": 458.49891703911413,
          "y": 107.12797987469476
         },
         "target": {
          "fixed": 0,
          "index": 3,
          "label": "Jabba Desilijic Tiure",
          "label_display": "center",
          "media": [
           "A New Hope",
           "Return of the Jedi",
           "The Phantom Menace"
          ],
          "px": 341.9153436505013,
          "py": 436.45553031626577,
          "shape": "circle",
          "shape_attrs": {
           "r": 15
          },
          "value": null,
          "weight": 36,
          "x": 341.9153436505013,
          "y": 436.45553031626577
         }
        },
        {
         "source": {
          "index": 1,
          "label": "Beru Whitesun lars",
          "label_display": "center",
          "media": [
           "A New Hope",
           "Attack of the Clones",
           "Revenge of the Sith"
          ],
          "px": 458.4791232792439,
          "py": 107.1414946604498,
          "shape": "circle",
          "shape_attrs": {
           "r": 15
          },
          "value": null,
          "weight": 42,
          "x": 458.49891703911413,
          "y": 107.12797987469476
         },
         "target": {
          "index": 5,
          "label": "Boba Fett",
          "label_display": "center",
          "media": [
           "The Empire Strikes Back",
           "Return of the Jedi",
           "Attack of the Clones"
          ],
          "px": 548.7318427086741,
          "py": 258.5726088512628,
          "shape": "circle",
          "shape_attrs": {
           "r": 15
          },
          "value": null,
          "weight": 24,
          "x": 548.7555362854636,
          "y": 258.5701813443357
         }
        },
        {
         "source": {
          "index": 1,
          "label": "Beru Whitesun lars",
          "label_display": "center",
          "media": [
           "A New Hope",
           "Attack of the Clones",
           "Revenge of the Sith"
          ],
          "px": 458.4791232792439,
          "py": 107.1414946604498,
          "shape": "circle",
          "shape_attrs": {
           "r": 15
          },
          "value": null,
          "weight": 42,
          "x": 458.49891703911413,
          "y": 107.12797987469476
         },
         "target": {
          "fixed": 0,
          "index": 4,
          "label": "Yoda",
          "label_display": "center",
          "media": [
           "The Empire Strikes Back",
           "Return of the Jedi",
           "The Phantom Menace",
           "Attack of the Clones",
           "Revenge of the Sith"
          ],
          "px": 196.99622753023823,
          "py": 244.76928638153402,
          "shape": "circle",
          "shape_attrs": {
           "r": 15
          },
          "value": null,
          "weight": 50,
          "x": 196.9833345800705,
          "y": 244.75049609466612
         }
        },
        {
         "source": {
          "index": 1,
          "label": "Beru Whitesun lars",
          "label_display": "center",
          "media": [
           "A New Hope",
           "Attack of the Clones",
           "Revenge of the Sith"
          ],
          "px": 458.4791232792439,
          "py": 107.1414946604498,
          "shape": "circle",
          "shape_attrs": {
           "r": 15
          },
          "value": null,
          "weight": 42,
          "x": 458.49891703911413,
          "y": 107.12797987469476
         },
         "target": {
          "index": 1,
          "label": "Beru Whitesun lars",
          "label_display": "center",
          "media": [
           "A New Hope",
           "Attack of the Clones",
           "Revenge of the Sith"
          ],
          "px": 458.4791232792439,
          "py": 107.1414946604498,
          "shape": "circle",
          "shape_attrs": {
           "r": 15
          },
          "value": null,
          "weight": 42,
          "x": 458.49891703911413,
          "y": 107.12797987469476
         }
        }
       ],
       "link_distance": 300,
       "link_matrix": {
        "type": "float",
        "values": []
       },
       "link_type": "arc",
       "node_data": [
        {
         "fixed": 0,
         "index": 0,
         "label": "Darth Vader",
         "label_display": "center",
         "media": [
          "A New Hope",
          "The Empire Strikes Back",
          "Return of the Jedi",
          "Revenge of the Sith"
         ],
         "px": 244.966469917845,
         "py": 38.380341109304666,
         "shape": "circle",
         "shape_attrs": {
          "r": 15
         },
         "value": null,
         "weight": 28,
         "x": 244.96895629090588,
         "y": 38.35379432594209
        },
        {
         "index": 1,
         "label": "Beru Whitesun lars",
         "label_display": "center",
         "media": [
          "A New Hope",
          "Attack of the Clones",
          "Revenge of the Sith"
         ],
         "px": 458.4791232792439,
         "py": 107.1414946604498,
         "shape": "circle",
         "shape_attrs": {
          "r": 15
         },
         "value": null,
         "weight": 42,
         "x": 458.49891703911413,
         "y": 107.12797987469476
        },
        {
         "index": 2,
         "label": "Obi-Wan Kenobi",
         "label_display": "center",
         "media": [
          "A New Hope",
          "The Empire Strikes Back",
          "Return of the Jedi",
          "The Phantom Menace",
          "Attack of the Clones",
          "Revenge of the Sith"
         ],
         "px": 499.3076255945535,
         "py": 363.84576740116586,
         "shape": "circle",
         "shape_attrs": {
          "r": 15
         },
         "value": null,
         "weight": 26,
         "x": 499.3198885586289,
         "y": 363.86925757119025
        },
        {
         "fixed": 0,
         "index": 3,
         "label": "Jabba Desilijic Tiure",
         "label_display": "center",
         "media": [
          "A New Hope",
          "Return of the Jedi",
          "The Phantom Menace"
         ],
         "px": 341.9153436505013,
         "py": 436.45553031626577,
         "shape": "circle",
         "shape_attrs": {
          "r": 15
         },
         "value": null,
         "weight": 36,
         "x": 341.9153436505013,
         "y": 436.45553031626577
        },
        {
         "fixed": 0,
         "index": 4,
         "label": "Yoda",
         "label_display": "center",
         "media": [
          "The Empire Strikes Back",
          "Return of the Jedi",
          "The Phantom Menace",
          "Attack of the Clones",
          "Revenge of the Sith"
         ],
         "px": 196.99622753023823,
         "py": 244.76928638153402,
         "shape": "circle",
         "shape_attrs": {
          "r": 15
         },
         "value": null,
         "weight": 50,
         "x": 196.9833345800705,
         "y": 244.75049609466612
        },
        {
         "index": 5,
         "label": "Boba Fett",
         "label_display": "center",
         "media": [
          "The Empire Strikes Back",
          "Return of the Jedi",
          "Attack of the Clones"
         ],
         "px": 548.7318427086741,
         "py": 258.5726088512628,
         "shape": "circle",
         "shape_attrs": {
          "r": 15
         },
         "value": null,
         "weight": 24,
         "x": 548.7555362854636,
         "y": 258.5701813443357
        },
        {
         "fixed": 0,
         "index": 6,
         "label": "Mon Mothma",
         "label_display": "center",
         "media": [
          "Return of the Jedi"
         ],
         "px": 153.28828881606876,
         "py": 379.46179525973514,
         "shape": "circle",
         "shape_attrs": {
          "r": 15
         },
         "value": null,
         "weight": 12,
         "x": 153.28828881606876,
         "y": 379.46179525973514
        }
       ],
       "preserve_domain": {},
       "scales": {},
       "scales_metadata": {
        "color": {
         "dimension": "color"
        },
        "link_color": {
         "dimension": "link_color"
        },
        "x": {
         "dimension": "x",
         "orientation": "horizontal"
        },
        "y": {
         "dimension": "y",
         "orientation": "vertical"
        }
       },
       "selected": [
        3
       ],
       "selected_style": {},
       "tooltip": "IPY_MODEL_7ba8ddd0ad2f4e76bb606256a60eb508",
       "tooltip_location": "mouse",
       "tooltip_style": {
        "opacity": 0.9
       },
       "unhovered_style": {},
       "unselected_style": {},
       "visible": true,
       "x": {
        "type": "float",
        "values": []
       },
       "y": {
        "type": "float",
        "values": []
       }
      }
     },
     "8a8e7b2b66794857a2ab28d153769a50": {
      "model_module": "bqplot",
      "model_module_version": "^0.4.1",
      "model_name": "LinearScaleModel",
      "state": {
       "_model_module_version": "^0.4.1",
       "_view_module_version": "^0.4.1",
       "allow_padding": false,
       "max": 1,
       "min": 0,
       "stabilized": false
      }
     },
     "8aa9199400de4725bb25b062906b6ce6": {
      "model_module": "@jupyter-widgets/base",
      "model_module_version": "1.1.0",
      "model_name": "LayoutModel",
      "state": {
       "height": "500px",
       "min_width": "125px",
       "width": "700px"
      }
     },
     "983de5fb7498432f9bfaa4896d501a95": {
      "model_module": "bqplot",
      "model_module_version": "^0.4.1",
      "model_name": "FigureModel",
      "state": {
       "_dom_classes": [],
       "_model_module_version": "^0.4.1",
       "_view_module_version": "^0.4.1",
       "fig_margin": {
        "bottom": 10,
        "left": 0,
        "right": 0,
        "top": 0
       },
       "layout": "IPY_MODEL_8aa9199400de4725bb25b062906b6ce6",
       "marks": [
        "IPY_MODEL_853bfc1a4b674e4ca9fc53724d82f257"
       ],
       "scale_x": "IPY_MODEL_ff767bc172e7499e8f5c8e56a889beba",
       "scale_y": "IPY_MODEL_8a8e7b2b66794857a2ab28d153769a50",
       "title": "Star War characters with the link as common movies"
      }
     },
     "a610dd4d5b2243598411ea6b51cc4762": {
      "model_module": "bqplot",
      "model_module_version": "^0.4.1",
      "model_name": "LinearScaleModel",
      "state": {
       "_model_module_version": "^0.4.1",
       "_view_module_version": "^0.4.1",
       "allow_padding": false,
       "max": 1,
       "min": 0,
       "stabilized": false
      }
     },
     "b21f4c47cba64118b20aa1948d61942e": {
      "model_module": "bqplot",
      "model_module_version": "^0.4.1",
      "model_name": "FigureModel",
      "state": {
       "_dom_classes": [],
       "_model_module_version": "^0.4.1",
       "_view_module_version": "^0.4.1",
       "fig_margin": {
        "bottom": 10,
        "left": 0,
        "right": 0,
        "top": 0
       },
       "layout": "IPY_MODEL_f5009f8367d944c5b1221fc13e377451",
       "marks": [
        "IPY_MODEL_74dfaf8b598346bc83eaa2266d81acab"
       ],
       "scale_x": "IPY_MODEL_7f5ced3fbc864cc6bae9c399ef59e945",
       "scale_y": "IPY_MODEL_4592309216ee482fb04e4728f3d14dd1",
       "title": "Star War characters with the link as common movies"
      }
     },
     "c4b4f88082984fe188f017a97b04720b": {
      "model_module": "@jupyter-widgets/base",
      "model_module_version": "1.1.0",
      "model_name": "LayoutModel",
      "state": {}
     },
     "c4d936fe37a340d2a0883f5f5e3eb88b": {
      "model_module": "bqplot",
      "model_module_version": "^0.4.1",
      "model_name": "TooltipModel",
      "state": {
       "_model_module_version": "^0.4.1",
       "_view_module_version": "^0.4.1",
       "fields": [
        "label",
        "media"
       ],
       "layout": "IPY_MODEL_d00db81b758044229dc71a2dfd3c6172"
      }
     },
     "cd4a2137a22b4481a604fa61511e0173": {
      "model_module": "bqplot",
      "model_module_version": "^0.4.1",
      "model_name": "FigureModel",
      "state": {
       "_dom_classes": [],
       "_model_module_version": "^0.4.1",
       "_view_module_version": "^0.4.1",
       "fig_margin": {
        "bottom": 10,
        "left": 0,
        "right": 0,
        "top": 0
       },
       "layout": "IPY_MODEL_30fed0ed2e974e41bc9d93f36eff5db0",
       "marks": [
        "IPY_MODEL_649679f9c871417bb40dcbaae52c16c9"
       ],
       "scale_x": "IPY_MODEL_a610dd4d5b2243598411ea6b51cc4762",
       "scale_y": "IPY_MODEL_3db037b346454050ab6245c814028d69",
       "title": "Star War characters with the link as common movies"
      }
     },
     "d00db81b758044229dc71a2dfd3c6172": {
      "model_module": "@jupyter-widgets/base",
      "model_module_version": "1.1.0",
      "model_name": "LayoutModel",
      "state": {}
     },
     "deb035e41e944eee9291a69b5337b848": {
      "model_module": "@jupyter-widgets/base",
      "model_module_version": "1.1.0",
      "model_name": "LayoutModel",
      "state": {}
     },
     "f5009f8367d944c5b1221fc13e377451": {
      "model_module": "@jupyter-widgets/base",
      "model_module_version": "1.1.0",
      "model_name": "LayoutModel",
      "state": {
       "height": "500px",
       "min_width": "125px",
       "width": "700px"
      }
     },
     "ff767bc172e7499e8f5c8e56a889beba": {
      "model_module": "bqplot",
      "model_module_version": "^0.4.1",
      "model_name": "LinearScaleModel",
      "state": {
       "_model_module_version": "^0.4.1",
       "_view_module_version": "^0.4.1",
       "allow_padding": false,
       "max": 1,
       "min": 0,
       "stabilized": false
      }
     }
    },
    "version_major": 2,
    "version_minor": 0
   }
  }
 },
 "nbformat": 4,
 "nbformat_minor": 2
}
